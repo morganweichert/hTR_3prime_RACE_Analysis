{
 "cells": [
  {
   "cell_type": "markdown",
   "metadata": {
    "run_control": {
     "frozen": false,
     "read_only": false
    }
   },
   "source": [
    "# 3' Rapid Amplification of cDNA Ends (RACE) of human telomerase (hTR) gene Analysis\n",
    "    author: Morgan R Weichert\n",
    "    email: morgan@baumannlab.org"
   ]
  },
  {
   "cell_type": "markdown",
   "metadata": {
    "heading_collapsed": true,
    "run_control": {
     "frozen": false,
     "read_only": false
    }
   },
   "source": [
    "###### Input dataset "
   ]
  },
  {
   "cell_type": "markdown",
   "metadata": {
    "ExecuteTime": {
     "end_time": "2018-01-20T19:23:50.578655Z",
     "start_time": "2018-01-20T19:23:50.567931Z"
    },
    "hidden": true,
    "run_control": {
     "frozen": false,
     "read_only": false
    }
   },
   "source": [
    "| Data         | Location                                       | Type   | Read Length | Lanes|\n",
    "|-------------------|------------------------------------------------|--------|-------------|----|\n",
    "| Seqence directory | /path/to/raw/data/| Paried |         RapidSeq-250 |2|"
   ]
  },
  {
   "cell_type": "markdown",
   "metadata": {
    "hidden": true,
    "run_control": {
     "frozen": false,
     "read_only": false
    }
   },
   "source": [
    "> The amplicons contain (from 5' to 3'):\n",
    "- 10 nt Molecular Barcode: NNNNNNNNNN\n",
    "    - barcode is for removing PCR duplicates/bias\n",
    "- hTR-specific primer: CAGGAAGAGGAACGGAGCGAGT\n",
    "- hTR insert sequence (variable ending position): CCCCGCGCGCGGCGCGATTCCCTGAGCTGTGGGACGTGCACCCAGGACTCGGCTCACACATGC\n",
    "- ntna (non-templated nucleotide addition) sequence: variable length & sequence\n",
    "    - ntna sequence includes polyA tails or any other sequence that is not the reference hTR sequence\n",
    "- linker (adaptor) sequence: TTTAACCGCGAATTCCAG\n",
    "    - the linker seq will be variable length depending on how long the hTR sequence is and how long the ntna sequence is\n",
    "- AC-index\n",
    "- P7 Adapter: ATCTCGTATGCCGTCTTCTGCTTG"
   ]
  },
  {
   "cell_type": "markdown",
   "metadata": {
    "heading_collapsed": true,
    "run_control": {
     "frozen": false,
     "read_only": false
    }
   },
   "source": [
    "###### import python packages"
   ]
  },
  {
   "cell_type": "code",
   "execution_count": 3,
   "metadata": {
    "ExecuteTime": {
     "end_time": "2018-01-20T20:26:27.941966Z",
     "start_time": "2018-01-20T20:26:20.224788Z"
    },
    "hidden": true,
    "run_control": {
     "frozen": false,
     "read_only": false
    }
   },
   "outputs": [],
   "source": [
    "import os\n",
    "import re\n",
    "import gzip\n",
    "import glob\n",
    "import regex\n",
    "import commands\n",
    "import subprocess\n",
    "import numpy as np\n",
    "import pandas as pd\n",
    "from Bio import Seq\n",
    "from Bio import SeqIO\n",
    "from collections import Counter"
   ]
  },
  {
   "cell_type": "markdown",
   "metadata": {
    "heading_collapsed": true,
    "run_control": {
     "frozen": false,
     "read_only": false
    }
   },
   "source": [
    "## raw reads to analysis ready reads"
   ]
  },
  {
   "cell_type": "markdown",
   "metadata": {
    "heading_collapsed": true,
    "hidden": true,
    "run_control": {
     "frozen": false,
     "read_only": false
    }
   },
   "source": [
    "### create symbolic links to raw data\n",
    "this saves space by pointing to the raw fastq files so that I don't need to copy them into my own directory"
   ]
  },
  {
   "cell_type": "code",
   "execution_count": null,
   "metadata": {
    "ExecuteTime": {
     "end_time": "2018-01-20T19:41:55.469397Z",
     "start_time": "2018-01-20T19:41:55.461082Z"
    },
    "collapsed": true,
    "hidden": true,
    "run_control": {
     "frozen": true,
     "read_only": true
    }
   },
   "outputs": [],
   "source": [
    "# %load /home/msr/general_scripts/create_symlinks_to_data.R\n",
    "#!/n/apps/CentOS7/bin/Rscript\n",
    "\n",
    "#################################################################################################\n",
    "# R script for matching fastq names from machine (s_lane_read_index.fastq) \n",
    "# to the sample name given in the sample report (control_1) \n",
    "# and creates raw_data directory containing symbolic links to the renamed fastq files.\n",
    "# The symbolic linked fastq files have renamed format samplename_lane_read.fastq\n",
    "\n",
    "# This script is to be ran on the command line giving a directory to the raw data\n",
    "# Example: $ create_symlinks_to_data.R /path/to/raw/data/\n",
    "# This script also assumes there is a SampleReport.csv file in the given directory\n",
    "# containg a column 'Output' and a column 'SampleNames'\n",
    "#################################################################################################\n",
    "\n",
    "args = commandArgs(trailingOnly = TRUE) # script expects arguments trailing\n",
    "fc.dir <- args[1] # the first argument is the flowcell directory\n",
    "\n",
    "################ parse sample report ############################################################\n",
    "molng <- unlist(strsplit(fc.dir, '/'))[6] # this is the sequenced order ID\n",
    "\n",
    "fqs <- list.files(fc.dir, \"[ACGT].+\\\\.fastq\\\\.gz\", full = TRUE) # list of the fastq files\n",
    "#print(length(fqs)) # check number of samples matches\n",
    "\n",
    "report <- read.csv(list.files(fc.dir, \"Report\\\\.csv\", full = TRUE)) # read in the SampleReport.csv\n",
    "# subset the sample report to ony this sqeuencing order\n",
    "# this is required because sometime multipe separate orders are sequenced together\n",
    "report <- subset(report, report$Order == molng) \n",
    "#print(unique(report$SampleName)) # if you want to check the sample names\n",
    "\n",
    "# match the sample name (control_1) to the machine name (s_lane_read_index)\n",
    "samples <- as.character(report$SampleName[match(basename(fqs), report$Output)]) \n",
    "#print(unique(samples)) # check matching correctly\n",
    "\n",
    "lanes <- as.character(report$Lane[match(basename(fqs), report$Output)]) # grab the corresponding lane\n",
    "read <- as.character(report$Read[match(basename(fqs), report$Output)]) # grab the corresponding read \n",
    "                                                                      # (1 fw read, 2 rev read)\n",
    "#####################################################################################################\n",
    "\n",
    "# create file paths with new name format sample_lane_read\n",
    "links <- file.path(\"raw_data\",\n",
    "                   paste0(paste(samples,lanes,read,sep=\"_\"),\".fastq.gz\"))\n",
    "# print(links) # check this works\n",
    "\n",
    "####### create raw_data direcotry with create symlinks ################\n",
    "dir.create(\"raw_data\",FALSE,TRUE) # give FALSE if file alread exists    \n",
    "file.symlink(fqs,links)\n",
    "warnings()\n",
    "#####################################################################################################\n"
   ]
  },
  {
   "cell_type": "code",
   "execution_count": null,
   "metadata": {
    "collapsed": true,
    "hidden": true,
    "run_control": {
     "frozen": false,
     "read_only": false
    }
   },
   "outputs": [],
   "source": [
    "%%bash \n",
    "\n",
    "create_symlinks_to_data.R /path/to/raw/data/"
   ]
  },
  {
   "cell_type": "markdown",
   "metadata": {
    "heading_collapsed": true,
    "hidden": true,
    "run_control": {
     "frozen": false,
     "read_only": false
    }
   },
   "source": [
    "### Raw Read Counts per Sample"
   ]
  },
  {
   "cell_type": "code",
   "execution_count": null,
   "metadata": {
    "ExecuteTime": {
     "end_time": "2018-01-20T20:28:04.235728Z",
     "start_time": "2018-01-20T20:28:04.220700Z"
    },
    "collapsed": true,
    "hidden": true,
    "run_control": {
     "frozen": true,
     "read_only": true
    }
   },
   "outputs": [],
   "source": [
    "# %load /home/msr/general_scripts/count_reads_per_sample.py\n",
    "#!/home/msr/bin/anaconda/bin/python\n",
    "\n",
    "\"\"\"\n",
    "python script for counting reads in fastq file\n",
    "run on command line and specify (1) directory of fastq files and (2) output tsv file name\n",
    "assumes sample naming convention of samplename_lane_read.fastq.gz\n",
    "Example: \n",
    "$ count_number_single_reads_per_sample.py -indir ./raw_data/ -outfile raw_read_counts_per_sample.tsv\n",
    "\"\"\"\n",
    "\n",
    "import os\n",
    "import re\n",
    "import argparse\n",
    "import commands\n",
    "import pandas as pd\n",
    "\n",
    "################################ set up user input ##############################################\n",
    "parser = argparse.ArgumentParser(\n",
    "    description='Count number of reads for each file in dir')\n",
    "# define arguments\n",
    "parser.add_argument('-indir', type=str, required=True,\n",
    "                    help='input directory of gzipped fastq files')\n",
    "parser.add_argument('-outfile', type=str, required=True,\n",
    "                    help='path to tsv output file')\n",
    "args = parser.parse_args()\n",
    "#################################################################################################\n",
    "\n",
    "df = pd.DataFrame()  # initialize dataframe\n",
    "\n",
    "#################################################################################################\n",
    "for i in os.listdir(args.indir): # for each file (i) in the given directory\n",
    "    \n",
    "    # here samples are named samplename_lane_read.fastq.gz\n",
    "    sample_name = re.split(r'_([0-9])_([0-9]).fastq', i)[0]  # grap sample name\n",
    "    read = re.split('_', re.split(r'.fastq', i)[0])[-1]  # grab read number (1=fw, 2=rev)\n",
    "    lane = re.split('_', re.split(r'.fastq', i)[0])[-2]  # grab lane number\n",
    "\n",
    "    # unix to count num lines in file\n",
    "    lane_lines = commands.getoutput('zcat ' + args.indir + i + '| wc -l')\n",
    "    # divide by 4 for to get number of reads for fastq files\n",
    "    lane_reads = int(lane_lines) / 4.0\n",
    "\n",
    "    # store in dataframe\n",
    "    df = df.append({'lane_read': str('lane_' + lane + '_read_' + read),\n",
    "                    'read_count': lane_reads,\n",
    "                    'sample': sample_name},\n",
    "                    ignore_index = True)\n",
    "\n",
    "#################################################################################################\n",
    "\n",
    "# reorganize dataframe\n",
    "df = df.pivot_table(values  = 'read_count',\n",
    "                    index   = [\"sample\"],\n",
    "                    columns = ['lane_read'])\n",
    "\n",
    "if len(df.columns) > 1: # if the sample was run on more than one lane compute a total\n",
    "    df[\"total_reads\"] = df.sum(axis=1)\n",
    "# print df\n",
    "\n",
    "# write dataframe to csv\n",
    "df.to_csv(args.outfile,\n",
    "          sep='\\t',\n",
    "          header=True,\n",
    "          index=True,\n",
    "          index_label=['sample'])\n"
   ]
  },
  {
   "cell_type": "code",
   "execution_count": null,
   "metadata": {
    "collapsed": true,
    "hidden": true,
    "run_control": {
     "frozen": false,
     "read_only": false
    }
   },
   "outputs": [],
   "source": [
    "%%bash\n",
    "\n",
    "count_reads_per_sample.py -indir ./raw_data/ -outfile raw_read_counts_per_sample.tsv"
   ]
  },
  {
   "cell_type": "code",
   "execution_count": 31,
   "metadata": {
    "hidden": true,
    "run_control": {
     "frozen": false,
     "read_only": false
    }
   },
   "outputs": [],
   "source": [
    "%%bash\n",
    "\n",
    "/home/msr/general_scripts/count_reads_per_sample.py \\\n",
    "-indir /home/msr/code_examples/hTR_3prime_RACE_analysis_files/raw_data_subset_25_seqs/ \\\n",
    "-outfile /home/msr/code_examples/hTR_3prime_RACE_analysis_files/raw_data_subset_25_seqs/raw_read_counts_per_sample.tsv"
   ]
  },
  {
   "cell_type": "code",
   "execution_count": 32,
   "metadata": {
    "ExecuteTime": {
     "end_time": "2018-01-20T20:26:56.232042Z",
     "start_time": "2018-01-20T20:26:56.003163Z"
    },
    "hidden": true,
    "run_control": {
     "frozen": false,
     "read_only": false
    }
   },
   "outputs": [
    {
     "data": {
      "text/html": [
       "<div>\n",
       "<style scoped>\n",
       "    .dataframe tbody tr th:only-of-type {\n",
       "        vertical-align: middle;\n",
       "    }\n",
       "\n",
       "    .dataframe tbody tr th {\n",
       "        vertical-align: top;\n",
       "    }\n",
       "\n",
       "    .dataframe thead th {\n",
       "        text-align: right;\n",
       "    }\n",
       "</style>\n",
       "<table border=\"1\" class=\"dataframe\">\n",
       "  <thead>\n",
       "    <tr style=\"text-align: right;\">\n",
       "      <th></th>\n",
       "      <th>sample</th>\n",
       "      <th>lane_1_read_1</th>\n",
       "    </tr>\n",
       "  </thead>\n",
       "  <tbody>\n",
       "    <tr>\n",
       "      <th>0</th>\n",
       "      <td>329_PARNOE_25seqs</td>\n",
       "      <td>25.0</td>\n",
       "    </tr>\n",
       "    <tr>\n",
       "      <th>1</th>\n",
       "      <td>HeLa_totalRNA_25seqs</td>\n",
       "      <td>25.0</td>\n",
       "    </tr>\n",
       "  </tbody>\n",
       "</table>\n",
       "</div>"
      ],
      "text/plain": [
       "                 sample  lane_1_read_1\n",
       "0     329_PARNOE_25seqs           25.0\n",
       "1  HeLa_totalRNA_25seqs           25.0"
      ]
     },
     "execution_count": 32,
     "metadata": {},
     "output_type": "execute_result"
    }
   ],
   "source": [
    "# view raw read counts computed above\n",
    "pd.read_csv('/home/msr/code_examples/hTR_3prime_RACE_analysis_files/raw_data_subset_25_seqs/raw_read_counts_per_sample.tsv', \n",
    "            sep = '\\t')"
   ]
  },
  {
   "cell_type": "markdown",
   "metadata": {
    "heading_collapsed": true,
    "hidden": true,
    "run_control": {
     "frozen": false,
     "read_only": false
    }
   },
   "source": [
    "### Filter reads without hTR sequence\n",
    "this is required because this library was spiked into another sequencing library to increase complexity"
   ]
  },
  {
   "cell_type": "code",
   "execution_count": 33,
   "metadata": {
    "hidden": true,
    "run_control": {
     "frozen": false,
     "read_only": false
    }
   },
   "outputs": [],
   "source": [
    "%%bash\n",
    "mkdir -p /home/msr/code_examples/hTR_3prime_RACE_analysis_files/processed_data\n",
    "mkdir -p /home/msr/code_examples/hTR_3prime_RACE_analysis_files/processed_data/seq_filtered"
   ]
  },
  {
   "cell_type": "code",
   "execution_count": 34,
   "metadata": {
    "hidden": true,
    "run_control": {
     "frozen": false,
     "read_only": false
    },
    "scrolled": true
   },
   "outputs": [
    {
     "name": "stdout",
     "output_type": "stream",
     "text": [
      "['CGGGGTTGCCTGGAGCCGTT', 'CCGGGGTTGCCTGGAGCCGT', 'GCCGGGGTTGCCTGGAGCCG', 'AGCCGGGGTTGCCTGGAGCC', 'GAGCCGGGGTTGCCTGGAGC', 'TGAGCCGGGGTTGCCTGGAG', 'GTGAGCCGGGGTTGCCTGGA', 'AGTGAGCCGGGGTTGCCTGG', 'CAGTGAGCCGGGGTTGCCTG', 'GCAGTGAGCCGGGGTTGCCT', 'GGCAGTGAGCCGGGGTTGCC', 'GGGCAGTGAGCCGGGGTTGC', 'TGGGCAGTGAGCCGGGGTTG', 'ATGGGCAGTGAGCCGGGGTT', 'AATGGGCAGTGAGCCGGGGT', 'GAATGGGCAGTGAGCCGGGG', 'TGAATGGGCAGTGAGCCGGG', 'ATGAATGGGCAGTGAGCCGG', 'AATGAATGGGCAGTGAGCCG', 'AAATGAATGGGCAGTGAGCC', 'AAAATGAATGGGCAGTGAGC', 'CAAAATGAATGGGCAGTGAG', 'CCAAAATGAATGGGCAGTGA', 'GCCAAAATGAATGGGCAGTG', 'GGCCAAAATGAATGGGCAGT', 'CGGCCAAAATGAATGGGCAG', 'TCGGCCAAAATGAATGGGCA', 'GTCGGCCAAAATGAATGGGC', 'AGTCGGCCAAAATGAATGGG', 'AAGTCGGCCAAAATGAATGG', 'AAAGTCGGCCAAAATGAATG', 'CAAAGTCGGCCAAAATGAAT', 'CCAAAGTCGGCCAAAATGAA', 'TCCAAAGTCGGCCAAAATGA', 'CTCCAAAGTCGGCCAAAATG', 'CCTCCAAAGTCGGCCAAAAT', 'ACCTCCAAAGTCGGCCAAAA', 'CACCTCCAAAGTCGGCCAAA', 'GCACCTCCAAAGTCGGCCAA', 'GGCACCTCCAAAGTCGGCCA', 'AGGCACCTCCAAAGTCGGCC', 'AAGGCACCTCCAAAGTCGGC', 'GAAGGCACCTCCAAAGTCGG', 'TGAAGGCACCTCCAAAGTCG', 'GTGAAGGCACCTCCAAAGTC', 'CGTGAAGGCACCTCCAAAGT', 'ACGTGAAGGCACCTCCAAAG', 'GACGTGAAGGCACCTCCAAA', 'AGACGTGAAGGCACCTCCAA', 'GAGACGTGAAGGCACCTCCA', 'GGAGACGTGAAGGCACCTCC', 'AGGAGACGTGAAGGCACCTC', 'CAGGAGACGTGAAGGCACCT', 'GCAGGAGACGTGAAGGCACC', 'GGCAGGAGACGTGAAGGCAC', 'TGGCAGGAGACGTGAAGGCA', 'TTGGCAGGAGACGTGAAGGC', 'ATTGGCAGGAGACGTGAAGG', 'AATTGGCAGGAGACGTGAAG', 'AAATTGGCAGGAGACGTGAA', 'CAAATTGGCAGGAGACGTGA', 'GCAAATTGGCAGGAGACGTG', 'TGCAAATTGGCAGGAGACGT', 'CTGCAAATTGGCAGGAGACG', 'GCTGCAAATTGGCAGGAGAC', 'TGCTGCAAATTGGCAGGAGA', 'GTGCTGCAAATTGGCAGGAG', 'TGTGCTGCAAATTGGCAGGA', 'GTGTGCTGCAAATTGGCAGG', 'AGTGTGCTGCAAATTGGCAG', 'CAGTGTGCTGCAAATTGGCA', 'CCAGTGTGCTGCAAATTGGC', 'GCCAGTGTGCTGCAAATTGG', 'GGCCAGTGTGCTGCAAATTG', 'GGGCCAGTGTGCTGCAAATT', 'TGGGCCAGTGTGCTGCAAAT', 'CTGGGCCAGTGTGCTGCAAA', 'ACTGGGCCAGTGTGCTGCAA', 'GACTGGGCCAGTGTGCTGCA', 'TGACTGGGCCAGTGTGCTGC', 'CTGACTGGGCCAGTGTGCTG', 'ACTGACTGGGCCAGTGTGCT', 'GACTGACTGGGCCAGTGTGC', 'TGACTGACTGGGCCAGTGTG', 'CTGACTGACTGGGCCAGTGT', 'CCTGACTGACTGGGCCAGTG', 'ACCTGACTGACTGGGCCAGT', 'AACCTGACTGACTGGGCCAG', 'AAACCTGACTGACTGGGCCA', 'CAAACCTGACTGACTGGGCC', 'CCAAACCTGACTGACTGGGC', 'CCCAAACCTGACTGACTGGG', 'CCCCAAACCTGACTGACTGG', 'CCCCCAAACCTGACTGACTG', 'ACCCCCAAACCTGACTGACT', 'AACCCCCAAACCTGACTGAC', 'GAACCCCCAAACCTGACTGA', 'TGAACCCCCAAACCTGACTG', 'GTGAACCCCCAAACCTGACT', 'TGTGAACCCCCAAACCTGAC', 'TTGTGAACCCCCAAACCTGA', 'CTTGTGAACCCCCAAACCTG', 'GCTTGTGAACCCCCAAACCT', 'GGCTTGTGAACCCCCAAACC', 'GGGCTTGTGAACCCCCAAAC', 'GGGGCTTGTGAACCCCCAAA', 'GGGGGCTTGTGAACCCCCAA', 'TGGGGGCTTGTGAACCCCCA', 'ATGGGGGCTTGTGAACCCCC', 'AATGGGGGCTTGTGAACCCC', 'CAATGGGGGCTTGTGAACCC', 'GCAATGGGGGCTTGTGAACC', 'GGCAATGGGGGCTTGTGAAC', 'CGGCAATGGGGGCTTGTGAA', 'CCGGCAATGGGGGCTTGTGA', 'GCCGGCAATGGGGGCTTGTG', 'CGCCGGCAATGGGGGCTTGT', 'TCGCCGGCAATGGGGGCTTG', 'CTCGCCGGCAATGGGGGCTT', 'CCTCGCCGGCAATGGGGGCT', 'CCCTCGCCGGCAATGGGGGC', 'CCCCTCGCCGGCAATGGGGG', 'ACCCCTCGCCGGCAATGGGG', 'CACCCCTCGCCGGCAATGGG', 'TCACCCCTCGCCGGCAATGG', 'GTCACCCCTCGCCGGCAATG', 'CGTCACCCCTCGCCGGCAAT', 'CCGTCACCCCTCGCCGGCAA', 'TCCGTCACCCCTCGCCGGCA', 'ATCCGTCACCCCTCGCCGGC', 'CATCCGTCACCCCTCGCCGG', 'GCATCCGTCACCCCTCGCCG', 'CGCATCCGTCACCCCTCGCC', 'GCGCATCCGTCACCCCTCGC', 'TGCGCATCCGTCACCCCTCG', 'GTGCGCATCCGTCACCCCTC', 'CGTGCGCATCCGTCACCCCT', 'TCGTGCGCATCCGTCACCCC', 'ATCGTGCGCATCCGTCACCC', 'GATCGTGCGCATCCGTCACC', 'CGATCGTGCGCATCCGTCAC', 'CCGATCGTGCGCATCCGTCA', 'GCCGATCGTGCGCATCCGTC', 'CGCCGATCGTGCGCATCCGT', 'ACGCCGATCGTGCGCATCCG', 'AACGCCGATCGTGCGCATCC', 'GAACGCCGATCGTGCGCATC', 'GGAACGCCGATCGTGCGCAT', 'GGGAACGCCGATCGTGCGCA', 'GGGGAACGCCGATCGTGCGC', 'GGGGGAACGCCGATCGTGCG', 'GGGGGGAACGCCGATCGTGC', 'TGGGGGGAACGCCGATCGTG', 'GTGGGGGGAACGCCGATCGT', 'GGTGGGGGGAACGCCGATCG', 'TGGTGGGGGGAACGCCGATC', 'TTGGTGGGGGGAACGCCGAT', 'GTTGGTGGGGGGAACGCCGA', 'TGTTGGTGGGGGGAACGCCG', 'CTGTTGGTGGGGGGAACGCC', 'CCTGTTGGTGGGGGGAACGC', 'TCCTGTTGGTGGGGGGAACG', 'TTCCTGTTGGTGGGGGGAAC', 'TTTCCTGTTGGTGGGGGGAA', 'CTTTCCTGTTGGTGGGGGGA', 'GCTTTCCTGTTGGTGGGGGG', 'CGCTTTCCTGTTGGTGGGGG', 'TCGCTTTCCTGTTGGTGGGG', 'TTCGCTTTCCTGTTGGTGGG', 'GTTCGCTTTCCTGTTGGTGG', 'AGTTCGCTTTCCTGTTGGTG', 'CAGTTCGCTTTCCTGTTGGT', 'GCAGTTCGCTTTCCTGTTGG', 'TGCAGTTCGCTTTCCTGTTG', 'ATGCAGTTCGCTTTCCTGTT', 'CATGCAGTTCGCTTTCCTGT', 'ACATGCAGTTCGCTTTCCTG', 'CACATGCAGTTCGCTTTCCT', 'ACACATGCAGTTCGCTTTCC', 'CACACATGCAGTTCGCTTTC', 'TCACACATGCAGTTCGCTTT', 'CTCACACATGCAGTTCGCTT', 'GCTCACACATGCAGTTCGCT', 'GGCTCACACATGCAGTTCGC', 'CGGCTCACACATGCAGTTCG', 'TCGGCTCACACATGCAGTTC', 'CTCGGCTCACACATGCAGTT', 'ACTCGGCTCACACATGCAGT', 'GACTCGGCTCACACATGCAG', 'GGACTCGGCTCACACATGCA', 'AGGACTCGGCTCACACATGC', 'CAGGACTCGGCTCACACATG', 'CCAGGACTCGGCTCACACAT', 'CCCAGGACTCGGCTCACACA', 'ACCCAGGACTCGGCTCACAC', 'CACCCAGGACTCGGCTCACA', 'GCACCCAGGACTCGGCTCAC', 'TGCACCCAGGACTCGGCTCA', 'GTGCACCCAGGACTCGGCTC', 'CGTGCACCCAGGACTCGGCT', 'ACGTGCACCCAGGACTCGGC', 'GACGTGCACCCAGGACTCGG', 'GGACGTGCACCCAGGACTCG', 'GGGACGTGCACCCAGGACTC', 'TGGGACGTGCACCCAGGACT', 'GTGGGACGTGCACCCAGGAC', 'TGTGGGACGTGCACCCAGGA', 'CTGTGGGACGTGCACCCAGG', 'GCTGTGGGACGTGCACCCAG', 'AGCTGTGGGACGTGCACCCA', 'GAGCTGTGGGACGTGCACCC', 'TGAGCTGTGGGACGTGCACC', 'CTGAGCTGTGGGACGTGCAC', 'CCTGAGCTGTGGGACGTGCA', 'CCCTGAGCTGTGGGACGTGC', 'TCCCTGAGCTGTGGGACGTG', 'TTCCCTGAGCTGTGGGACGT', 'ATTCCCTGAGCTGTGGGACG', 'GATTCCCTGAGCTGTGGGAC', 'CGATTCCCTGAGCTGTGGGA', 'GCGATTCCCTGAGCTGTGGG', 'CGCGATTCCCTGAGCTGTGG', 'GCGCGATTCCCTGAGCTGTG', 'GGCGCGATTCCCTGAGCTGT', 'CGGCGCGATTCCCTGAGCTG', 'GCGGCGCGATTCCCTGAGCT', 'CGCGGCGCGATTCCCTGAGC', 'GCGCGGCGCGATTCCCTGAG', 'CGCGCGGCGCGATTCCCTGA', 'GCGCGCGGCGCGATTCCCTG', 'CGCGCGCGGCGCGATTCCCT', 'CCGCGCGCGGCGCGATTCCC', 'CCCGCGCGCGGCGCGATTCC', 'CCCCGCGCGCGGCGCGATTC', 'TCCCCGCGCGCGGCGCGATT', 'GTCCCCGCGCGCGGCGCGAT', 'AGTCCCCGCGCGCGGCGCGA', 'GAGTCCCCGCGCGCGGCGCG', 'CGAGTCCCCGCGCGCGGCGC', 'GCGAGTCCCCGCGCGCGGCG', 'AGCGAGTCCCCGCGCGCGGC', 'GAGCGAGTCCCCGCGCGCGG', 'GGAGCGAGTCCCCGCGCGCG', 'CGGAGCGAGTCCCCGCGCGC', 'ACGGAGCGAGTCCCCGCGCG', 'AACGGAGCGAGTCCCCGCGC', 'GAACGGAGCGAGTCCCCGCG', 'GGAACGGAGCGAGTCCCCGC', 'AGGAACGGAGCGAGTCCCCG', 'GAGGAACGGAGCGAGTCCCC', 'AGAGGAACGGAGCGAGTCCC', 'AAGAGGAACGGAGCGAGTCC', 'GAAGAGGAACGGAGCGAGTC', 'GGAAGAGGAACGGAGCGAGT', 'AGGAAGAGGAACGGAGCGAG', 'CAGGAAGAGGAACGGAGCGA']\n"
     ]
    }
   ],
   "source": [
    "############### split hTR sequence into 20-mers as targets for requrired read matching #############################\n",
    "\n",
    "# this is the reference hTR sequence from postion 366 to 451, the mature form of hTR\n",
    "hTR_mature = \"CAGGAAGAGGAACGGAGCGAGTCCCCGCGCGCGGCGCGATTCCCTGAGCTGTGGGACGTGCACCCAGGACTCGGCTCACACATGC\"\n",
    "\n",
    "# this is the reference sequence for hTR following position 451, sequence for hTR from position 452 to 641\n",
    "# any sequence past position 451 is called a precursor form of hTR \n",
    "precursor = \"AGTTCGCTTTCCTGTTGGTGGGGGGAACGCCGATCGTGCGCATCCGTCACCCCTCGCCGGCAATGGGGGCTTGTGAACCCCC\\\n",
    "AAACCTGACTGACTGGGCCAGTGTGCTGCAAATTGGCAGGAGACGTGAAGGCACCTCCAAAGTCGGCCAAAATGAATGGGCAGTGAGCCGGGGTTGCCTGGAGCCGTT\"\n",
    "\n",
    "coord_start = 451 + len(precursor) # the startding coordinate is the most 3' coordinate, here 641\n",
    "\n",
    "hTR_seq = hTR_mature + precursor # combine mature and precursor form into one sequence\n",
    "hTR_seq_rc = Seq.reverse_complement(hTR_seq) # also reverse compliment\n",
    "\n",
    "def hTR_targets(htr_seq):\n",
    "    targets = [] # initialize array\n",
    "    c = len(htr_seq) # length of given sequence\n",
    "    for i in range(c-19): # index across sequence, for as long as the sequence-19 \n",
    "                          # (subtracting 19 bc doing this for bins of 20nt kmers) \n",
    "        if i == 0: # if this is the begining of the sequence\n",
    "            fragment = htr_seq[-20:] # grab the last 20 nt of the sequence\n",
    "            targets.append(fragment) # add it to our targest array\n",
    "        else:\n",
    "            fragment = htr_seq[-(i + 20):-i] # move across the sequence in 1 nt windowns, starting from the end \n",
    "            targets.append(fragment) # append current 20nt window to the array\n",
    "        #print fragment\n",
    "    return targets\n",
    "\n",
    "targets = hTR_targets(hTR_seq)\n",
    "targets_rc = hTR_targets(hTR_seq_rc)\n",
    "print targets"
   ]
  },
  {
   "cell_type": "code",
   "execution_count": 37,
   "metadata": {
    "hidden": true,
    "run_control": {
     "frozen": false,
     "read_only": false
    }
   },
   "outputs": [],
   "source": [
    "############### Require read to contain: #############################################################\n",
    "############### at least 20nt exact match to hTR sequence (or rev comp) ##############################\n",
    "############### exact match 10nt to linker sequence ##################################################\n",
    "\n",
    "linker = \"TTTAACCGCG\"\n",
    "linker_rc = \"CTGGAATTCG\"\n",
    "\n",
    "def my_filter(records):\n",
    "    for rec in records:\n",
    "        match_linker = regex.search(linker, str(rec.seq)) # seach for linker sequence in read\n",
    "        match_linker_rc = regex.search(linker_rc, str(rec.seq)) # same for rev comp\n",
    "        match_hTR = any(i in str(rec.seq) for i in targets) # see if any 20 nt region of hTR sequence matches read\n",
    "        match_hTR_rc = any(i in str(rec.seq) for i in targets_rc) # same for rev comp\n",
    "        \n",
    "        # if linker match is found and hTR match found keep the read\n",
    "        if (match_hTR and match_linker) or (match_hTR_rc and match_linker_rc):\n",
    "            yield rec\n",
    "\n",
    "path = \"/home/msr/code_examples/hTR_3prime_RACE_analysis_files/raw_data_subset_25_seqs/\"\n",
    "for sample in os.listdir(path):\n",
    "    samp = (os.path.splitext(sample)[0]).split(\".fastq.gz\")[0] # grab sample name\n",
    "    fastq_parser = SeqIO.parse(gzip.open(path+sample), \"fastq\") # use SeqIO to parse fastq file\n",
    "    SeqIO.write(my_filter(fastq_parser), # write fastq files that pass my_filer function\n",
    "                \"/home/msr/code_examples/hTR_3prime_RACE_analysis_files/processed_data/seq_filtered/\"+samp,\n",
    "                \"fastq\")"
   ]
  },
  {
   "cell_type": "code",
   "execution_count": 39,
   "metadata": {
    "hidden": true,
    "run_control": {
     "frozen": false,
     "read_only": false
    }
   },
   "outputs": [],
   "source": [
    "%%bash\n",
    "# gzip the fastq files we just created\n",
    "for i in /home/msr/code_examples/hTR_3prime_RACE_analysis_files/processed_data/seq_filtered/*.fastq;\n",
    "do\n",
    "    pigz -p 8 $i\n",
    "done"
   ]
  },
  {
   "cell_type": "markdown",
   "metadata": {
    "heading_collapsed": true,
    "hidden": true,
    "run_control": {
     "frozen": false,
     "read_only": false
    }
   },
   "source": [
    "#### check number of reads per sample after filtering"
   ]
  },
  {
   "cell_type": "code",
   "execution_count": null,
   "metadata": {
    "collapsed": true,
    "hidden": true,
    "run_control": {
     "frozen": false,
     "read_only": false
    }
   },
   "outputs": [],
   "source": [
    "%%bash\n",
    "\n",
    "# using same script as explained in 'Raw Read Counts per Sample' section\n",
    "count_reads_per_sample.py -indir ./processed_data/seq_filtered/ -outfile filtered_read_counts_per_sample.tsv"
   ]
  },
  {
   "cell_type": "code",
   "execution_count": 42,
   "metadata": {
    "hidden": true,
    "run_control": {
     "frozen": false,
     "read_only": false
    }
   },
   "outputs": [],
   "source": [
    "%%bash\n",
    "/home/msr/general_scripts/count_reads_per_sample.py \\\n",
    "-indir /home/msr/code_examples/hTR_3prime_RACE_analysis_files/processed_data/seq_filtered/ \\\n",
    "-outfile /home/msr/code_examples/hTR_3prime_RACE_analysis_files/processed_data/filtered_read_counts_per_sample.tsv"
   ]
  },
  {
   "cell_type": "code",
   "execution_count": 43,
   "metadata": {
    "hidden": true,
    "run_control": {
     "frozen": false,
     "read_only": false
    }
   },
   "outputs": [
    {
     "data": {
      "text/html": [
       "<div>\n",
       "<style scoped>\n",
       "    .dataframe tbody tr th:only-of-type {\n",
       "        vertical-align: middle;\n",
       "    }\n",
       "\n",
       "    .dataframe tbody tr th {\n",
       "        vertical-align: top;\n",
       "    }\n",
       "\n",
       "    .dataframe thead th {\n",
       "        text-align: right;\n",
       "    }\n",
       "</style>\n",
       "<table border=\"1\" class=\"dataframe\">\n",
       "  <thead>\n",
       "    <tr style=\"text-align: right;\">\n",
       "      <th></th>\n",
       "      <th>sample</th>\n",
       "      <th>lane_1_read_1</th>\n",
       "    </tr>\n",
       "  </thead>\n",
       "  <tbody>\n",
       "    <tr>\n",
       "      <th>0</th>\n",
       "      <td>329_PARNOE_25seqs</td>\n",
       "      <td>25.0</td>\n",
       "    </tr>\n",
       "    <tr>\n",
       "      <th>1</th>\n",
       "      <td>HeLa_totalRNA_25seqs</td>\n",
       "      <td>25.0</td>\n",
       "    </tr>\n",
       "  </tbody>\n",
       "</table>\n",
       "</div>"
      ],
      "text/plain": [
       "                 sample  lane_1_read_1\n",
       "0     329_PARNOE_25seqs           25.0\n",
       "1  HeLa_totalRNA_25seqs           25.0"
      ]
     },
     "execution_count": 43,
     "metadata": {},
     "output_type": "execute_result"
    }
   ],
   "source": [
    "# view results\n",
    "pd.read_csv('/home/msr/code_examples/hTR_3prime_RACE_analysis_files/processed_data/filtered_read_counts_per_sample.tsv',\n",
    "            sep = '\\t')"
   ]
  },
  {
   "cell_type": "markdown",
   "metadata": {
    "heading_collapsed": true,
    "hidden": true,
    "run_control": {
     "frozen": false,
     "read_only": false
    }
   },
   "source": [
    "### Combine all Fw (& all Rev Reads) per Sample - If sequenced on multiple lanes"
   ]
  },
  {
   "cell_type": "code",
   "execution_count": null,
   "metadata": {
    "collapsed": true,
    "hidden": true,
    "run_control": {
     "frozen": false,
     "read_only": false
    }
   },
   "outputs": [],
   "source": [
    "%%bash\n",
    "\n",
    "mkdir -p processed_data/seq_filtered_cat"
   ]
  },
  {
   "cell_type": "code",
   "execution_count": null,
   "metadata": {
    "collapsed": true,
    "hidden": true,
    "run_control": {
     "frozen": false,
     "read_only": false
    }
   },
   "outputs": [],
   "source": [
    "def combine_lanes(path, outpath):\n",
    "    \"\"\" this function take all the fastq files in a directory, \n",
    "    and combines fw & rev reads based on the sample naming convention: sample_lane_read.fastq.gz\"\"\"\n",
    "    \n",
    "    samples=[] # initialize array\n",
    "    for sample in os.listdir(path): # for each fastq file in directory\n",
    "        if re.match('.*\\.fastq.gz', sample): # make sure it is a fastq file\n",
    "            samples.append(re.split('_[1,2]_[1,2].fastq.gz', sample)[0]) # grab sample name and add to array\n",
    "            \n",
    "    samples=list(set(samples)) # convert array to list that we can loop through\n",
    "\n",
    "    for i in samples: # for each sample\n",
    "        # define each file per sample, here we have paired end reads sequence on 2 lanes\n",
    "        file11=path+i+'_1_1.fastq.gz' # fw reads lane 1\n",
    "        file21=path+i+'_2_1.fastq.gz' # fw reads lane 2\n",
    "        outfile_1=outpath+i+'_1.fastq' # fw reads for analysis\n",
    "        file12=path+i+'_1_2.fastq.gz' # rev reads lane 1\n",
    "        file22=path+i+'_2_2.fastq.gz' # rev reads lane 2\n",
    "        outfile_2=outpath+i+'_2.fastq' # rev reads not used for analysis\n",
    "        bashCommand_1 = 'zcat '+file11+' '+file21+' > '+outfile_1+'' # combining fw reads\n",
    "        bashCommand_2 = 'zcat '+file12+' '+file22+' > '+outfile_2+'' # combining rev reads\n",
    "        # call commands\n",
    "        process = subprocess.call(bashCommand_1, shell=True)\n",
    "        process = subprocess.call(bashCommand_2, shell=True)"
   ]
  },
  {
   "cell_type": "code",
   "execution_count": null,
   "metadata": {
    "collapsed": true,
    "hidden": true,
    "run_control": {
     "frozen": false,
     "read_only": false
    }
   },
   "outputs": [],
   "source": [
    "path = \"./seq_filtered/\"\n",
    "outpath = \"./seq_filtered_cat/\"\n",
    "combine_lanes(path, outpath)"
   ]
  },
  {
   "cell_type": "markdown",
   "metadata": {
    "heading_collapsed": true,
    "hidden": true,
    "run_control": {
     "frozen": false,
     "read_only": false
    }
   },
   "source": [
    "#### check number of reads per sample after combining fastqs"
   ]
  },
  {
   "cell_type": "code",
   "execution_count": null,
   "metadata": {
    "collapsed": true,
    "hidden": true,
    "run_control": {
     "frozen": false,
     "read_only": false
    }
   },
   "outputs": [],
   "source": [
    "path = \"/home/msr/Projects/hui-fang/MOLNG-2232/processed_data/seq_filtered_cat/\"\n",
    "\n",
    "samples = [] # initialize array\n",
    "for i in os.listdir(path): # for each sample, add sample name to array\n",
    "    samples.append(re.split('_[1,2].fastq', i)[0])\n",
    "\n",
    "samples = list(set(samples)) # sample names in a list\n",
    "samp_dict = {} # initialize dictionary\n",
    "\n",
    "for i in samples: # for each sample\n",
    "    file1 = path+i+'_1.fastq' # forward reads\n",
    "    file2 = path+i+'_2.fastq' # reverse reads\n",
    "    \n",
    "    # count number of lines per sample and divide by 4 to get read count\n",
    "    fw_lines  = commands.getoutput('cat '+file1+' | wc -l')\n",
    "    rev_lines = commands.getoutput('cat '+file2+' | wc -l')\n",
    "    fw_reads  = int(fw_lines)/4.0\n",
    "    rev_reads = int(rev_lines)/4.0\n",
    "    total     = fw_reads+rev_reads # compute total reads across\n",
    "    \n",
    "    # store in dictionary where key=sample_name, value=[fw_reads, rev_reads, total]\n",
    "    samp_dict[i] = [fw_reads, rev_reads, total]\n",
    "\n",
    "# convert dictionary to pandas dataframe for nice table summary\n",
    "df=pd.DataFrame(samp_dict.values(), index=samp_dict.keys(), \n",
    "                    columns=['Forward Reads', 'Reverse Reads', 'Total'])\n",
    "df"
   ]
  },
  {
   "cell_type": "markdown",
   "metadata": {
    "heading_collapsed": true,
    "run_control": {
     "frozen": false,
     "read_only": false
    }
   },
   "source": [
    "## Find hTR End Position and Identify ntna Sequence"
   ]
  },
  {
   "cell_type": "markdown",
   "metadata": {
    "hidden": true
   },
   "source": [
    "** note on mutants **\n",
    "- if there are hTR mutant samples (i.e. A452C), move these samples into their own directory (./processed_data/seq_filtered_cat_mutants/)\n",
    "- run non-mutant samples below\n",
    "- create subsection for each mutant in the 'Mutants: Find hTR End Position and Identify ntna Sequence' section below, and in the 'hTR_targets' code chunk change the hTR reference sequence to match the mutant sequence"
   ]
  },
  {
   "cell_type": "code",
   "execution_count": 44,
   "metadata": {
    "hidden": true,
    "run_control": {
     "frozen": false,
     "read_only": false
    }
   },
   "outputs": [],
   "source": [
    "%%bash\n",
    "# output will go into these directories\n",
    "mkdir -p /home/msr/code_examples/hTR_3prime_RACE_analysis_files/processed_data/ntna_dict_BCadded  # keeping tack of the occurance of each molecular barcode\n",
    "mkdir -p /home/msr/code_examples/hTR_3prime_RACE_analysis_files/processed_data/ntna_dict_BCFILTER # collapsing redundant molecular barcodes"
   ]
  },
  {
   "cell_type": "code",
   "execution_count": 45,
   "metadata": {
    "hidden": true,
    "run_control": {
     "frozen": false,
     "read_only": false
    },
    "scrolled": true
   },
   "outputs": [
    {
     "name": "stdout",
     "output_type": "stream",
     "text": [
      "[('CGGGGTTGCCTGGAGCCGTT', (1, 20), 641.0), ('CCGGGGTTGCCTGGAGCCGT', (2, 21), 640.0), ('GCCGGGGTTGCCTGGAGCCG', (3, 22), 639.0), ('AGCCGGGGTTGCCTGGAGCC', (4, 23), 638.0), ('GAGCCGGGGTTGCCTGGAGC', (5, 24), 637.0), ('TGAGCCGGGGTTGCCTGGAG', (6, 25), 636.0), ('GTGAGCCGGGGTTGCCTGGA', (7, 26), 635.0), ('AGTGAGCCGGGGTTGCCTGG', (8, 27), 634.0), ('CAGTGAGCCGGGGTTGCCTG', (9, 28), 633.0), ('GCAGTGAGCCGGGGTTGCCT', (10, 29), 632.0), ('GGCAGTGAGCCGGGGTTGCC', (11, 30), 631.0), ('GGGCAGTGAGCCGGGGTTGC', (12, 31), 630.0), ('TGGGCAGTGAGCCGGGGTTG', (13, 32), 629.0), ('ATGGGCAGTGAGCCGGGGTT', (14, 33), 628.0), ('AATGGGCAGTGAGCCGGGGT', (15, 34), 627.0), ('GAATGGGCAGTGAGCCGGGG', (16, 35), 626.0), ('TGAATGGGCAGTGAGCCGGG', (17, 36), 625.0), ('ATGAATGGGCAGTGAGCCGG', (18, 37), 624.0), ('AATGAATGGGCAGTGAGCCG', (19, 38), 623.0), ('AAATGAATGGGCAGTGAGCC', (20, 39), 622.0), ('AAAATGAATGGGCAGTGAGC', (21, 40), 621.0), ('CAAAATGAATGGGCAGTGAG', (22, 41), 620.0), ('CCAAAATGAATGGGCAGTGA', (23, 42), 619.0), ('GCCAAAATGAATGGGCAGTG', (24, 43), 618.0), ('GGCCAAAATGAATGGGCAGT', (25, 44), 617.0), ('CGGCCAAAATGAATGGGCAG', (26, 45), 616.0), ('TCGGCCAAAATGAATGGGCA', (27, 46), 615.0), ('GTCGGCCAAAATGAATGGGC', (28, 47), 614.0), ('AGTCGGCCAAAATGAATGGG', (29, 48), 613.0), ('AAGTCGGCCAAAATGAATGG', (30, 49), 612.0), ('AAAGTCGGCCAAAATGAATG', (31, 50), 611.0), ('CAAAGTCGGCCAAAATGAAT', (32, 51), 610.0), ('CCAAAGTCGGCCAAAATGAA', (33, 52), 609.0), ('TCCAAAGTCGGCCAAAATGA', (34, 53), 608.0), ('CTCCAAAGTCGGCCAAAATG', (35, 54), 607.0), ('CCTCCAAAGTCGGCCAAAAT', (36, 55), 606.0), ('ACCTCCAAAGTCGGCCAAAA', (37, 56), 605.0), ('CACCTCCAAAGTCGGCCAAA', (38, 57), 604.0), ('GCACCTCCAAAGTCGGCCAA', (39, 58), 603.0), ('GGCACCTCCAAAGTCGGCCA', (40, 59), 602.0), ('AGGCACCTCCAAAGTCGGCC', (41, 60), 601.0), ('AAGGCACCTCCAAAGTCGGC', (42, 61), 600.0), ('GAAGGCACCTCCAAAGTCGG', (43, 62), 599.0), ('TGAAGGCACCTCCAAAGTCG', (44, 63), 598.0), ('GTGAAGGCACCTCCAAAGTC', (45, 64), 597.0), ('CGTGAAGGCACCTCCAAAGT', (46, 65), 596.0), ('ACGTGAAGGCACCTCCAAAG', (47, 66), 595.0), ('GACGTGAAGGCACCTCCAAA', (48, 67), 594.0), ('AGACGTGAAGGCACCTCCAA', (49, 68), 593.0), ('GAGACGTGAAGGCACCTCCA', (50, 69), 592.0), ('GGAGACGTGAAGGCACCTCC', (51, 70), 591.0), ('AGGAGACGTGAAGGCACCTC', (52, 71), 590.0), ('CAGGAGACGTGAAGGCACCT', (53, 72), 589.0), ('GCAGGAGACGTGAAGGCACC', (54, 73), 588.0), ('GGCAGGAGACGTGAAGGCAC', (55, 74), 587.0), ('TGGCAGGAGACGTGAAGGCA', (56, 75), 586.0), ('TTGGCAGGAGACGTGAAGGC', (57, 76), 585.0), ('ATTGGCAGGAGACGTGAAGG', (58, 77), 584.0), ('AATTGGCAGGAGACGTGAAG', (59, 78), 583.0), ('AAATTGGCAGGAGACGTGAA', (60, 79), 582.0), ('CAAATTGGCAGGAGACGTGA', (61, 80), 581.0), ('GCAAATTGGCAGGAGACGTG', (62, 81), 580.0), ('TGCAAATTGGCAGGAGACGT', (63, 82), 579.0), ('CTGCAAATTGGCAGGAGACG', (64, 83), 578.0), ('GCTGCAAATTGGCAGGAGAC', (65, 84), 577.0), ('TGCTGCAAATTGGCAGGAGA', (66, 85), 576.0), ('GTGCTGCAAATTGGCAGGAG', (67, 86), 575.0), ('TGTGCTGCAAATTGGCAGGA', (68, 87), 574.0), ('GTGTGCTGCAAATTGGCAGG', (69, 88), 573.0), ('AGTGTGCTGCAAATTGGCAG', (70, 89), 572.0), ('CAGTGTGCTGCAAATTGGCA', (71, 90), 571.0), ('CCAGTGTGCTGCAAATTGGC', (72, 91), 570.0), ('GCCAGTGTGCTGCAAATTGG', (73, 92), 569.0), ('GGCCAGTGTGCTGCAAATTG', (74, 93), 568.0), ('GGGCCAGTGTGCTGCAAATT', (75, 94), 567.0), ('TGGGCCAGTGTGCTGCAAAT', (76, 95), 566.0), ('CTGGGCCAGTGTGCTGCAAA', (77, 96), 565.0), ('ACTGGGCCAGTGTGCTGCAA', (78, 97), 564.0), ('GACTGGGCCAGTGTGCTGCA', (79, 98), 563.0), ('TGACTGGGCCAGTGTGCTGC', (80, 99), 562.0), ('CTGACTGGGCCAGTGTGCTG', (81, 100), 561.0), ('ACTGACTGGGCCAGTGTGCT', (82, 101), 560.0), ('GACTGACTGGGCCAGTGTGC', (83, 102), 559.0), ('TGACTGACTGGGCCAGTGTG', (84, 103), 558.0), ('CTGACTGACTGGGCCAGTGT', (85, 104), 557.0), ('CCTGACTGACTGGGCCAGTG', (86, 105), 556.0), ('ACCTGACTGACTGGGCCAGT', (87, 106), 555.0), ('AACCTGACTGACTGGGCCAG', (88, 107), 554.0), ('AAACCTGACTGACTGGGCCA', (89, 108), 553.0), ('CAAACCTGACTGACTGGGCC', (90, 109), 552.0), ('CCAAACCTGACTGACTGGGC', (91, 110), 551.0), ('CCCAAACCTGACTGACTGGG', (92, 111), 550.0), ('CCCCAAACCTGACTGACTGG', (93, 112), 549.0), ('CCCCCAAACCTGACTGACTG', (94, 113), 548.0), ('ACCCCCAAACCTGACTGACT', (95, 114), 547.0), ('AACCCCCAAACCTGACTGAC', (96, 115), 546.0), ('GAACCCCCAAACCTGACTGA', (97, 116), 545.0), ('TGAACCCCCAAACCTGACTG', (98, 117), 544.0), ('GTGAACCCCCAAACCTGACT', (99, 118), 543.0), ('TGTGAACCCCCAAACCTGAC', (100, 119), 542.0), ('TTGTGAACCCCCAAACCTGA', (101, 120), 541.0), ('CTTGTGAACCCCCAAACCTG', (102, 121), 540.0), ('GCTTGTGAACCCCCAAACCT', (103, 122), 539.0), ('GGCTTGTGAACCCCCAAACC', (104, 123), 538.0), ('GGGCTTGTGAACCCCCAAAC', (105, 124), 537.0), ('GGGGCTTGTGAACCCCCAAA', (106, 125), 536.0), ('GGGGGCTTGTGAACCCCCAA', (107, 126), 535.0), ('TGGGGGCTTGTGAACCCCCA', (108, 127), 534.0), ('ATGGGGGCTTGTGAACCCCC', (109, 128), 533.0), ('AATGGGGGCTTGTGAACCCC', (110, 129), 532.0), ('CAATGGGGGCTTGTGAACCC', (111, 130), 531.0), ('GCAATGGGGGCTTGTGAACC', (112, 131), 530.0), ('GGCAATGGGGGCTTGTGAAC', (113, 132), 529.0), ('CGGCAATGGGGGCTTGTGAA', (114, 133), 528.0), ('CCGGCAATGGGGGCTTGTGA', (115, 134), 527.0), ('GCCGGCAATGGGGGCTTGTG', (116, 135), 526.0), ('CGCCGGCAATGGGGGCTTGT', (117, 136), 525.0), ('TCGCCGGCAATGGGGGCTTG', (118, 137), 524.0), ('CTCGCCGGCAATGGGGGCTT', (119, 138), 523.0), ('CCTCGCCGGCAATGGGGGCT', (120, 139), 522.0), ('CCCTCGCCGGCAATGGGGGC', (121, 140), 521.0), ('CCCCTCGCCGGCAATGGGGG', (122, 141), 520.0), ('ACCCCTCGCCGGCAATGGGG', (123, 142), 519.0), ('CACCCCTCGCCGGCAATGGG', (124, 143), 518.0), ('TCACCCCTCGCCGGCAATGG', (125, 144), 517.0), ('GTCACCCCTCGCCGGCAATG', (126, 145), 516.0), ('CGTCACCCCTCGCCGGCAAT', (127, 146), 515.0), ('CCGTCACCCCTCGCCGGCAA', (128, 147), 514.0), ('TCCGTCACCCCTCGCCGGCA', (129, 148), 513.0), ('ATCCGTCACCCCTCGCCGGC', (130, 149), 512.0), ('CATCCGTCACCCCTCGCCGG', (131, 150), 511.0), ('GCATCCGTCACCCCTCGCCG', (132, 151), 510.0), ('CGCATCCGTCACCCCTCGCC', (133, 152), 509.0), ('GCGCATCCGTCACCCCTCGC', (134, 153), 508.0), ('TGCGCATCCGTCACCCCTCG', (135, 154), 507.0), ('GTGCGCATCCGTCACCCCTC', (136, 155), 506.0), ('CGTGCGCATCCGTCACCCCT', (137, 156), 505.0), ('TCGTGCGCATCCGTCACCCC', (138, 157), 504.0), ('ATCGTGCGCATCCGTCACCC', (139, 158), 503.0), ('GATCGTGCGCATCCGTCACC', (140, 159), 502.0), ('CGATCGTGCGCATCCGTCAC', (141, 160), 501.0), ('CCGATCGTGCGCATCCGTCA', (142, 161), 500.0), ('GCCGATCGTGCGCATCCGTC', (143, 162), 499.0), ('CGCCGATCGTGCGCATCCGT', (144, 163), 498.0), ('ACGCCGATCGTGCGCATCCG', (145, 164), 497.0), ('AACGCCGATCGTGCGCATCC', (146, 165), 496.0), ('GAACGCCGATCGTGCGCATC', (147, 166), 495.0), ('GGAACGCCGATCGTGCGCAT', (148, 167), 494.0), ('GGGAACGCCGATCGTGCGCA', (149, 168), 493.0), ('GGGGAACGCCGATCGTGCGC', (150, 169), 492.0), ('GGGGGAACGCCGATCGTGCG', (151, 170), 491.0), ('GGGGGGAACGCCGATCGTGC', (152, 171), 490.0), ('TGGGGGGAACGCCGATCGTG', (153, 172), 489.0), ('GTGGGGGGAACGCCGATCGT', (154, 173), 488.0), ('GGTGGGGGGAACGCCGATCG', (155, 174), 487.0), ('TGGTGGGGGGAACGCCGATC', (156, 175), 486.0), ('TTGGTGGGGGGAACGCCGAT', (157, 176), 485.0), ('GTTGGTGGGGGGAACGCCGA', (158, 177), 484.0), ('TGTTGGTGGGGGGAACGCCG', (159, 178), 483.0), ('CTGTTGGTGGGGGGAACGCC', (160, 179), 482.0), ('CCTGTTGGTGGGGGGAACGC', (161, 180), 481.0), ('TCCTGTTGGTGGGGGGAACG', (162, 181), 480.0), ('TTCCTGTTGGTGGGGGGAAC', (163, 182), 479.0), ('TTTCCTGTTGGTGGGGGGAA', (164, 183), 478.0), ('CTTTCCTGTTGGTGGGGGGA', (165, 184), 477.0), ('GCTTTCCTGTTGGTGGGGGG', (166, 185), 476.0), ('CGCTTTCCTGTTGGTGGGGG', (167, 186), 475.0), ('TCGCTTTCCTGTTGGTGGGG', (168, 187), 474.0), ('TTCGCTTTCCTGTTGGTGGG', (169, 188), 473.0), ('GTTCGCTTTCCTGTTGGTGG', (170, 189), 472.0), ('AGTTCGCTTTCCTGTTGGTG', (171, 190), 471.0), ('CAGTTCGCTTTCCTGTTGGT', (172, 191), 470.0), ('GCAGTTCGCTTTCCTGTTGG', (173, 192), 469.0), ('TGCAGTTCGCTTTCCTGTTG', (174, 193), 468.0), ('ATGCAGTTCGCTTTCCTGTT', (175, 194), 467.0), ('CATGCAGTTCGCTTTCCTGT', (176, 195), 466.0), ('ACATGCAGTTCGCTTTCCTG', (177, 196), 465.0), ('CACATGCAGTTCGCTTTCCT', (178, 197), 464.0), ('ACACATGCAGTTCGCTTTCC', (179, 198), 463.0), ('CACACATGCAGTTCGCTTTC', (180, 199), 462.0), ('TCACACATGCAGTTCGCTTT', (181, 200), 461.0), ('CTCACACATGCAGTTCGCTT', (182, 201), 460.0), ('GCTCACACATGCAGTTCGCT', (183, 202), 459.0), ('GGCTCACACATGCAGTTCGC', (184, 203), 458.0), ('CGGCTCACACATGCAGTTCG', (185, 204), 457.0), ('TCGGCTCACACATGCAGTTC', (186, 205), 456.0), ('CTCGGCTCACACATGCAGTT', (187, 206), 455.0), ('ACTCGGCTCACACATGCAGT', (188, 207), 454.0), ('GACTCGGCTCACACATGCAG', (189, 208), 453.0), ('GGACTCGGCTCACACATGCA', (190, 209), 452.0), ('AGGACTCGGCTCACACATGC', (191, 210), 451.0), ('CAGGACTCGGCTCACACATG', (192, 211), 450.0), ('CCAGGACTCGGCTCACACAT', (193, 212), 449.0), ('CCCAGGACTCGGCTCACACA', (194, 213), 448.0), ('ACCCAGGACTCGGCTCACAC', (195, 214), 447.0), ('CACCCAGGACTCGGCTCACA', (196, 215), 446.0), ('GCACCCAGGACTCGGCTCAC', (197, 216), 445.0), ('TGCACCCAGGACTCGGCTCA', (198, 217), 444.0), ('GTGCACCCAGGACTCGGCTC', (199, 218), 443.0), ('CGTGCACCCAGGACTCGGCT', (200, 219), 442.0), ('ACGTGCACCCAGGACTCGGC', (201, 220), 441.0), ('GACGTGCACCCAGGACTCGG', (202, 221), 440.0), ('GGACGTGCACCCAGGACTCG', (203, 222), 439.0), ('GGGACGTGCACCCAGGACTC', (204, 223), 438.0), ('TGGGACGTGCACCCAGGACT', (205, 224), 437.0), ('GTGGGACGTGCACCCAGGAC', (206, 225), 436.0), ('TGTGGGACGTGCACCCAGGA', (207, 226), 435.0), ('CTGTGGGACGTGCACCCAGG', (208, 227), 434.0), ('GCTGTGGGACGTGCACCCAG', (209, 228), 433.0), ('AGCTGTGGGACGTGCACCCA', (210, 229), 432.0), ('GAGCTGTGGGACGTGCACCC', (211, 230), 431.0), ('TGAGCTGTGGGACGTGCACC', (212, 231), 430.0), ('CTGAGCTGTGGGACGTGCAC', (213, 232), 429.0), ('CCTGAGCTGTGGGACGTGCA', (214, 233), 428.0), ('CCCTGAGCTGTGGGACGTGC', (215, 234), 427.0), ('TCCCTGAGCTGTGGGACGTG', (216, 235), 426.0), ('TTCCCTGAGCTGTGGGACGT', (217, 236), 425.0), ('ATTCCCTGAGCTGTGGGACG', (218, 237), 424.0), ('GATTCCCTGAGCTGTGGGAC', (219, 238), 423.0), ('CGATTCCCTGAGCTGTGGGA', (220, 239), 422.0), ('GCGATTCCCTGAGCTGTGGG', (221, 240), 421.0), ('CGCGATTCCCTGAGCTGTGG', (222, 241), 420.0), ('GCGCGATTCCCTGAGCTGTG', (223, 242), 419.0), ('GGCGCGATTCCCTGAGCTGT', (224, 243), 418.0), ('CGGCGCGATTCCCTGAGCTG', (225, 244), 417.0), ('GCGGCGCGATTCCCTGAGCT', (226, 245), 416.0), ('CGCGGCGCGATTCCCTGAGC', (227, 246), 415.0), ('GCGCGGCGCGATTCCCTGAG', (228, 247), 414.0), ('CGCGCGGCGCGATTCCCTGA', (229, 248), 413.0), ('GCGCGCGGCGCGATTCCCTG', (230, 249), 412.0), ('CGCGCGCGGCGCGATTCCCT', (231, 250), 411.0), ('CCGCGCGCGGCGCGATTCCC', (232, 251), 410.0), ('CCCGCGCGCGGCGCGATTCC', (233, 252), 409.0), ('CCCCGCGCGCGGCGCGATTC', (234, 253), 408.0), ('TCCCCGCGCGCGGCGCGATT', (235, 254), 407.0), ('GTCCCCGCGCGCGGCGCGAT', (236, 255), 406.0), ('AGTCCCCGCGCGCGGCGCGA', (237, 256), 405.0), ('GAGTCCCCGCGCGCGGCGCG', (238, 257), 404.0), ('CGAGTCCCCGCGCGCGGCGC', (239, 258), 403.0), ('GCGAGTCCCCGCGCGCGGCG', (240, 259), 402.0), ('AGCGAGTCCCCGCGCGCGGC', (241, 260), 401.0), ('GAGCGAGTCCCCGCGCGCGG', (242, 261), 400.0), ('GGAGCGAGTCCCCGCGCGCG', (243, 262), 399.0), ('CGGAGCGAGTCCCCGCGCGC', (244, 263), 398.0), ('ACGGAGCGAGTCCCCGCGCG', (245, 264), 397.0), ('AACGGAGCGAGTCCCCGCGC', (246, 265), 396.0), ('GAACGGAGCGAGTCCCCGCG', (247, 266), 395.0), ('GGAACGGAGCGAGTCCCCGC', (248, 267), 394.0), ('AGGAACGGAGCGAGTCCCCG', (249, 268), 393.0), ('GAGGAACGGAGCGAGTCCCC', (250, 269), 392.0), ('AGAGGAACGGAGCGAGTCCC', (251, 270), 391.0), ('AAGAGGAACGGAGCGAGTCC', (252, 271), 390.0), ('GAAGAGGAACGGAGCGAGTC', (253, 272), 389.0), ('GGAAGAGGAACGGAGCGAGT', (254, 273), 388.0), ('AGGAAGAGGAACGGAGCGAG', (255, 274), 387.0), ('CAGGAAGAGGAACGGAGCGA', (256, 275), 386.0)]\n"
     ]
    }
   ],
   "source": [
    "### This is the same method as when filtering the reads for hTR sequence, \n",
    "### except now keeping track of the coordinates for the matching traget sequence\n",
    "\n",
    "############### split hTR sequence into 20-mers as targets for requrired read matching #############################\n",
    "\n",
    "# this is the reference hTR sequence from postion 366 to 451, the mature form of hTR\n",
    "hTR_mature = \"CAGGAAGAGGAACGGAGCGAGTCCCCGCGCGCGGCGCGATTCCCTGAGCTGTGGGACGTGCACCCAGGACTCGGCTCACACATGC\"\n",
    "\n",
    "# this is the reference sequence for hTR following position 451, sequence for hTR from position 452 to 641\n",
    "# any sequence past position 451 is called a precursor form of hTR \n",
    "precursor = \"AGTTCGCTTTCCTGTTGGTGGGGGGAACGCCGATCGTGCGCATCCGTCACCCCTCGCCGGCAATGGGGGCTTGTGAACCCCC\\\n",
    "AAACCTGACTGACTGGGCCAGTGTGCTGCAAATTGGCAGGAGACGTGAAGGCACCTCCAAAGTCGGCCAAAATGAATGGGCAGTGAGCCGGGGTTGCCTGGAGCCGTT\"\n",
    "\n",
    "coord_start = 451 + len(precursor) # the startding coordinate is the most 3' coordinate, here 641\n",
    "\n",
    "hTR_seq = hTR_mature + precursor # combine mature and precursor form into one sequence\n",
    "\n",
    "def hTR_targets(htr_seq):\n",
    "    targets = [] # initialize array\n",
    "                 # this array will contains tuple of (20nt_sequence, (index_start, index_end), htr_end_position)\n",
    "    c = len(htr_seq) # length of given sequence\n",
    "    for i in range(c-19): # index across sequence, for as long as the sequence-19 \n",
    "                          # (subtracting 19 bc doing this for bins of 20nt kmers) \n",
    "        if i == 0: # if this is the begining of the sequence\n",
    "            fragment = htr_seq[-20:] # grab the last 20 nt of the sequence\n",
    "            # adding to array (20nt_sequence, (index_start, index_end), htr_end_position)\n",
    "            targets.append((fragment, (i+1, i+20), float(coord_start)))\n",
    "        else:\n",
    "            fragment = htr_seq[-(i+20):-i] # move across the sequence in 1 nt windowns, starting from the end\n",
    "            # for current 20mer add to array (20nt_sequence, (index_start, index_end), htr_end_position)\n",
    "            targets.append((fragment, (i+1, i+20), (float(coord_start)-i)))\n",
    "        #print fragment\n",
    "    return targets\n",
    "\n",
    "targets = hTR_targets(hTR_seq)\n",
    "print targets"
   ]
  },
  {
   "cell_type": "markdown",
   "metadata": {
    "collapsed": true,
    "hidden": true,
    "run_control": {
     "frozen": false,
     "read_only": false
    }
   },
   "source": [
    ">Algorithm Summary:\n",
    "- For each sample\n",
    "    - for each read\n",
    "        - Find linker sequence and trim it and anything following the linker sequence from the end of the read\n",
    "        - identify hTR end coordinate (allow 2 mm)\n",
    "            - identify ntna sequence as any sequence following hTR sequence\n",
    "            - identify the primer sequence (allow 2 mm)\n",
    "            - identify the molecular barcode as the sequence preceding the primer sequence\n",
    "                - barcode must be 10nt. Read is thrown out if barcode is not 10nt.\n",
    "            - Coutner dictionary to count each occurrence of (ntna sequence, hTR ending coordinate, barcode sequence)\n",
    "    - collapse barcodes such that each count of (ntna seq, hTR ending coordinate) has a unique barcode sequence"
   ]
  },
  {
   "cell_type": "code",
   "execution_count": 48,
   "metadata": {
    "hidden": true,
    "run_control": {
     "frozen": false,
     "read_only": false
    }
   },
   "outputs": [
    {
     "name": "stdout",
     "output_type": "stream",
     "text": [
      "HeLa_totalRNA_25seqs_1_1\n",
      "329_PARNOE_25seqs_1_1\n"
     ]
    }
   ],
   "source": [
    "\n",
    "#### define linker and primer sequences\n",
    "linker_seq = \"TTTAACCGCG\" # this is at the 3' end of every sequence\n",
    "primer_seq = \"CAGGAAGAGGAACGGAGCGAGT\" # hTR specific primer sequence\n",
    "primer = regex.compile('('+primer_seq+'){s<=2}') # allow 2 mm when searching for primer sequence\n",
    "\n",
    "\n",
    "path = \"/home/msr/code_examples/hTR_3prime_RACE_analysis_files/processed_data/seq_filtered/\" # path to reads processed in section 1.1\n",
    "for sample in os.listdir(path): # for each sample\n",
    "    if re.match('.*_1\\.fastq', sample): # only the forward reads (rev reads are biased to shorter versions of hTR)\n",
    "        \n",
    "        # initialize counter dictionary\n",
    "        hTR_bc_dict = Counter() ## key=(ntna, hTR end position, 10nt_barcode), val=occurrence\n",
    "        read_count = 0 # initialize total read count per sample\n",
    "        \n",
    "        fh = SeqIO.parse(open(path+sample),'fastq') # file handel for fastq file\n",
    "        samp = (os.path.splitext(sample)[0]).split(\"_1.fastq\")[0] # grab the sample name\n",
    "        print samp # print sample name to keep track of how many samples have ran\n",
    "        \n",
    "        for rec in fh: # for each sequence in the fastq file\n",
    "                read = str(rec.seq) # convert Seq to string\n",
    "                hTR_match = False   # initialize hTR match found to False\n",
    "                \n",
    "                match_linker = regex.search(linker_seq, read) # find linker sequence\n",
    "                if match_linker: # we filtered reads for having linker sequence, so they should all have this\n",
    "                    read = read[:match_linker.start()] # trim off the linker sequence from the read\n",
    "            \n",
    "                for i in targets: # loop through the targets created above\n",
    "                    hTR_end = i[0] # this is the hTR ending sequence\n",
    "                    hTR_coord = i[2] # coordinate for the most 3' nt of the \n",
    "                    #match_hTR = regex.search(hTR_end, read)\n",
    "                    hTR_end_re = regex.compile('('+hTR_end+'){s<=2}') # compile the target hTR_end sequence to allow 2mm\n",
    "                    match_hTR = hTR_end_re.search(read) # search for target sequence in read\n",
    "                    \n",
    "                    # if a match was found, then the ending 2 nt need to exact match\n",
    "                    # in other words, the 2mm allowed above cannot be in the last 2nt\n",
    "                    # and a match has not been found yet\n",
    "                    if (match_hTR and (match_hTR.group()[-2:] == hTR_end[-2:]) and hTR_match == False):\n",
    "                        hTR_match = True # set to True, will not detect any more matches\n",
    "                        ntna = read[match_hTR.end():] # the ntna sequence will come after the target hTR match\n",
    "                                                      # if there is no ntna sequnce it will just be empty ''\n",
    "                        \n",
    "                        # identify primer sequence \n",
    "                        # if a match was found, then the ending 2 nt need to exact match\n",
    "                        match_primer = primer.search(read)\n",
    "                        if (match_primer and (match_primer.group()[:2] == primer_seq[:2])):\n",
    "                            bc = read[:match_primer.start()] # identify barcode sequence as sequence preceding primer\n",
    "                        \n",
    "                        if (len(bc) == 10 and ('N' not in bc)): # barcode must be 10nt and NOT contain any Ns\n",
    "                            key = (ntna, hTR_coord, bc) # this is the key for the dict: \n",
    "                                                        # tuple of (ntna seq, the hTR ending coord, barcode seq)\n",
    "                            hTR_bc_dict[key] += 1 # count every time this key occurs in the sample\n",
    "                        \n",
    "                if hTR_match == False: # troubleshooting if no hTR end sequence was found,\n",
    "                                       # this theoretically should not happen since we filtered reads to contain hTR earlier\n",
    "                    print samp, \"\\t\", str(rec.seq), \"\\n\", read\n",
    "\n",
    "        fh.close() # close fastq file\n",
    "        \n",
    "        # save dictonary as tsv file, here we have done nothing but keep track of barcodes \n",
    "        with open(\"/home/msr/code_examples/hTR_3prime_RACE_analysis_files/processed_data/ntna_dict_BCadded/\"+samp+\".tsv\", 'wa') as fh_out1:\n",
    "            for key, val in hTR_bc_dict.items(): # loop through dictionary and save as tsv file\n",
    "                fh_out1.write(str(key[0]) + \"\\t\" + # ntna seq\n",
    "                              str(key[1]) + \"\\t\" + # hTR ending coordinate\n",
    "                              str(key[2]) + \"\\t\" + # barcode seq\n",
    "                              str(val) + \"\\t\" +    # count\n",
    "                              samp + '\\n')         # sample name\n",
    "        \n",
    "        hTR_dict = Counter() # intialize new dict\n",
    "        # loop through original dict keys and collapse duplicate barcodes, \n",
    "        # so NOT counting any combination where a barcode occurs more than once\n",
    "        for key in hTR_bc_dict.keys(): # loop through keys \n",
    "            read_count += 1            # new read count, only counting a barcode once\n",
    "            bcfilt_ntna = key[0]       # ntna seq\n",
    "            bcfilt_hTR_coord = key[1]  # hTR ending coordinate\n",
    "            hTR_dict[(bcfilt_ntna, bcfilt_hTR_coord)] += 1 # since one key per barcode, \n",
    "                                                           # this counts each unique combination of \n",
    "                                                           # (ntna seq, hTR ending coordinate)\n",
    "        \n",
    "        # save collapsed barcode dict as tsv file\n",
    "        with open(\"/home/msr/code_examples/hTR_3prime_RACE_analysis_files/processed_data/ntna_dict_BCFILTER/\"+samp+\".tsv\", 'wa') as fh_out2:\n",
    "            for key, val in hTR_dict.items():\n",
    "                # normalize to total reads in sample and multiple by 100 to get percent normalized reads\n",
    "                perc = str(((float(val)/float(read_count))*100))\n",
    "                fh_out2.write(str(key[0]) + \"\\t\" + # ntna seq \n",
    "                              str(key[1]) + \"\\t\" + # hTR ending coordinate\n",
    "                              str(val) + \"\\t\" +    # count of (ntna seq, hTR ending coordinate) with unique barcode seq\n",
    "                              str(perc) + \"\\t\" +   # normalized percent\n",
    "                              str(read_count)+\"\\t\" + # total reads counted in sample (barcodes collapsed)\n",
    "                              samp + '\\n')           # sample name\n"
   ]
  },
  {
   "cell_type": "code",
   "execution_count": null,
   "metadata": {
    "collapsed": true,
    "hidden": true,
    "run_control": {
     "frozen": false,
     "read_only": false
    }
   },
   "outputs": [],
   "source": [
    "%%bash\n",
    "# gzip the fastq files we just used\n",
    "for i in ./seq_filtered_cat/*.fastq;\n",
    "do\n",
    "    pigz -p 8 $i\n",
    "done"
   ]
  },
  {
   "cell_type": "code",
   "execution_count": 8,
   "metadata": {
    "hidden": true,
    "run_control": {
     "frozen": false,
     "read_only": false
    }
   },
   "outputs": [
    {
     "name": "stdout",
     "output_type": "stream",
     "text": [
      "perfect match: <regex.Match object; span=(27, 45), match='TTTAACCGCGAATTCCAG'>\n",
      "fuzzy match: <regex.Match object; span=(27, 45), match='TTTAXXXGCGAATTCCAG', fuzzy_counts=(3, 0, 0)>\n",
      "fuzzy match: None\n"
     ]
    }
   ],
   "source": [
    "############## testing fuzzy matching with regex.compile allowing 3 mismatches #################\n",
    "\n",
    "linker_seq = \"TTTAACCGCGAATTCCAG\"\n",
    "linker = regex.compile('('+linker_seq+'){s<=3}')\n",
    "\n",
    "#this read has a  perfect match\n",
    "read = \"GTAGGACACCAGGAAGAGGAACGGAGCTTTAACCGCGAATTCCAG\"\n",
    "match = linker.search(read)\n",
    "print 'perfect match:', match\n",
    "\n",
    "#this read has 3 mismatches\n",
    "read = \"GTAGGACACCAGGAAGAGGAACGGAGCTTTAXXXGCGAATTCCAG\"\n",
    "match = linker.search(read)\n",
    "print 'fuzzy match:', match\n",
    "\n",
    "#this read has 4 mismatches\n",
    "read = \"GTAGGACACCAGGAAGAGGAACGGAGCTTTAXXXGCXAATTCCAG\"\n",
    "match = linker.search(read)\n",
    "print '4 mismatches:', match"
   ]
  },
  {
   "cell_type": "code",
   "execution_count": 31,
   "metadata": {
    "hidden": true,
    "run_control": {
     "frozen": false,
     "read_only": false
    }
   },
   "outputs": [
    {
     "name": "stdout",
     "output_type": "stream",
     "text": [
      "AAAGAA                                         455.0  14    0.00227115663518   616426  HeLa_totalRNA_1\n",
      "AAA                                            458.0  374   0.0606723272542    616426  HeLa_totalRNA_1\n",
      "ACAAA                                          444.0  2     0.000324450947883  616426  HeLa_totalRNA_1\n",
      "AGAAAAAAA                                      452.0  22    0.00356896042672   616426  HeLa_totalRNA_1\n",
      "AAAAGAGAA                                      453.0  4     0.000648901895767  616426  HeLa_totalRNA_1\n",
      "CAAAAAAAAAA                                    451.0  1     0.000162225473942  616426  HeLa_totalRNA_1\n",
      "AAAACAA                                        453.0  1     0.000162225473942  616426  HeLa_totalRNA_1\n",
      "CCCCAGGATTGGCCTCACCCATCCT                      427.0  1     0.000162225473942  616426  HeLa_totalRNA_1\n",
      "T                                              450.0  2319  0.376200874071     616426  HeLa_totalRNA_1\n",
      "TCTGTTCTTTCATGGGGAAGCAGATTTGGGTACCACCCAAGTAAA  451.0  1     0.000162225473942  616426  HeLa_totalRNA_1\n"
     ]
    }
   ],
   "source": [
    "%%bash\n",
    "# Example output in collapsed barcode files:\n",
    "head /home/msr/Projects/hui-fang/MOLNG-2232/processed_data/ntna_dict_BCFILTER/HeLa_totalRNA_1.tsv | column -t"
   ]
  },
  {
   "cell_type": "code",
   "execution_count": 51,
   "metadata": {
    "hidden": true,
    "run_control": {
     "frozen": false,
     "read_only": false
    }
   },
   "outputs": [
    {
     "name": "stdout",
     "output_type": "stream",
     "text": [
      "AAGA\t455.0\t1\t6.25\t16\t329_PARNOE_25seqs_1_1\n",
      "AAAAAA\t452.0\t1\t6.25\t16\t329_PARNOE_25seqs_1_1\n",
      "A\t455.0\t1\t6.25\t16\t329_PARNOE_25seqs_1_1\n",
      "AAAAA\t452.0\t1\t6.25\t16\t329_PARNOE_25seqs_1_1\n",
      "\t455.0\t1\t6.25\t16\t329_PARNOE_25seqs_1_1\n",
      "\t451.0\t10\t62.5\t16\t329_PARNOE_25seqs_1_1\n",
      "\t450.0\t1\t6.25\t16\t329_PARNOE_25seqs_1_1\n",
      "\t451.0\t16\t88.8888888889\t18\tHeLa_totalRNA_25seqs_1_1\n",
      "AAAAAAAA\t453.0\t1\t5.55555555556\t18\tHeLa_totalRNA_25seqs_1_1\n",
      "\t452.0\t1\t5.55555555556\t18\tHeLa_totalRNA_25seqs_1_1\n"
     ]
    }
   ],
   "source": [
    "%%bash\n",
    "# loss of total reads due to N's in BC\n",
    "cat  /home/msr/code_examples/hTR_3prime_RACE_analysis_files/processed_data/ntna_dict_BCFILTER/*"
   ]
  },
  {
   "cell_type": "markdown",
   "metadata": {
    "heading_collapsed": true,
    "hidden": true
   },
   "source": [
    "### Mutants: Find hTR End Position and Identify ntna Sequence"
   ]
  },
  {
   "cell_type": "markdown",
   "metadata": {
    "hidden": true
   },
   "source": [
    "Examples\n",
    "- VA13-pHF121 is mutant:   454-TTTTTTTT-461\n",
    "- VA13-pHF122 is mutant:   454-CGCGCTTT-461"
   ]
  },
  {
   "cell_type": "markdown",
   "metadata": {
    "heading_collapsed": true,
    "hidden": true
   },
   "source": [
    "#### VA13-pHF121 is mutant: 454-TTTTTTTT-461"
   ]
  },
  {
   "cell_type": "code",
   "execution_count": null,
   "metadata": {
    "hidden": true
   },
   "outputs": [],
   "source": [
    "### This is the same method as when filtering the reads for hTR sequence, \n",
    "### except now keeping track of the coordinates for the matching traget sequence\n",
    "\n",
    "############### split hTR sequence into 20-mers as targets for requrired read matching #############################\n",
    "\n",
    "# this is the reference hTR sequence from postion 366 to 451, the mature form of hTR\n",
    "hTR_mature = \"CAGGAAGAGGAACGGAGCGAGTCCCCGCGCGCGGCGCGATTCCCTGAGCTGTGGGACGTGCACCCAGGACTCGGCTCACACATGC\"\n",
    "\n",
    "# this is the reference sequence for hTR following position 451, sequence for hTR from position 452 to 641\n",
    "# any sequence past position 451 is called a precursor form of hTR\n",
    "precursor = \"AG\\\n",
    "TTTTTTTT\\\n",
    "CCTGTTGGTGGGGGGAACGCCGATCGTGCGCATCCGTCACCCCTCGCCGGCAATGGGGGCTTGTGAACCCCC\\\n",
    "AAACCTGACTGACTGGGCCAGTGTGCTGCAAATTGGCAGGAGACGTGAAGGCACCTCCAAAGTCGGCCAAAATGAATGGGCAGTGAGCCGGGGTTGCCTGGAGCCGTT\"\n",
    "\n",
    "\n",
    "coord_start = 451 + len(precursor) # the startding coordinate is the most 3' coordinate, here 641\n",
    "\n",
    "hTR_seq = hTR_mature + precursor # combine mature and precursor form into one sequence\n",
    "\n",
    "def hTR_targets(htr_seq):\n",
    "    targets = [] # initialize array\n",
    "                 # this array will contains tuple of (20nt_sequence, (index_start, index_end), htr_end_position)\n",
    "    c = len(htr_seq) # length of given sequence\n",
    "    for i in range(c-19): # index across sequence, for as long as the sequence-19 \n",
    "                          # (subtracting 19 bc doing this for bins of 20nt kmers) \n",
    "        if i == 0: # if this is the begining of the sequence\n",
    "            fragment = htr_seq[-20:] # grab the last 20 nt of the sequence\n",
    "            # adding to array (20nt_sequence, (index_start, index_end), htr_end_position)\n",
    "            targets.append((fragment, (i+1, i+20), float(coord_start)))\n",
    "        else:\n",
    "            fragment = htr_seq[-(i+20):-i] # move across the sequence in 1 nt windowns, starting from the end\n",
    "            # for current 20mer add to array (20nt_sequence, (index_start, index_end), htr_end_position)\n",
    "            targets.append((fragment, (i+1, i+20), (float(coord_start)-i)))\n",
    "        #print fragment\n",
    "    return targets\n",
    "\n",
    "targets = hTR_targets(hTR_seq)\n",
    "print targets"
   ]
  },
  {
   "cell_type": "code",
   "execution_count": null,
   "metadata": {
    "hidden": true
   },
   "outputs": [],
   "source": [
    "#### define linker and primer sequences\n",
    "linker_seq = \"TTTAACCGCG\" # this is at the 3' end of every sequence\n",
    "primer_seq = \"CAGGAAGAGGAACGGAGCGAGT\" # hTR specific primer sequence\n",
    "primer = regex.compile('('+primer_seq+'){s<=2}') # allow 2 mm when searching for primer sequence\n",
    "\n",
    "# initialize counter dictionary\n",
    "hTR_bc_dict = Counter() ## key=(ntna, hTR end position, 10nt_barcode), val=occurrence\n",
    "read_count = 0 # initialize total read count per sample\n",
    "\n",
    "path = \"./processed_data/seq_filtered_cat_VA13mutants/\" # specify mutant dir\n",
    "sample=\"VA13_pHF121_1.fastq\" # specify mutant sample\n",
    "fh = SeqIO.parse(open(path+sample),'fastq')\n",
    "samp = (os.path.splitext(sample)[0]).split(\"_1.fastq\")[0]\n",
    "print samp # print sample name to keep track of how many samples have ran\n",
    "\n",
    "for rec in fh: # for each sequence in the fastq file\n",
    "        read = str(rec.seq) # convert Seq to string\n",
    "        hTR_match = False   # initialize hTR match found to False\n",
    "\n",
    "        match_linker = regex.search(linker_seq, read) # find linker sequence\n",
    "        if match_linker: # we filtered reads for having linker sequence, so they should all have this\n",
    "            read = read[:match_linker.start()] # trim off the linker sequence from the read\n",
    "\n",
    "        for i in targets: # loop through the targets created above\n",
    "            hTR_end = i[0] # this is the hTR ending sequence\n",
    "            hTR_coord = i[2] # coordinate for the most 3' nt of the \n",
    "            #match_hTR = regex.search(hTR_end, read)\n",
    "            hTR_end_re = regex.compile('('+hTR_end+'){s<=2}') # compile the target hTR_end sequence to allow 2mm\n",
    "            match_hTR = hTR_end_re.search(read) # search for target sequence in read\n",
    "\n",
    "            # if a match was found, then the ending 2 nt need to exact match\n",
    "            # in other words, the 2mm allowed above cannot be in the last 2nt\n",
    "            # and a match has not been found yet\n",
    "            if (match_hTR and (match_hTR.group()[-2:] == hTR_end[-2:]) and hTR_match == False):\n",
    "                hTR_match = True # set to True, will not detect any more matches\n",
    "                ntna = read[match_hTR.end():] # the ntna sequence will come after the target hTR match\n",
    "                                              # if there is no ntna sequnce it will just be empty ''\n",
    "\n",
    "                # identify primer sequence \n",
    "                # if a match was found, then the ending 2 nt need to exact match\n",
    "                match_primer = primer.search(read)\n",
    "                if (match_primer and (match_primer.group()[:2] == primer_seq[:2])):\n",
    "                    bc = read[:match_primer.start()] # identify barcode sequence as sequence preceding primer\n",
    "\n",
    "                if (len(bc) == 10 and ('N' not in bc)): # barcode must be 10nt and NOT contain any Ns\n",
    "                    key = (ntna, hTR_coord, bc) # this is the key for the dict: \n",
    "                                                # tuple of (ntna seq, the hTR ending coord, barcode seq)\n",
    "                    hTR_bc_dict[key] += 1 # count every time this key occurs in the sample\n",
    "\n",
    "        if hTR_match == False: # troubleshooting if no hTR end sequence was found,\n",
    "                               # this theoretically should not happen since we filtered reads to contain hTR earlier\n",
    "            print samp, \"\\t\", str(rec.seq), \"\\n\", read\n",
    "\n",
    "fh.close() # close fastq file\n",
    "\n",
    "# save dictonary as tsv file, here we have done nothing but keep track of barcodes \n",
    "with open(\"./processed_data/ntna_dict_BCadded/\"+samp+\".tsv\", 'wa') as fh_out1:\n",
    "    for key, val in hTR_bc_dict.items(): # loop through dictionary and save as tsv file\n",
    "        fh_out1.write(str(key[0]) + \"\\t\" + # ntna seq\n",
    "                      str(key[1]) + \"\\t\" + # hTR ending coordinate\n",
    "                      str(key[2]) + \"\\t\" + # barcode seq\n",
    "                      str(val) + \"\\t\" +    # count\n",
    "                      samp + '\\n')         # sample name\n",
    "\n",
    "hTR_dict = Counter() # intialize new dict\n",
    "# loop through original dict keys and collapse duplicate barcodes, \n",
    "# so NOT counting any combination where a barcode occurs more than once\n",
    "for key in hTR_bc_dict.keys(): # loop through keys \n",
    "    read_count += 1            # new read count, only counting a barcode once\n",
    "    bcfilt_ntna = key[0]       # ntna seq\n",
    "    bcfilt_hTR_coord = key[1]  # hTR ending coordinate\n",
    "    hTR_dict[(bcfilt_ntna, bcfilt_hTR_coord)] += 1 # since one key per barcode, \n",
    "                                                   # this counts each unique combination of \n",
    "                                                   # (ntna seq, hTR ending coordinate)\n",
    "\n",
    "# save collapsed barcode dict as tsv file\n",
    "with open(\"./processed_data/ntna_dict_BCFILTER/\"+samp+\".tsv\", 'wa') as fh_out2:\n",
    "    for key, val in hTR_dict.items():\n",
    "        # normalize to total reads in sample and multiple by 100 to get percent normalized reads\n",
    "        perc = str(((float(val)/float(read_count))*100))\n",
    "        fh_out2.write(str(key[0]) + \"\\t\" + # ntna seq \n",
    "                      str(key[1]) + \"\\t\" + # hTR ending coordinate\n",
    "                      str(val) + \"\\t\" +    # count of (ntna seq, hTR ending coordinate) with unique barcode seq\n",
    "                      str(perc) + \"\\t\" +   # normalized percent\n",
    "                      str(read_count)+\"\\t\" + # total reads counted in sample (barcodes collapsed)\n",
    "                      samp + '\\n')           # sample name"
   ]
  },
  {
   "cell_type": "markdown",
   "metadata": {
    "heading_collapsed": true,
    "hidden": true
   },
   "source": [
    "#### VA13-pHF122 is mutant: 454-CGCGCTTT-461"
   ]
  },
  {
   "cell_type": "code",
   "execution_count": null,
   "metadata": {
    "hidden": true
   },
   "outputs": [],
   "source": [
    "### This is the same method as when filtering the reads for hTR sequence, \n",
    "### except now keeping track of the coordinates for the matching traget sequence\n",
    "\n",
    "############### split hTR sequence into 20-mers as targets for requrired read matching #############################\n",
    "\n",
    "# this is the reference hTR sequence from postion 366 to 451, the mature form of hTR\n",
    "hTR_mature = \"CAGGAAGAGGAACGGAGCGAGTCCCCGCGCGCGGCGCGATTCCCTGAGCTGTGGGACGTGCACCCAGGACTCGGCTCACACATGC\"\n",
    "\n",
    "# this is the reference sequence for hTR following position 451, sequence for hTR from position 452 to 641\n",
    "# any sequence past position 451 is called a precursor form of hTR\n",
    "precursor = \"AG\\\n",
    "CGCGCTTT\\\n",
    "CCTGTTGGTGGGGGGAACGCCGATCGTGCGCATCCGTCACCCCTCGCCGGCAATGGGGGCTTGTGAACCCCC\\\n",
    "AAACCTGACTGACTGGGCCAGTGTGCTGCAAATTGGCAGGAGACGTGAAGGCACCTCCAAAGTCGGCCAAAATGAATGGGCAGTGAGCCGGGGTTGCCTGGAGCCGTT\"\n",
    "\n",
    "coord_start = 451 + len(precursor) # the startding coordinate is the most 3' coordinate, here 641\n",
    "\n",
    "hTR_seq = hTR_mature + precursor # combine mature and precursor form into one sequence\n",
    "\n",
    "def hTR_targets(htr_seq):\n",
    "    targets = [] # initialize array\n",
    "                 # this array will contains tuple of (20nt_sequence, (index_start, index_end), htr_end_position)\n",
    "    c = len(htr_seq) # length of given sequence\n",
    "    for i in range(c-19): # index across sequence, for as long as the sequence-19 \n",
    "                          # (subtracting 19 bc doing this for bins of 20nt kmers) \n",
    "        if i == 0: # if this is the begining of the sequence\n",
    "            fragment = htr_seq[-20:] # grab the last 20 nt of the sequence\n",
    "            # adding to array (20nt_sequence, (index_start, index_end), htr_end_position)\n",
    "            targets.append((fragment, (i+1, i+20), float(coord_start)))\n",
    "        else:\n",
    "            fragment = htr_seq[-(i+20):-i] # move across the sequence in 1 nt windowns, starting from the end\n",
    "            # for current 20mer add to array (20nt_sequence, (index_start, index_end), htr_end_position)\n",
    "            targets.append((fragment, (i+1, i+20), (float(coord_start)-i)))\n",
    "        #print fragment\n",
    "    return targets\n",
    "\n",
    "targets = hTR_targets(hTR_seq)\n",
    "print targets"
   ]
  },
  {
   "cell_type": "code",
   "execution_count": null,
   "metadata": {
    "hidden": true
   },
   "outputs": [],
   "source": [
    "#### define linker and primer sequences\n",
    "linker_seq = \"TTTAACCGCG\" # this is at the 3' end of every sequence\n",
    "primer_seq = \"CAGGAAGAGGAACGGAGCGAGT\" # hTR specific primer sequence\n",
    "primer = regex.compile('('+primer_seq+'){s<=2}') # allow 2 mm when searching for primer sequence\n",
    "\n",
    "# initialize counter dictionary\n",
    "hTR_bc_dict = Counter() ## key=(ntna, hTR end position, 10nt_barcode), val=occurrence\n",
    "read_count = 0 # initialize total read count per sample\n",
    "\n",
    "path = \"./processed_data/seq_filtered_cat_VA13mutants/\" # specify mutant dir\n",
    "sample=\"VA13_pHF122_1.fastq\"# specify mutant sample\n",
    "fh = SeqIO.parse(open(path+sample),'fastq')\n",
    "samp = (os.path.splitext(sample)[0]).split(\"_1.fastq\")[0]\n",
    "print samp # print sample name to keep track of how many samples have ran\n",
    "\n",
    "for rec in fh: # for each sequence in the fastq file\n",
    "        read = str(rec.seq) # convert Seq to string\n",
    "        hTR_match = False   # initialize hTR match found to False\n",
    "\n",
    "        match_linker = regex.search(linker_seq, read) # find linker sequence\n",
    "        if match_linker: # we filtered reads for having linker sequence, so they should all have this\n",
    "            read = read[:match_linker.start()] # trim off the linker sequence from the read\n",
    "\n",
    "        for i in targets: # loop through the targets created above\n",
    "            hTR_end = i[0] # this is the hTR ending sequence\n",
    "            hTR_coord = i[2] # coordinate for the most 3' nt of the \n",
    "            #match_hTR = regex.search(hTR_end, read)\n",
    "            hTR_end_re = regex.compile('('+hTR_end+'){s<=2}') # compile the target hTR_end sequence to allow 2mm\n",
    "            match_hTR = hTR_end_re.search(read) # search for target sequence in read\n",
    "\n",
    "            # if a match was found, then the ending 2 nt need to exact match\n",
    "            # in other words, the 2mm allowed above cannot be in the last 2nt\n",
    "            # and a match has not been found yet\n",
    "            if (match_hTR and (match_hTR.group()[-2:] == hTR_end[-2:]) and hTR_match == False):\n",
    "                hTR_match = True # set to True, will not detect any more matches\n",
    "                ntna = read[match_hTR.end():] # the ntna sequence will come after the target hTR match\n",
    "                                              # if there is no ntna sequnce it will just be empty ''\n",
    "\n",
    "                # identify primer sequence \n",
    "                # if a match was found, then the ending 2 nt need to exact match\n",
    "                match_primer = primer.search(read)\n",
    "                if (match_primer and (match_primer.group()[:2] == primer_seq[:2])):\n",
    "                    bc = read[:match_primer.start()] # identify barcode sequence as sequence preceding primer\n",
    "\n",
    "                if (len(bc) == 10 and ('N' not in bc)): # barcode must be 10nt and NOT contain any Ns\n",
    "                    key = (ntna, hTR_coord, bc) # this is the key for the dict: \n",
    "                                                # tuple of (ntna seq, the hTR ending coord, barcode seq)\n",
    "                    hTR_bc_dict[key] += 1 # count every time this key occurs in the sample\n",
    "\n",
    "        if hTR_match == False: # troubleshooting if no hTR end sequence was found,\n",
    "                               # this theoretically should not happen since we filtered reads to contain hTR earlier\n",
    "            print samp, \"\\t\", str(rec.seq), \"\\n\", read\n",
    "\n",
    "fh.close() # close fastq file\n",
    "\n",
    "# save dictonary as tsv file, here we have done nothing but keep track of barcodes \n",
    "with open(\"./processed_data/ntna_dict_BCadded/\"+samp+\".tsv\", 'wa') as fh_out1:\n",
    "    for key, val in hTR_bc_dict.items(): # loop through dictionary and save as tsv file\n",
    "        fh_out1.write(str(key[0]) + \"\\t\" + # ntna seq\n",
    "                      str(key[1]) + \"\\t\" + # hTR ending coordinate\n",
    "                      str(key[2]) + \"\\t\" + # barcode seq\n",
    "                      str(val) + \"\\t\" +    # count\n",
    "                      samp + '\\n')         # sample name\n",
    "\n",
    "hTR_dict = Counter() # intialize new dict\n",
    "# loop through original dict keys and collapse duplicate barcodes, \n",
    "# so NOT counting any combination where a barcode occurs more than once\n",
    "for key in hTR_bc_dict.keys(): # loop through keys \n",
    "    read_count += 1            # new read count, only counting a barcode once\n",
    "    bcfilt_ntna = key[0]       # ntna seq\n",
    "    bcfilt_hTR_coord = key[1]  # hTR ending coordinate\n",
    "    hTR_dict[(bcfilt_ntna, bcfilt_hTR_coord)] += 1 # since one key per barcode, \n",
    "                                                   # this counts each unique combination of \n",
    "                                                   # (ntna seq, hTR ending coordinate)\n",
    "\n",
    "# save collapsed barcode dict as tsv file\n",
    "with open(\"./processed_data/ntna_dict_BCFILTER/\"+samp+\".tsv\", 'wa') as fh_out2:\n",
    "    for key, val in hTR_dict.items():\n",
    "        # normalize to total reads in sample and multiple by 100 to get percent normalized reads\n",
    "        perc = str(((float(val)/float(read_count))*100))\n",
    "        fh_out2.write(str(key[0]) + \"\\t\" + # ntna seq \n",
    "                      str(key[1]) + \"\\t\" + # hTR ending coordinate\n",
    "                      str(val) + \"\\t\" +    # count of (ntna seq, hTR ending coordinate) with unique barcode seq\n",
    "                      str(perc) + \"\\t\" +   # normalized percent\n",
    "                      str(read_count)+\"\\t\" + # total reads counted in sample (barcodes collapsed)\n",
    "                      samp + '\\n')           # sample name"
   ]
  },
  {
   "cell_type": "markdown",
   "metadata": {
    "heading_collapsed": true,
    "run_control": {
     "frozen": false,
     "read_only": false
    }
   },
   "source": [
    "## Plot the Distribution of hTR Ending Positions"
   ]
  },
  {
   "cell_type": "code",
   "execution_count": 52,
   "metadata": {
    "hidden": true,
    "run_control": {
     "frozen": false,
     "read_only": false
    }
   },
   "outputs": [],
   "source": [
    "%%bash\n",
    "\n",
    "# create directory for saving fig\n",
    "mkdir -p /home/msr/code_examples/hTR_3prime_RACE_analysis_files/fig\n",
    "\n",
    "# concatenate all the ntna tsv files per sample into one file  \n",
    "for i in /home/msr/code_examples/hTR_3prime_RACE_analysis_files/processed_data/ntna_dict_BCFILTER/*.tsv; \\\n",
    "do cat $i >> /home/msr/code_examples/hTR_3prime_RACE_analysis_files/processed_data/all_samples.tsv; done"
   ]
  },
  {
   "cell_type": "code",
   "execution_count": 1,
   "metadata": {
    "collapsed": true,
    "hidden": true,
    "run_control": {
     "frozen": false,
     "read_only": false
    }
   },
   "outputs": [],
   "source": [
    "## start R kernel\n",
    "library(ggplot2)\n",
    "library(WriteXLS)\n",
    "library(RColorBrewer)"
   ]
  },
  {
   "cell_type": "code",
   "execution_count": 2,
   "metadata": {
    "hidden": true,
    "run_control": {
     "frozen": false,
     "read_only": false
    },
    "scrolled": true
   },
   "outputs": [
    {
     "data": {},
     "metadata": {},
     "output_type": "display_data"
    },
    {
     "data": {
      "image/png": "[encoded data removed]",
      "text/plain": [
       "plot without title"
      ]
     },
     "metadata": {},
     "output_type": "display_data"
    }
   ],
   "source": [
    "# set figure display dimensions\n",
    "options(repr.plot.width=12, repr.plot.height=12)\n",
    "\n",
    "# read in data\n",
    "data <- read.table(file = \"~/Projects/hui-fang/MOLNG-2232/processed_data/all_samples.tsv\",\n",
    "                   header = FALSE, \n",
    "                   sep = \"\\t\")\n",
    "# name cols\n",
    "colnames(data) <- c('ntna', 'hTR_end', 'reads', \n",
    "                    'perc_reads', 'tota_reads', 'sample')\n",
    "\n",
    "################## bin data in groups <= 450, 451, 452 & >=453 ##################\n",
    "sub_450 <- subset(data, data$hTR_end <= 450.0)\n",
    "sub_450$bin <- rep(\"<=450\", nrow(sub_450))\n",
    "sub_450$hTR_end <- rep(450.0, nrow(sub_450))\n",
    "\n",
    "sub_451 <- subset(data, data$hTR_end == 451.0)\n",
    "sub_451$bin <- rep(\"451\", nrow(sub_451))\n",
    "sub_452 <- subset(data, data$hTR_end == 452.0)\n",
    "sub_452$bin <- rep(\"452\", nrow(sub_452))\n",
    "\n",
    "sub_453 <- subset(data, data$hTR_end >= 453.0 & data$hTR_end < 500.0)\n",
    "sub_453$bin <- rep(\">=453\", nrow(sub_453))\n",
    "\n",
    "sub_500 <- subset(data, data$hTR_end >= 500.0)\n",
    "sub_500$bin <- rep(\">=453\", nrow(sub_500))\n",
    "sub_500$hTR_end <- rep(500.0, nrow(sub_500))\n",
    "\n",
    "bin_data <- rbind(sub_450, sub_451, sub_452, sub_453, sub_500)\n",
    "#####################################################################################\n",
    "\n",
    "# plot dataframe\n",
    "g <- ggplot(bin_data, \n",
    "            aes(x = hTR_end, \n",
    "                y = perc_reads, \n",
    "                fill = as.factor(bin))) + \n",
    "            geom_bar(stat = 'identity') +\n",
    "            theme_bw() +\n",
    "            scale_y_continuous(expand = waiver(), \n",
    "                               limits = c(0, 100), \n",
    "                               breaks = seq(0,100,10)) +\n",
    "            scale_x_continuous(expand = c(0,0), \n",
    "                               limits = c(449,501), \n",
    "                               breaks = seq(450, 500, 10), \n",
    "                               labels = c(expression(phantom(x)<= 450), \n",
    "                                          \"460\", \"470\", \"480\", \"490\", \n",
    "                                          expression(phantom(x)>= 500))) +\n",
    "            ggtitle(\"hTR 3' End Position Distribution\") +\n",
    "            xlab(\"hTR 3' End Position\") + ylab(\"Percentage of Reads\") +\n",
    "            theme(plot.title   = element_text(size=30),\n",
    "                  axis.text.x  = element_text(size=14, \n",
    "                                              angle = 90, \n",
    "                                              vjust = 0.5, \n",
    "                                              hjust = 1),\n",
    "                  axis.text.y  = element_text(size=14),\n",
    "                  axis.title.x = element_text(size=30),\n",
    "                  axis.title.y = element_text(size=30),\n",
    "                  strip.text   = element_text(size=16),\n",
    "                  legend.text  = element_text(size=24),\n",
    "                  legend.title = element_text(size=24),\n",
    "                   legend.key  = element_blank(),\n",
    "                 legend.position='top') +\n",
    "            scale_fill_manual(name=\"hTR 3' End Position\",\n",
    "                            values=c(\"<=450\" = \"#FDBF6F\", \n",
    "                                     \"451\"   = \"#B2DF8A\",\n",
    "                                     \"452\"   = \"#33A02C\", \n",
    "                                     \">=453\" = \"#A6CEE3\"),\n",
    "                            labels=c(expression(phantom(x)<= 450),  \n",
    "                                     \"451\", \"452\", \n",
    "                                     expression(phantom(x)>= 453)),\n",
    "                             breaks=c(\"<=450\", \"451\", \"452\", \">=453\")) +\n",
    "            facet_wrap(~sample, ncol = 4)\n",
    "\n",
    "# save figure\n",
    "#ggsave(g, \n",
    "#       file=\"./fig/all_samples_facet_hTR_end_dist.pdf\",\n",
    "#       width = 12, height = 12)\n",
    "\n",
    "g"
   ]
  },
  {
   "cell_type": "markdown",
   "metadata": {
    "collapsed": true,
    "hidden": true,
    "run_control": {
     "frozen": false,
     "read_only": false
    }
   },
   "source": [
    ">**In the figure above, we compare the hTR ending position in knock out samples to the control. The mature form of hTR ends at position 451, and this dominant population of hTR in the control sample. If there is an increase in the precursor population of hTR (>= 453) or premature form (<= 450) we can determine where in the RNA processing and degradation mechanism these knock out samples fit in.** "
   ]
  },
  {
   "cell_type": "markdown",
   "metadata": {
    "heading_collapsed": true,
    "run_control": {
     "frozen": false,
     "read_only": false
    }
   },
   "source": [
    "## Binning hTR ends into categories"
   ]
  },
  {
   "cell_type": "code",
   "execution_count": 53,
   "metadata": {
    "hidden": true,
    "run_control": {
     "frozen": false,
     "read_only": false
    }
   },
   "outputs": [],
   "source": [
    "def bin_hTR_forms(samp, min_bin, max_bin, out_type):\n",
    "    \"\"\" this function takes the output files in the ntna_dict_BCFILER.\n",
    "    It bins this data into categories with user supplied min & max bin. \n",
    "    User defines out_type to decide if normalized percent reads (out_type='perc reads')\n",
    "    or read count (out_type='num reads') are to be used.\"\"\"\n",
    "    \n",
    "    bins = Counter()\n",
    "    \n",
    "    with open(samp, 'r') as fh:\n",
    "      \n",
    "        for line in fh:\n",
    "            line = line.strip('\\n')\n",
    "            ntna = line.split(\"\\t\")[0]\n",
    "            #print(type(line.split(\"\\t\")[1]))\n",
    "            hTR_end = int(float(line.split(\"\\t\")[1]))\n",
    "            reads = int(float(line.split(\"\\t\")[2]))\n",
    "            perc = float(line.split(\"\\t\")[3])\n",
    "            total_reads = line.split(\"\\t\")[4]\n",
    "            \n",
    "            if out_type == 'perc reads':\n",
    "                out_count = perc\n",
    "            elif out_type == 'num reads':\n",
    "                out_count = reads\n",
    "        \n",
    "        \n",
    "            if hTR_end <= min_bin: \n",
    "                if len(ntna) == 0:\n",
    "                    bins['<='+str(min_bin)] += out_count\n",
    "                else:\n",
    "                    if ntna == 'A':\n",
    "                        bins['<='+str(min_bin)+'_A'] += out_count\n",
    "                    elif ntna == 'T':\n",
    "                        key = '<='+str(min_bin)+'_T'\n",
    "                        bins[key] += out_count\n",
    "                    elif ntna == 'C':\n",
    "                        key = '<='+str(min_bin)+'_C'\n",
    "                        bins[key] += out_count\n",
    "                    elif ntna == 'G':\n",
    "                        key = '<='+str(min_bin)+'_G'\n",
    "                        bins[key] += out_count\n",
    "                    else:\n",
    "                        non_A = sum(y != 'A' for y in ntna)\n",
    "                        if non_A/float(len(ntna)) <= 0.1:\n",
    "                            bins['<='+str(min_bin)+'_An'] += out_count\n",
    "                        else:\n",
    "                            bins['<='+str(min_bin)+'_other'] += out_count\n",
    "\n",
    "            elif hTR_end in range(min_bin+1, max_bin):\n",
    "                for i in range(min_bin+1, max_bin):\n",
    "                    if hTR_end == i:\n",
    "                        if len(ntna) == 0:\n",
    "                            bins[str(i)] += out_count\n",
    "                        else:\n",
    "                            if ntna == 'A':\n",
    "                                key = str(i)+'_A'\n",
    "                                bins[key] += out_count\n",
    "                            elif ntna == 'T':\n",
    "                                key = str(i)+'_T'\n",
    "                                bins[key] += out_count\n",
    "                            elif ntna == 'C':\n",
    "                                key = str(i)+'_C'\n",
    "                                bins[key] += out_count\n",
    "                            elif ntna == 'G':\n",
    "                                key = str(i)+'_G'\n",
    "                                bins[key] += out_count\n",
    "                            \n",
    "                            else:\n",
    "                                non_A = sum(y != 'A' for y in ntna)\n",
    "                                if non_A/float(len(ntna)) <= 0.1:\n",
    "                                    key = str(i)+'_An'\n",
    "                                    bins[key] += out_count\n",
    "                                else:\n",
    "                                    key = str(i)+'_other'\n",
    "                                    bins[key] += out_count\n",
    "            elif hTR_end >= max_bin: \n",
    "                if len(ntna) == 0:\n",
    "                    bins['>='+str(max_bin)] += out_count\n",
    "                else:\n",
    "                    if ntna == 'A':\n",
    "                        bins['>='+str(max_bin)+'_A'] += out_count\n",
    "                    elif ntna == 'T':\n",
    "                        key = '>='+str(max_bin)+'_T'\n",
    "                        bins[key] += out_count\n",
    "                    elif ntna == 'C':\n",
    "                        key = '>='+str(max_bin)+'_C'\n",
    "                        bins[key] += out_count\n",
    "                    elif ntna == 'G':\n",
    "                        key = '>='+str(max_bin)+'_G'\n",
    "                        bins[key] += out_count\n",
    "                    else:\n",
    "                        non_A = sum(y != 'A' for y in ntna)\n",
    "                        if non_A/float(len(ntna)) <= 0.1:\n",
    "                            bins['>='+str(max_bin)+'_An'] += out_count\n",
    "                        else:\n",
    "                            bins['>='+str(max_bin)+'_other'] += out_count\n",
    "\n",
    "\n",
    "    \n",
    "    return bins"
   ]
  },
  {
   "cell_type": "markdown",
   "metadata": {
    "heading_collapsed": true,
    "hidden": true,
    "run_control": {
     "frozen": false,
     "read_only": false
    }
   },
   "source": [
    "### bin into <= 386, 387, ... , 451, ..., 460, >=461"
   ]
  },
  {
   "cell_type": "markdown",
   "metadata": {
    "hidden": true,
    "run_control": {
     "frozen": false,
     "read_only": false
    }
   },
   "source": [
    "> <= 386, <=386+An, <= 386 + other\n",
    "\n",
    "> ...\n",
    "\n",
    "> 451, 451 + An, 451 + other\n",
    "\n",
    "> ...\n",
    "\n",
    "> 458, 458 + An, 458 + other\n",
    "\n",
    "> 459, 459 + An, 459 + other\n",
    "\n",
    "> \\>= 460, >= 460 + An, >= 460 + other\n",
    "\n",
    "    &\n",
    "- hTRend_ + T\n",
    "- hTRend_ + C\n",
    "- hTRend_ + G"
   ]
  },
  {
   "cell_type": "code",
   "execution_count": 56,
   "metadata": {
    "hidden": true,
    "run_control": {
     "frozen": false,
     "read_only": false
    }
   },
   "outputs": [],
   "source": [
    "%%bash\n",
    "\n",
    "mkdir -p /home/msr/code_examples/hTR_3prime_RACE_analysis_files/spreadsheets"
   ]
  },
  {
   "cell_type": "code",
   "execution_count": 19,
   "metadata": {
    "hidden": true,
    "run_control": {
     "frozen": false,
     "read_only": false
    }
   },
   "outputs": [
    {
     "data": {
      "text/plain": [
       "Counter({'387': 0.113557831759,\n",
       "         '387_A': 0.000162225473942,\n",
       "         '387_G': 0.00178448021336,\n",
       "         '387_other': 0.10155314668754595,\n",
       "         '388': 0.0178448021336,\n",
       "         '388_other': 0.009571302962562001,\n",
       "         '389': 0.00356896042672,\n",
       "         '389_T': 0.00129780379153,\n",
       "         '389_other': 0.2297112711020062,\n",
       "         '390': 0.00551566611402,\n",
       "         '391': 0.0629434838894,\n",
       "         '391_A': 0.0233604682476,\n",
       "         '391_G': 0.00129780379153,\n",
       "         '391_other': 0.001622254739418,\n",
       "         '392': 0.252098386505,\n",
       "         '392_A': 0.00340673495278,\n",
       "         '392_other': 0.000648901895767,\n",
       "         '393': 0.227277888992,\n",
       "         '393_A': 0.00908462654074,\n",
       "         '393_An': 0.00178448021336,\n",
       "         '393_T': 0.00243338210913,\n",
       "         '393_other': 0.007137920853437001,\n",
       "         '394': 0.0339051240538,\n",
       "         '394_An': 0.000486676421825,\n",
       "         '394_other': 0.000162225473942,\n",
       "         '395': 0.0266049777264,\n",
       "         '395_A': 0.00989575391045,\n",
       "         '395_An': 0.001622254739418,\n",
       "         '395_other': 0.00162225473942,\n",
       "         '396': 0.0168714492899,\n",
       "         '396_A': 0.000324450947883,\n",
       "         '397': 0.0116802341238,\n",
       "         '397_A': 0.00227115663518,\n",
       "         '397_An': 0.012329136019566998,\n",
       "         '397_G': 0.0019467056873,\n",
       "         '397_other': 0.00113557831759,\n",
       "         '398': 0.0097335284365,\n",
       "         '398_An': 0.001784480213357,\n",
       "         '399': 0.128482575362,\n",
       "         '399_A': 0.00178448021336,\n",
       "         '399_An': 0.008111273697094001,\n",
       "         '399_other': 0.000973352843651,\n",
       "         '400': 0.139676133064,\n",
       "         '400_A': 0.0128158124414,\n",
       "         '400_An': 0.00373118590066,\n",
       "         '400_other': 0.000162225473942,\n",
       "         '401': 0.195319470626,\n",
       "         '401_A': 0.0113557831759,\n",
       "         '401_An': 0.00097335284365,\n",
       "         '402': 0.0146002926548,\n",
       "         '402_A': 0.00146002926548,\n",
       "         '402_other': 0.00162225473942,\n",
       "         '403': 0.00373118590066,\n",
       "         '404': 0.0191426059251,\n",
       "         '405': 0.0587256215669,\n",
       "         '405_A': 0.016709223816,\n",
       "         '405_An': 0.005028989692194,\n",
       "         '405_other': 0.003082284004889,\n",
       "         '406': 0.0256316248828,\n",
       "         '406_A': 0.00616456800979,\n",
       "         '406_An': 0.000324450947883,\n",
       "         '406_other': 0.00146002926548,\n",
       "         '407': 0.0128158124414,\n",
       "         '407_A': 0.00146002926548,\n",
       "         '407_An': 0.00275783305701,\n",
       "         '407_other': 0.000648901895767,\n",
       "         '408': 0.00421786232248,\n",
       "         '408_other': 0.00162225473942,\n",
       "         '409': 0.0193048313991,\n",
       "         '409_A': 0.00162225473942,\n",
       "         '409_other': 0.000324450947884,\n",
       "         '410': 0.0162225473942,\n",
       "         '410_A': 0.00097335284365,\n",
       "         '410_other': 0.000324450947884,\n",
       "         '411': 0.00681346990555,\n",
       "         '411_An': 0.000486676421825,\n",
       "         '411_other': 0.000648901895767,\n",
       "         '412': 0.00924685201468,\n",
       "         '412_other': 0.000162225473942,\n",
       "         '413': 0.00308228400489,\n",
       "         '414': 0.00129780379153,\n",
       "         '416_other': 0.000162225473942,\n",
       "         '420': 0.000811127369709,\n",
       "         '420_An': 0.00097335284365,\n",
       "         '421': 0.000324450947883,\n",
       "         '422': 0.0077868227492,\n",
       "         '422_An': 0.00178448021336,\n",
       "         '423': 0.0377985354284,\n",
       "         '423_A': 0.00162225473942,\n",
       "         '423_other': 0.000162225473942,\n",
       "         '424': 0.103013175953,\n",
       "         '424_other': 0.000162225473942,\n",
       "         '425': 0.00227115663518,\n",
       "         '425_other': 0.000162225473942,\n",
       "         '426': 0.00616456800979,\n",
       "         '426_An': 0.000648901895767,\n",
       "         '427': 0.00097335284365,\n",
       "         '427_other': 0.000162225473942,\n",
       "         '428': 0.00210893116124,\n",
       "         '428_A': 0.000324450947883,\n",
       "         '428_An': 0.000648901895767,\n",
       "         '428_other': 0.000162225473942,\n",
       "         '429': 0.00210893116124,\n",
       "         '429_A': 0.00292005853095,\n",
       "         '429_An': 0.00454231327037,\n",
       "         '429_G': 0.00162225473942,\n",
       "         '429_other': 0.000811127369709,\n",
       "         '430': 0.011031332228,\n",
       "         '430_A': 0.00178448021336,\n",
       "         '430_An': 0.001135578317592,\n",
       "         '430_other': 0.00048667642182600003,\n",
       "         '431': 0.0019467056873,\n",
       "         '431_other': 0.00048667642182600003,\n",
       "         '432': 0.00438008779643,\n",
       "         '432_other': 0.000324450947883,\n",
       "         '434_other': 0.0043800877964310005,\n",
       "         '435_other': 0.00048667642182600003,\n",
       "         '437_other': 0.000162225473942,\n",
       "         '438': 0.00308228400489,\n",
       "         '438_other': 0.000324450947883,\n",
       "         '439': 0.00827349917103,\n",
       "         '439_A': 0.00227115663518,\n",
       "         '439_An': 0.00113557831759,\n",
       "         '439_other': 0.000811127369709,\n",
       "         '440': 0.0019467056873,\n",
       "         '440_other': 0.001135578317594,\n",
       "         '441': 0.00146002926548,\n",
       "         '441_A': 0.000486676421825,\n",
       "         '441_An': 0.000648901895767,\n",
       "         '441_other': 0.001297803791535,\n",
       "         '442': 0.000162225473942,\n",
       "         '442_other': 0.000648901895768,\n",
       "         '443': 0.00519121516614,\n",
       "         '443_other': 0.000324450947884,\n",
       "         '444': 0.00421786232248,\n",
       "         '444_An': 0.000648901895767,\n",
       "         '444_other': 0.0048667642182469995,\n",
       "         '445': 0.0133024888632,\n",
       "         '445_T': 0.00113557831759,\n",
       "         '445_other': 0.0019467056872999999,\n",
       "         '446': 0.0295250362574,\n",
       "         '446_A': 0.0113557831759,\n",
       "         '446_An': 0.026118301304659003,\n",
       "         '446_G': 0.0019467056873,\n",
       "         '446_other': 0.009571302962558002,\n",
       "         '447': 0.0403941430115,\n",
       "         '447_G': 0.000162225473942,\n",
       "         '447_T': 0.00210893116124,\n",
       "         '447_other': 0.003244509478835,\n",
       "         '448': 0.138216103798,\n",
       "         '448_A': 0.0337428985799,\n",
       "         '448_An': 0.068945826425209,\n",
       "         '448_C': 0.000324450947883,\n",
       "         '448_other': 0.012653586967457999,\n",
       "         '449': 0.703085204063,\n",
       "         '449_A': 0.0712169830604,\n",
       "         '449_An': 0.041367495855173,\n",
       "         '449_C': 0.000324450947883,\n",
       "         '449_T': 0.00502898969219,\n",
       "         '449_other': 0.054507759244438,\n",
       "         '450': 1.71537216146,\n",
       "         '450_A': 0.261183013046,\n",
       "         '450_An': 0.10577100901006399,\n",
       "         '450_G': 0.0100579793844,\n",
       "         '450_T': 0.376200874071,\n",
       "         '450_other': 0.025631624882789007,\n",
       "         '451': 78.6897372921,\n",
       "         '451_An': 0.000162225473942,\n",
       "         '451_C': 0.00567789158796,\n",
       "         '451_G': 0.00227115663518,\n",
       "         '451_T': 0.019467056873,\n",
       "         '451_other': 0.11647789029018184,\n",
       "         '452': 2.72571241317,\n",
       "         '452_A': 0.894024586893,\n",
       "         '452_An': 1.826658836584568,\n",
       "         '452_C': 0.00227115663518,\n",
       "         '452_T': 0.00292005853095,\n",
       "         '452_other': 0.08403279550179896,\n",
       "         '453': 0.551566611402,\n",
       "         '453_A': 0.0900351380377,\n",
       "         '453_An': 1.4869586941503117,\n",
       "         '453_C': 0.000324450947883,\n",
       "         '453_G': 0.000162225473942,\n",
       "         '453_other': 0.19564392157369112,\n",
       "         '454': 0.544104239601,\n",
       "         '454_A': 0.109826645859,\n",
       "         '454_An': 0.856226051464928,\n",
       "         '454_C': 0.000648901895767,\n",
       "         '454_G': 0.000324450947883,\n",
       "         '454_other': 0.12750922251818295,\n",
       "         '455': 0.346675837813,\n",
       "         '455_A': 0.149734112448,\n",
       "         '455_An': 0.73082576010764,\n",
       "         '455_G': 0.0097335284365,\n",
       "         '455_T': 0.00373118590066,\n",
       "         '455_other': 0.12377803661752293,\n",
       "         '456': 0.094577451308,\n",
       "         '456_A': 0.0426652996467,\n",
       "         '456_An': 0.10220204858327,\n",
       "         '456_other': 0.011193557701972001,\n",
       "         '457': 0.207648606645,\n",
       "         '457_A': 0.15638535688,\n",
       "         '457_An': 0.30336163627060103,\n",
       "         '457_G': 0.0019467056873,\n",
       "         '457_T': 0.00243338210913,\n",
       "         '457_other': 0.04574758365154401,\n",
       "         '458': 0.530477299789,\n",
       "         '458_A': 0.131727084841,\n",
       "         '458_An': 0.174554609961279,\n",
       "         '458_C': 0.000162225473942,\n",
       "         '458_G': 0.0212515370864,\n",
       "         '458_other': 0.059050072514797006,\n",
       "         '459': 0.829134397316,\n",
       "         '459_A': 0.468993845166,\n",
       "         '459_An': 0.254369543140737,\n",
       "         '459_C': 0.000162225473942,\n",
       "         '459_G': 0.0324450947883,\n",
       "         '459_other': 0.026767203200386003,\n",
       "         '460': 0.433304240898,\n",
       "         '460_A': 0.123129134722,\n",
       "         '460_An': 0.06635021884218899,\n",
       "         '460_G': 0.00146002926548,\n",
       "         '460_other': 0.006651244431610999,\n",
       "         '<=386': 0.0614834546239,\n",
       "         '<=386_A': 0.000162225473942,\n",
       "         '<=386_An': 0.00113557831759,\n",
       "         '<=386_T': 0.000162225473942,\n",
       "         '<=386_other': 0.000486676421825,\n",
       "         '>=461': 0.11485563555068497,\n",
       "         '>=461_A': 0.017033674763889,\n",
       "         '>=461_An': 0.005028989692193,\n",
       "         '>=461_G': 0.000324450947883,\n",
       "         '>=461_T': 0.0051912151661319995,\n",
       "         '>=461_other': 0.003406734952772})"
      ]
     },
     "execution_count": 19,
     "metadata": {},
     "output_type": "execute_result"
    }
   ],
   "source": [
    "# test one file\n",
    "bin_hTR_forms(\"/home/msr/Projects/hui-fang/MOLNG-2232/processed_data/ntna_dict_BCFILTER/HeLa_totalRNA_1.tsv\",\n",
    "             min_bin=386, max_bin=461, out_type = 'perc reads')"
   ]
  },
  {
   "cell_type": "code",
   "execution_count": 54,
   "metadata": {
    "hidden": true,
    "run_control": {
     "frozen": false,
     "read_only": false
    }
   },
   "outputs": [
    {
     "data": {
      "text/plain": [
       "Counter({'451': 88.8888888889, '452': 5.55555555556, '453_An': 5.55555555556})"
      ]
     },
     "execution_count": 54,
     "metadata": {},
     "output_type": "execute_result"
    }
   ],
   "source": [
    "\n",
    "# test on file\n",
    "bin_hTR_forms(\"/home/msr/code_examples/hTR_3prime_RACE_analysis_files/processed_data/ntna_dict_BCFILTER/HeLa_totalRNA_25seqs_1_1.tsv\",\n",
    "             min_bin=386, max_bin=461, out_type = 'perc reads')"
   ]
  },
  {
   "cell_type": "code",
   "execution_count": 55,
   "metadata": {
    "hidden": true,
    "run_control": {
     "frozen": false,
     "read_only": false
    }
   },
   "outputs": [
    {
     "data": {
      "text/html": [
       "<div>\n",
       "<style scoped>\n",
       "    .dataframe tbody tr th:only-of-type {\n",
       "        vertical-align: middle;\n",
       "    }\n",
       "\n",
       "    .dataframe tbody tr th {\n",
       "        vertical-align: top;\n",
       "    }\n",
       "\n",
       "    .dataframe thead th {\n",
       "        text-align: right;\n",
       "    }\n",
       "</style>\n",
       "<table border=\"1\" class=\"dataframe\">\n",
       "  <thead>\n",
       "    <tr style=\"text-align: right;\">\n",
       "      <th></th>\n",
       "      <th>450</th>\n",
       "      <th>451</th>\n",
       "      <th>452</th>\n",
       "      <th>452_An</th>\n",
       "      <th>453_An</th>\n",
       "      <th>455</th>\n",
       "      <th>455_A</th>\n",
       "      <th>455_other</th>\n",
       "    </tr>\n",
       "  </thead>\n",
       "  <tbody>\n",
       "    <tr>\n",
       "      <th>HeLa_totalRNA_25seqs_1_1</th>\n",
       "      <td>NaN</td>\n",
       "      <td>88.888889</td>\n",
       "      <td>5.555556</td>\n",
       "      <td>NaN</td>\n",
       "      <td>5.555556</td>\n",
       "      <td>NaN</td>\n",
       "      <td>NaN</td>\n",
       "      <td>NaN</td>\n",
       "    </tr>\n",
       "    <tr>\n",
       "      <th>329_PARNOE_25seqs_1_1</th>\n",
       "      <td>6.25</td>\n",
       "      <td>62.500000</td>\n",
       "      <td>NaN</td>\n",
       "      <td>12.5</td>\n",
       "      <td>NaN</td>\n",
       "      <td>6.25</td>\n",
       "      <td>6.25</td>\n",
       "      <td>6.25</td>\n",
       "    </tr>\n",
       "  </tbody>\n",
       "</table>\n",
       "</div>"
      ],
      "text/plain": [
       "                           450        451       452  452_An    453_An   455  \\\n",
       "HeLa_totalRNA_25seqs_1_1   NaN  88.888889  5.555556     NaN  5.555556   NaN   \n",
       "329_PARNOE_25seqs_1_1     6.25  62.500000       NaN    12.5       NaN  6.25   \n",
       "\n",
       "                          455_A  455_other  \n",
       "HeLa_totalRNA_25seqs_1_1    NaN        NaN  \n",
       "329_PARNOE_25seqs_1_1      6.25       6.25  "
      ]
     },
     "execution_count": 55,
     "metadata": {},
     "output_type": "execute_result"
    }
   ],
   "source": [
    "df = pd.DataFrame()\n",
    "\n",
    "path = \"/home/msr/code_examples/hTR_3prime_RACE_analysis_files/processed_data/ntna_dict_BCFILTER/\"\n",
    "for sample in glob.glob(path+\"*_1.tsv\"):\n",
    "    test = bin_hTR_forms(sample, min_bin=386, max_bin=461, out_type = 'perc reads')\n",
    "    sample = (re.split(r'[.]', sample)[0]).split(\"/\")[-1]\n",
    "    #print sample\n",
    "    temp_df = pd.DataFrame(test, columns=test.keys(), index = [sample])\n",
    "    df = df.append(temp_df)\n",
    "    \n",
    "    \n",
    "#df = df.transpose()\n",
    "#df = df.sort()\n",
    "df"
   ]
  },
  {
   "cell_type": "code",
   "execution_count": 57,
   "metadata": {
    "hidden": true,
    "run_control": {
     "frozen": false,
     "read_only": false
    }
   },
   "outputs": [],
   "source": [
    "# save as excel file \n",
    "writer = pd.ExcelWriter('/home/msr/code_examples/hTR_3prime_RACE_analysis_files/spreadsheets/testcase_hTR_3prime_end_summary.xlsx')\n",
    "df.to_excel(writer,'Sheet1')\n",
    "writer.save()"
   ]
  },
  {
   "cell_type": "code",
   "execution_count": 58,
   "metadata": {
    "hidden": true,
    "run_control": {
     "frozen": false,
     "read_only": false
    }
   },
   "outputs": [
    {
     "data": {
      "text/html": [
       "<div>\n",
       "<style scoped>\n",
       "    .dataframe tbody tr th:only-of-type {\n",
       "        vertical-align: middle;\n",
       "    }\n",
       "\n",
       "    .dataframe tbody tr th {\n",
       "        vertical-align: top;\n",
       "    }\n",
       "\n",
       "    .dataframe thead th {\n",
       "        text-align: right;\n",
       "    }\n",
       "</style>\n",
       "<table border=\"1\" class=\"dataframe\">\n",
       "  <thead>\n",
       "    <tr style=\"text-align: right;\">\n",
       "      <th></th>\n",
       "      <th>450</th>\n",
       "      <th>451</th>\n",
       "      <th>452</th>\n",
       "      <th>452_An</th>\n",
       "      <th>453_An</th>\n",
       "      <th>455</th>\n",
       "      <th>455_A</th>\n",
       "      <th>455_other</th>\n",
       "    </tr>\n",
       "  </thead>\n",
       "  <tbody>\n",
       "    <tr>\n",
       "      <th>HeLa_totalRNA_25seqs_1_1</th>\n",
       "      <td>NaN</td>\n",
       "      <td>16</td>\n",
       "      <td>1.0</td>\n",
       "      <td>NaN</td>\n",
       "      <td>1.0</td>\n",
       "      <td>NaN</td>\n",
       "      <td>NaN</td>\n",
       "      <td>NaN</td>\n",
       "    </tr>\n",
       "    <tr>\n",
       "      <th>329_PARNOE_25seqs_1_1</th>\n",
       "      <td>1.0</td>\n",
       "      <td>10</td>\n",
       "      <td>NaN</td>\n",
       "      <td>2.0</td>\n",
       "      <td>NaN</td>\n",
       "      <td>1.0</td>\n",
       "      <td>1.0</td>\n",
       "      <td>1.0</td>\n",
       "    </tr>\n",
       "  </tbody>\n",
       "</table>\n",
       "</div>"
      ],
      "text/plain": [
       "                          450  451  452  452_An  453_An  455  455_A  455_other\n",
       "HeLa_totalRNA_25seqs_1_1  NaN   16  1.0     NaN     1.0  NaN    NaN        NaN\n",
       "329_PARNOE_25seqs_1_1     1.0   10  NaN     2.0     NaN  1.0    1.0        1.0"
      ]
     },
     "execution_count": 58,
     "metadata": {},
     "output_type": "execute_result"
    }
   ],
   "source": [
    "# same for number of reads \n",
    "df = pd.DataFrame()\n",
    "\n",
    "path = \"/home/msr/code_examples/hTR_3prime_RACE_analysis_files/processed_data/ntna_dict_BCFILTER/\"\n",
    "for sample in glob.glob(path+\"*_1.tsv\"):\n",
    "    test = bin_hTR_forms(sample, min_bin=386, max_bin=461, out_type = 'num reads')\n",
    "    sample = (re.split(r'[.]', sample)[0]).split(\"/\")[-1]\n",
    "    #print sample\n",
    "    temp_df = pd.DataFrame(test, columns=test.keys(), index = [sample])\n",
    "    df = df.append(temp_df)\n",
    "    \n",
    "    \n",
    "#df = df.transpose()\n",
    "#df = df.sort()\n",
    "df"
   ]
  },
  {
   "cell_type": "code",
   "execution_count": 59,
   "metadata": {
    "hidden": true,
    "run_control": {
     "frozen": false,
     "read_only": false
    }
   },
   "outputs": [],
   "source": [
    "writer = pd.ExcelWriter('/home/msr/code_examples/hTR_3prime_RACE_analysis_files/spreadsheets/testcase_number_read_counts_hTR_3prime_end_summary.xlsx')\n",
    "df.to_excel(writer,'Sheet1')\n",
    "writer.save()"
   ]
  },
  {
   "cell_type": "markdown",
   "metadata": {
    "heading_collapsed": true,
    "hidden": true,
    "run_control": {
     "frozen": false,
     "read_only": false
    }
   },
   "source": [
    "### bin into <= 442, 443, ... , 451, ..., 499, >=500"
   ]
  },
  {
   "cell_type": "markdown",
   "metadata": {
    "hidden": true,
    "run_control": {
     "frozen": false,
     "read_only": false
    }
   },
   "source": [
    "> <= 442, <=442+An, <= 442 + other\n",
    "\n",
    "> 443, 443 + An, 443 + other\n",
    "\n",
    "> ...\n",
    "\n",
    "> 451, 451 + An, 451 + other\n",
    "\n",
    "> ...\n",
    "\n",
    "> 458, 458 + An, 458 + other\n",
    "\n",
    "> 459, 459 + An, 459 + other\n",
    "\n",
    "> ...\n",
    "> \\>= 500, >= 500 + An, >= 500 + other\n",
    "\n",
    "    & \n",
    "- hTRend_ + T\n",
    "- hTRend_ + C\n",
    "- hTRend_ + G"
   ]
  },
  {
   "cell_type": "code",
   "execution_count": 60,
   "metadata": {
    "hidden": true,
    "run_control": {
     "frozen": false,
     "read_only": false
    }
   },
   "outputs": [],
   "source": [
    "%%bash\n",
    "\n",
    "mkdir -p /home/msr/code_examples/hTR_3prime_RACE_analysis_files/spreadsheets_leq442gt500_polyA"
   ]
  },
  {
   "cell_type": "code",
   "execution_count": 22,
   "metadata": {
    "hidden": true,
    "run_control": {
     "frozen": false,
     "read_only": false
    },
    "scrolled": true
   },
   "outputs": [
    {
     "data": {
      "text/plain": [
       "Counter({'443': 0.00519121516614,\n",
       "         '443_other': 0.000324450947884,\n",
       "         '444': 0.00421786232248,\n",
       "         '444_An': 0.000648901895767,\n",
       "         '444_other': 0.0048667642182469995,\n",
       "         '445': 0.0133024888632,\n",
       "         '445_T': 0.00113557831759,\n",
       "         '445_other': 0.0019467056872999999,\n",
       "         '446': 0.0295250362574,\n",
       "         '446_A': 0.0113557831759,\n",
       "         '446_An': 0.026118301304659003,\n",
       "         '446_G': 0.0019467056873,\n",
       "         '446_other': 0.009571302962558002,\n",
       "         '447': 0.0403941430115,\n",
       "         '447_G': 0.000162225473942,\n",
       "         '447_T': 0.00210893116124,\n",
       "         '447_other': 0.003244509478835,\n",
       "         '448': 0.138216103798,\n",
       "         '448_A': 0.0337428985799,\n",
       "         '448_An': 0.068945826425209,\n",
       "         '448_C': 0.000324450947883,\n",
       "         '448_other': 0.012653586967457999,\n",
       "         '449': 0.703085204063,\n",
       "         '449_A': 0.0712169830604,\n",
       "         '449_An': 0.041367495855173,\n",
       "         '449_C': 0.000324450947883,\n",
       "         '449_T': 0.00502898969219,\n",
       "         '449_other': 0.054507759244438,\n",
       "         '450': 1.71537216146,\n",
       "         '450_A': 0.261183013046,\n",
       "         '450_An': 0.10577100901006399,\n",
       "         '450_G': 0.0100579793844,\n",
       "         '450_T': 0.376200874071,\n",
       "         '450_other': 0.025631624882789007,\n",
       "         '451': 78.6897372921,\n",
       "         '451_An': 0.000162225473942,\n",
       "         '451_C': 0.00567789158796,\n",
       "         '451_G': 0.00227115663518,\n",
       "         '451_T': 0.019467056873,\n",
       "         '451_other': 0.11647789029018184,\n",
       "         '452': 2.72571241317,\n",
       "         '452_A': 0.894024586893,\n",
       "         '452_An': 1.826658836584568,\n",
       "         '452_C': 0.00227115663518,\n",
       "         '452_T': 0.00292005853095,\n",
       "         '452_other': 0.08403279550179896,\n",
       "         '453': 0.551566611402,\n",
       "         '453_A': 0.0900351380377,\n",
       "         '453_An': 1.4869586941503117,\n",
       "         '453_C': 0.000324450947883,\n",
       "         '453_G': 0.000162225473942,\n",
       "         '453_other': 0.19564392157369112,\n",
       "         '454': 0.544104239601,\n",
       "         '454_A': 0.109826645859,\n",
       "         '454_An': 0.856226051464928,\n",
       "         '454_C': 0.000648901895767,\n",
       "         '454_G': 0.000324450947883,\n",
       "         '454_other': 0.12750922251818295,\n",
       "         '455': 0.346675837813,\n",
       "         '455_A': 0.149734112448,\n",
       "         '455_An': 0.73082576010764,\n",
       "         '455_G': 0.0097335284365,\n",
       "         '455_T': 0.00373118590066,\n",
       "         '455_other': 0.12377803661752293,\n",
       "         '456': 0.094577451308,\n",
       "         '456_A': 0.0426652996467,\n",
       "         '456_An': 0.10220204858327,\n",
       "         '456_other': 0.011193557701972001,\n",
       "         '457': 0.207648606645,\n",
       "         '457_A': 0.15638535688,\n",
       "         '457_An': 0.30336163627060103,\n",
       "         '457_G': 0.0019467056873,\n",
       "         '457_T': 0.00243338210913,\n",
       "         '457_other': 0.04574758365154401,\n",
       "         '458': 0.530477299789,\n",
       "         '458_A': 0.131727084841,\n",
       "         '458_An': 0.174554609961279,\n",
       "         '458_C': 0.000162225473942,\n",
       "         '458_G': 0.0212515370864,\n",
       "         '458_other': 0.059050072514797006,\n",
       "         '459': 0.829134397316,\n",
       "         '459_A': 0.468993845166,\n",
       "         '459_An': 0.254369543140737,\n",
       "         '459_C': 0.000162225473942,\n",
       "         '459_G': 0.0324450947883,\n",
       "         '459_other': 0.026767203200386003,\n",
       "         '460': 0.433304240898,\n",
       "         '460_A': 0.123129134722,\n",
       "         '460_An': 0.06635021884218899,\n",
       "         '460_G': 0.00146002926548,\n",
       "         '460_other': 0.006651244431610999,\n",
       "         '461': 0.0483431912346,\n",
       "         '461_A': 0.013951390759,\n",
       "         '461_An': 0.003244509478834,\n",
       "         '461_T': 0.00502898969219,\n",
       "         '461_other': 0.002757833057005,\n",
       "         '462': 0.00113557831759,\n",
       "         '471': 0.000324450947883,\n",
       "         '475': 0.000486676421825,\n",
       "         '476': 0.00129780379153,\n",
       "         '476_G': 0.000324450947883,\n",
       "         '477': 0.0235226937215,\n",
       "         '478': 0.0181692530815,\n",
       "         '479': 0.00162225473942,\n",
       "         '481': 0.000648901895767,\n",
       "         '481_An': 0.00097335284365,\n",
       "         '483': 0.000486676421825,\n",
       "         '484': 0.00259560758307,\n",
       "         '484_An': 0.000811127369709,\n",
       "         '485': 0.00162225473942,\n",
       "         '486': 0.00178448021336,\n",
       "         '489': 0.000324450947883,\n",
       "         '493': 0.00097335284365,\n",
       "         '<=442': 1.6970406829037943,\n",
       "         '<=442_A': 0.112422253441615,\n",
       "         '<=442_An': 0.05207437713529602,\n",
       "         '<=442_G': 0.00665124443161,\n",
       "         '<=442_T': 0.0038934113746020003,\n",
       "         '<=442_other': 0.37701200144114394,\n",
       "         '>=500': 0.011518008649862,\n",
       "         '>=500_A': 0.003082284004889,\n",
       "         '>=500_T': 0.000162225473942,\n",
       "         '>=500_other': 0.000648901895767})"
      ]
     },
     "execution_count": 22,
     "metadata": {},
     "output_type": "execute_result"
    }
   ],
   "source": [
    "# test one file\n",
    "bin_hTR_forms(\"/home/msr/Projects/hui-fang/MOLNG-2232/processed_data/ntna_dict_BCFILTER/HeLa_totalRNA_1.tsv\",\n",
    "             min_bin=442, max_bin=500, out_type = 'perc reads')"
   ]
  },
  {
   "cell_type": "code",
   "execution_count": 61,
   "metadata": {
    "hidden": true,
    "run_control": {
     "frozen": false,
     "read_only": false
    }
   },
   "outputs": [
    {
     "data": {
      "text/html": [
       "<div>\n",
       "<style scoped>\n",
       "    .dataframe tbody tr th:only-of-type {\n",
       "        vertical-align: middle;\n",
       "    }\n",
       "\n",
       "    .dataframe tbody tr th {\n",
       "        vertical-align: top;\n",
       "    }\n",
       "\n",
       "    .dataframe thead th {\n",
       "        text-align: right;\n",
       "    }\n",
       "</style>\n",
       "<table border=\"1\" class=\"dataframe\">\n",
       "  <thead>\n",
       "    <tr style=\"text-align: right;\">\n",
       "      <th></th>\n",
       "      <th>450</th>\n",
       "      <th>451</th>\n",
       "      <th>452</th>\n",
       "      <th>452_An</th>\n",
       "      <th>453_An</th>\n",
       "      <th>455</th>\n",
       "      <th>455_A</th>\n",
       "      <th>455_other</th>\n",
       "    </tr>\n",
       "  </thead>\n",
       "  <tbody>\n",
       "    <tr>\n",
       "      <th>HeLa_totalRNA_25seqs_1_1</th>\n",
       "      <td>NaN</td>\n",
       "      <td>88.888889</td>\n",
       "      <td>5.555556</td>\n",
       "      <td>NaN</td>\n",
       "      <td>5.555556</td>\n",
       "      <td>NaN</td>\n",
       "      <td>NaN</td>\n",
       "      <td>NaN</td>\n",
       "    </tr>\n",
       "    <tr>\n",
       "      <th>329_PARNOE_25seqs_1_1</th>\n",
       "      <td>6.25</td>\n",
       "      <td>62.500000</td>\n",
       "      <td>NaN</td>\n",
       "      <td>12.5</td>\n",
       "      <td>NaN</td>\n",
       "      <td>6.25</td>\n",
       "      <td>6.25</td>\n",
       "      <td>6.25</td>\n",
       "    </tr>\n",
       "  </tbody>\n",
       "</table>\n",
       "</div>"
      ],
      "text/plain": [
       "                           450        451       452  452_An    453_An   455  \\\n",
       "HeLa_totalRNA_25seqs_1_1   NaN  88.888889  5.555556     NaN  5.555556   NaN   \n",
       "329_PARNOE_25seqs_1_1     6.25  62.500000       NaN    12.5       NaN  6.25   \n",
       "\n",
       "                          455_A  455_other  \n",
       "HeLa_totalRNA_25seqs_1_1    NaN        NaN  \n",
       "329_PARNOE_25seqs_1_1      6.25       6.25  "
      ]
     },
     "execution_count": 61,
     "metadata": {},
     "output_type": "execute_result"
    }
   ],
   "source": [
    "df = pd.DataFrame()\n",
    "\n",
    "path = \"/home/msr/code_examples/hTR_3prime_RACE_analysis_files/processed_data/ntna_dict_BCFILTER/\"\n",
    "for sample in glob.glob(path+\"*_1.tsv\"):\n",
    "    test = bin_hTR_forms(sample, min_bin=442, max_bin=500, out_type = 'perc reads')\n",
    "    sample = (re.split(r'[.]', sample)[0]).split(\"/\")[-1]\n",
    "    #print sample\n",
    "    temp_df = pd.DataFrame(test, columns=test.keys(), index = [sample])\n",
    "    df = df.append(temp_df)\n",
    "    \n",
    "    \n",
    "#df = df.transpose()\n",
    "#df = df.sort()\n",
    "df"
   ]
  },
  {
   "cell_type": "code",
   "execution_count": 62,
   "metadata": {
    "hidden": true,
    "run_control": {
     "frozen": false,
     "read_only": false
    }
   },
   "outputs": [],
   "source": [
    "# save as excel sheet\n",
    "writer = pd.ExcelWriter('/home/msr/code_examples/hTR_3prime_RACE_analysis_files/spreadsheets_leq442gt500_polyA/testcase_hTR_3prime_end_polyA_summary.xlsx')\n",
    "df.to_excel(writer,'Sheet1')\n",
    "writer.save()"
   ]
  },
  {
   "cell_type": "code",
   "execution_count": 63,
   "metadata": {
    "hidden": true,
    "run_control": {
     "frozen": false,
     "read_only": false
    }
   },
   "outputs": [
    {
     "data": {
      "text/html": [
       "<div>\n",
       "<style scoped>\n",
       "    .dataframe tbody tr th:only-of-type {\n",
       "        vertical-align: middle;\n",
       "    }\n",
       "\n",
       "    .dataframe tbody tr th {\n",
       "        vertical-align: top;\n",
       "    }\n",
       "\n",
       "    .dataframe thead th {\n",
       "        text-align: right;\n",
       "    }\n",
       "</style>\n",
       "<table border=\"1\" class=\"dataframe\">\n",
       "  <thead>\n",
       "    <tr style=\"text-align: right;\">\n",
       "      <th></th>\n",
       "      <th>450</th>\n",
       "      <th>451</th>\n",
       "      <th>452</th>\n",
       "      <th>452_An</th>\n",
       "      <th>453_An</th>\n",
       "      <th>455</th>\n",
       "      <th>455_A</th>\n",
       "      <th>455_other</th>\n",
       "    </tr>\n",
       "  </thead>\n",
       "  <tbody>\n",
       "    <tr>\n",
       "      <th>HeLa_totalRNA_25seqs_1_1</th>\n",
       "      <td>NaN</td>\n",
       "      <td>16</td>\n",
       "      <td>1.0</td>\n",
       "      <td>NaN</td>\n",
       "      <td>1.0</td>\n",
       "      <td>NaN</td>\n",
       "      <td>NaN</td>\n",
       "      <td>NaN</td>\n",
       "    </tr>\n",
       "    <tr>\n",
       "      <th>329_PARNOE_25seqs_1_1</th>\n",
       "      <td>1.0</td>\n",
       "      <td>10</td>\n",
       "      <td>NaN</td>\n",
       "      <td>2.0</td>\n",
       "      <td>NaN</td>\n",
       "      <td>1.0</td>\n",
       "      <td>1.0</td>\n",
       "      <td>1.0</td>\n",
       "    </tr>\n",
       "  </tbody>\n",
       "</table>\n",
       "</div>"
      ],
      "text/plain": [
       "                          450  451  452  452_An  453_An  455  455_A  455_other\n",
       "HeLa_totalRNA_25seqs_1_1  NaN   16  1.0     NaN     1.0  NaN    NaN        NaN\n",
       "329_PARNOE_25seqs_1_1     1.0   10  NaN     2.0     NaN  1.0    1.0        1.0"
      ]
     },
     "execution_count": 63,
     "metadata": {},
     "output_type": "execute_result"
    }
   ],
   "source": [
    "# same for number of reads\n",
    "\n",
    "df = pd.DataFrame()\n",
    "\n",
    "path = \"/home/msr/code_examples/hTR_3prime_RACE_analysis_files/processed_data/ntna_dict_BCFILTER/\"\n",
    "for sample in glob.glob(path+\"*_1.tsv\"):\n",
    "    test = bin_hTR_forms(sample, min_bin=442, max_bin=500, out_type = 'num reads')\n",
    "    sample = (re.split(r'[.]', sample)[0]).split(\"/\")[-1]\n",
    "    #print sample\n",
    "    temp_df = pd.DataFrame(test, columns=test.keys(), index = [sample])\n",
    "    df = df.append(temp_df)\n",
    "    \n",
    "    \n",
    "#df = df.transpose()\n",
    "#df = df.sort()\n",
    "\n",
    "df"
   ]
  },
  {
   "cell_type": "code",
   "execution_count": 64,
   "metadata": {
    "hidden": true,
    "run_control": {
     "frozen": false,
     "read_only": false
    }
   },
   "outputs": [],
   "source": [
    "# save num reads as excel file\n",
    "writer = pd.ExcelWriter('/home/msr/code_examples/hTR_3prime_RACE_analysis_files/spreadsheets_leq442gt500_polyA/testcase_read_counts_hTR_3prime_end_polyA_summary.xlsx')\n",
    "df.to_excel(writer,'Sheet1')\n",
    "writer.save()"
   ]
  },
  {
   "cell_type": "markdown",
   "metadata": {
    "collapsed": true,
    "heading_collapsed": true,
    "run_control": {
     "frozen": false,
     "read_only": false
    }
   },
   "source": [
    "## Identify & Plot distribution of polyA tails"
   ]
  },
  {
   "cell_type": "markdown",
   "metadata": {
    "heading_collapsed": true,
    "hidden": true,
    "run_control": {
     "frozen": false,
     "read_only": false
    }
   },
   "source": [
    "### Identify polyA tails"
   ]
  },
  {
   "cell_type": "code",
   "execution_count": null,
   "metadata": {
    "collapsed": true,
    "hidden": true,
    "run_control": {
     "frozen": false,
     "read_only": false
    }
   },
   "outputs": [],
   "source": [
    "%%bash\n",
    "# prepare output directories\n",
    "mkdir -p ./spreadsheets/A_dist_df_10percNonA/\n",
    "mkdir -p ./A_dist_df_10percNonA/\n",
    "mkdir -p ./fig/A_dist_df_10percNonA"
   ]
  },
  {
   "cell_type": "code",
   "execution_count": 31,
   "metadata": {
    "hidden": true,
    "run_control": {
     "frozen": false,
     "read_only": false
    }
   },
   "outputs": [],
   "source": [
    "def get_A_dist(samp, define):\n",
    "    \"\"\" this function takes the ntna tsv file per sample and a threshold \n",
    "    for defining what is concidered a polyA tail. It returns a dictionary where \n",
    "    the key is a tuple of:\n",
    "        (polyA ntna sequene, lenght of the polyA sequence, corresponding hTR ending position)\n",
    "    and the value is the number of times this key is found in the sample.\n",
    "    \n",
    "    The two polyA definitions to choose from are:\n",
    "        (1) pure polyA (no other nt present)\n",
    "        (2) polyA sequence allowing 10% non-As (to accound for sequencing error or a\n",
    "    sloppy poly-A polymerase adding non-As). This threshold can easily be changed to allow \n",
    "    any percent deviation from pure polyA. This threshold only takes effect when the polyA sequence\n",
    "    is at least 10nt. So an ntna sequence with 9 As and 1 non-A will get counted.\n",
    "    \"\"\"\n",
    "    # key = (polyA ntna seq, len, end pos), val = reads\n",
    "    dist_A_dict = Counter() # initialize counter dict\n",
    "\n",
    "    sample = re.split('_1', re.split(r'[/]', samp)[-1])[0] # grab the sample name \n",
    "    \n",
    "    with open(samp, 'r') as fh:\n",
    "\n",
    "        not_A = ['C','G','T'] # this is for computing the pure A\n",
    "\n",
    "        for line in fh:\n",
    "            # extract info from file\n",
    "            ntna = line.split(\"\\t\")[0] # grab ntna seq\n",
    "            end_pos = int(float(line.split(\"\\t\")[1])) # grab hTR ending coordinate\n",
    "            reads = int(line.split(\"\\t\")[2]) # grab number reads\n",
    "            total_reads = int(line.split(\"\\t\")[4]) # grab total reads\n",
    "\n",
    "            # bin the hTR ending coordinates into <= 450 and >=454\n",
    "            if end_pos <= 450.0:\n",
    "                end_pos = '<=450'\n",
    "            elif end_pos >= 454.0:\n",
    "                end_pos = '>=454'\n",
    "                \n",
    "            if len(ntna) != 0: # if an ntna sequence exists\n",
    "                if define == 'pure': # threshold (1) all A's in ntna seq\n",
    "                    pure_A = map(lambda x: x in ntna, not_A) # checks ntna sequence if all As, if so returns True\n",
    "                    if True in pure_A: # if there is a pure polyA sequence then add it do the dict\n",
    "                        key = (ntna, len(ntna), str(end_pos), total_reads, sample)\n",
    "                        dist_A_dict[key] += reads\n",
    "                elif define == 'allow_10%_non': # threshold (2) allow 10% non-A in ntna seq\n",
    "                    non_A = sum(y != 'A' for y in ntna) # count how many times a non-A seq is found in the ntna\n",
    "                    if float(non_A)/float(len(ntna)) <= 0.1: # non-A seq divided by the total length of the seq \n",
    "                                                             # give the fraction of non-A's in ntna\n",
    "                                                             # if this fraction is <= 0.1 then add the seq to the dict\n",
    "                        key = (ntna, len(ntna), str(end_pos), total_reads, sample)\n",
    "                        dist_A_dict[key] += reads\n",
    "            elif len(ntna) == 0 and end_pos == 452:\n",
    "                dist_A_dict[('A', 1, '451', total_reads, sample)] += reads\n",
    "            \n",
    "    return dist_A_dict"
   ]
  },
  {
   "cell_type": "code",
   "execution_count": 36,
   "metadata": {
    "hidden": true,
    "run_control": {
     "frozen": false,
     "read_only": false
    }
   },
   "outputs": [],
   "source": [
    "def make_A_dist_df(A_dist_dict):\n",
    "    \"\"\" this function converts your A_dist_dict into a dataframe for saving\"\"\"\n",
    "    \n",
    "    df = pd.DataFrame(columns=('len_A', 'hTR_end', 'perc_reads', 'sample')) # initialize dataframe\n",
    "   \n",
    "    for key, val in A_dist_dict.items(): # loop through dict\n",
    "            h = [key[1], key[2], (float(val)/float(key[3]))*100, key[4]] # keep length of polyA seq, hTR ending coordinate\n",
    "                                                                 # and compute normalized percent of reads\n",
    "            # add to dataframe\n",
    "            df = df.append(pd.Series(h, index = ['len_A', 'hTR_end', 'perc_reads', 'sample']), \n",
    "                           ignore_index=True)\n",
    "    \n",
    "    return df"
   ]
  },
  {
   "cell_type": "code",
   "execution_count": null,
   "metadata": {
    "collapsed": true,
    "hidden": true,
    "run_control": {
     "frozen": false,
     "read_only": false
    }
   },
   "outputs": [],
   "source": [
    "path = \"./ntna_dict_BCFILTER/\"\n",
    "df_summary = pd.DataFrame(columns=('len_T', 'hTR_end', 'perc_reads', 'sample')) # initialize summary dataframe\n",
    "\n",
    "for sample in os.listdir(path): # for each sample\n",
    "    A_dist = get_A_dist(path + sample, 'allow_10%_non') # call the get_A_dist function with polyA threshold allowing 10% nonA\n",
    "    df_A = make_A_dist_df(A_dist) # conver get_A_dist dict to dataframe\n",
    "    sample = re.split('_1', re.split(r'[.]', sample)[0])[0] # grab the sample name\n",
    "    out_file = \"./processed_data/A_dist_df_10percNonA/\" + sample + \".csv\" # outfile named by sample\n",
    "    df_A.to_csv(out_file, index = False) # save dataframe as csv\n",
    "    \n",
    "    # save as excel spreadsheet, each sample will be a differnt tab\n",
    "    writer = pd.ExcelWriter('./spreadsheets/A_dist_df_10percNonA/' + sample + '.xlsx')\n",
    "    df_A.to_excel(writer, sample)\n",
    "    writer.save()\n",
    "    \n",
    "    df_summary = df_summary.append(df_A)\n",
    "\n",
    "df_summary\n",
    "\n",
    "out_file = \"./processed_data/A_dist_df_10percNonA/sample_summary_Adist.csv\" # outfile\n",
    "df_summary.to_csv(out_file, index = False) # save dataframe as csv\n",
    "\n",
    "# save as excel spreadsheet, each sample will be a differnt tab\n",
    "writer = pd.ExcelWriter('./spreadsheets/A_dist_df_10percNonA/sample_summary_Adist.xlsx')\n",
    "df_summary.to_excel(writer)\n",
    "writer.save()"
   ]
  },
  {
   "cell_type": "code",
   "execution_count": 38,
   "metadata": {
    "hidden": true,
    "run_control": {
     "frozen": false,
     "read_only": false
    },
    "scrolled": true
   },
   "outputs": [
    {
     "data": {
      "text/plain": [
       "Counter({('A', 1, '451', 616426, 'HeLa_totalRNA'): 16802,\n",
       "         ('A', 1, '452', 616426, 'HeLa_totalRNA'): 5511,\n",
       "         ('A', 1, '453', 616426, 'HeLa_totalRNA'): 555,\n",
       "         ('A', 1, '<=450', 616426, 'HeLa_totalRNA'): 3020,\n",
       "         ('A', 1, '>=454', 616426, 'HeLa_totalRNA'): 7394,\n",
       "         ('AA', 2, '452', 616426, 'HeLa_totalRNA'): 2521,\n",
       "         ('AA', 2, '453', 616426, 'HeLa_totalRNA'): 1335,\n",
       "         ('AA', 2, '<=450', 616426, 'HeLa_totalRNA'): 744,\n",
       "         ('AA', 2, '>=454', 616426, 'HeLa_totalRNA'): 3766,\n",
       "         ('AAA', 3, '452', 616426, 'HeLa_totalRNA'): 2226,\n",
       "         ('AAA', 3, '453', 616426, 'HeLa_totalRNA'): 1413,\n",
       "         ('AAA', 3, '<=450', 616426, 'HeLa_totalRNA'): 491,\n",
       "         ('AAA', 3, '>=454', 616426, 'HeLa_totalRNA'): 3462,\n",
       "         ('AAAA', 4, '452', 616426, 'HeLa_totalRNA'): 2042,\n",
       "         ('AAAA', 4, '453', 616426, 'HeLa_totalRNA'): 1901,\n",
       "         ('AAAA', 4, '<=450', 616426, 'HeLa_totalRNA'): 163,\n",
       "         ('AAAA', 4, '>=454', 616426, 'HeLa_totalRNA'): 3579,\n",
       "         ('AAAAA', 5, '452', 616426, 'HeLa_totalRNA'): 1707,\n",
       "         ('AAAAA', 5, '453', 616426, 'HeLa_totalRNA'): 1736,\n",
       "         ('AAAAA', 5, '<=450', 616426, 'HeLa_totalRNA'): 222,\n",
       "         ('AAAAA', 5, '>=454', 616426, 'HeLa_totalRNA'): 2426,\n",
       "         ('AAAAAA', 6, '452', 616426, 'HeLa_totalRNA'): 1171,\n",
       "         ('AAAAAA', 6, '453', 616426, 'HeLa_totalRNA'): 1552,\n",
       "         ('AAAAAA', 6, '<=450', 616426, 'HeLa_totalRNA'): 60,\n",
       "         ('AAAAAA', 6, '>=454', 616426, 'HeLa_totalRNA'): 1015,\n",
       "         ('AAAAAAA', 7, '452', 616426, 'HeLa_totalRNA'): 711,\n",
       "         ('AAAAAAA', 7, '453', 616426, 'HeLa_totalRNA'): 569,\n",
       "         ('AAAAAAA', 7, '<=450', 616426, 'HeLa_totalRNA'): 57,\n",
       "         ('AAAAAAA', 7, '>=454', 616426, 'HeLa_totalRNA'): 583,\n",
       "         ('AAAAAAAA', 8, '452', 616426, 'HeLa_totalRNA'): 418,\n",
       "         ('AAAAAAAA', 8, '453', 616426, 'HeLa_totalRNA'): 322,\n",
       "         ('AAAAAAAA', 8, '<=450', 616426, 'HeLa_totalRNA'): 24,\n",
       "         ('AAAAAAAA', 8, '>=454', 616426, 'HeLa_totalRNA'): 359,\n",
       "         ('AAAAAAAAA', 9, '452', 616426, 'HeLa_totalRNA'): 191,\n",
       "         ('AAAAAAAAA', 9, '453', 616426, 'HeLa_totalRNA'): 184,\n",
       "         ('AAAAAAAAA', 9, '<=450', 616426, 'HeLa_totalRNA'): 36,\n",
       "         ('AAAAAAAAA', 9, '>=454', 616426, 'HeLa_totalRNA'): 87,\n",
       "         ('AAAAAAAAAA', 10, '452', 616426, 'HeLa_totalRNA'): 108,\n",
       "         ('AAAAAAAAAA', 10, '453', 616426, 'HeLa_totalRNA'): 58,\n",
       "         ('AAAAAAAAAA', 10, '<=450', 616426, 'HeLa_totalRNA'): 6,\n",
       "         ('AAAAAAAAAA', 10, '>=454', 616426, 'HeLa_totalRNA'): 34,\n",
       "         ('AAAAAAAAAAA', 11, '452', 616426, 'HeLa_totalRNA'): 70,\n",
       "         ('AAAAAAAAAAA', 11, '453', 616426, 'HeLa_totalRNA'): 26,\n",
       "         ('AAAAAAAAAAA', 11, '<=450', 616426, 'HeLa_totalRNA'): 4,\n",
       "         ('AAAAAAAAAAA', 11, '>=454', 616426, 'HeLa_totalRNA'): 19,\n",
       "         ('AAAAAAAAAAAA', 12, '452', 616426, 'HeLa_totalRNA'): 17,\n",
       "         ('AAAAAAAAAAAA', 12, '453', 616426, 'HeLa_totalRNA'): 20,\n",
       "         ('AAAAAAAAAAAA', 12, '<=450', 616426, 'HeLa_totalRNA'): 1,\n",
       "         ('AAAAAAAAAAAA', 12, '>=454', 616426, 'HeLa_totalRNA'): 2,\n",
       "         ('AAAAAAAAAAAAA', 13, '452', 616426, 'HeLa_totalRNA'): 12,\n",
       "         ('AAAAAAAAAAAAA', 13, '453', 616426, 'HeLa_totalRNA'): 5,\n",
       "         ('AAAAAAAAAAAAA', 13, '<=450', 616426, 'HeLa_totalRNA'): 1,\n",
       "         ('AAAAAAAAAAAAA', 13, '>=454', 616426, 'HeLa_totalRNA'): 7,\n",
       "         ('AAAAAAAAAAAAAA', 14, '452', 616426, 'HeLa_totalRNA'): 7,\n",
       "         ('AAAAAAAAAAAAAA', 14, '453', 616426, 'HeLa_totalRNA'): 3,\n",
       "         ('AAAAAAAAAAAAAA', 14, '>=454', 616426, 'HeLa_totalRNA'): 3,\n",
       "         ('AAAAAAAAAAAAAAA', 15, '452', 616426, 'HeLa_totalRNA'): 9,\n",
       "         ('AAAAAAAAAAAAAAA', 15, '453', 616426, 'HeLa_totalRNA'): 1,\n",
       "         ('AAAAAAAAAAAAAAA', 15, '<=450', 616426, 'HeLa_totalRNA'): 1,\n",
       "         ('AAAAAAAAAAAAAAA', 15, '>=454', 616426, 'HeLa_totalRNA'): 3,\n",
       "         ('AAAAAAAAAAAAAAAA', 16, '452', 616426, 'HeLa_totalRNA'): 15,\n",
       "         ('AAAAAAAAAAAAAAAA', 16, '453', 616426, 'HeLa_totalRNA'): 3,\n",
       "         ('AAAAAAAAAAAAAAAA', 16, '>=454', 616426, 'HeLa_totalRNA'): 5,\n",
       "         ('AAAAAAAAAAAAAAAAA', 17, '452', 616426, 'HeLa_totalRNA'): 4,\n",
       "         ('AAAAAAAAAAAAAAAAA', 17, '453', 616426, 'HeLa_totalRNA'): 3,\n",
       "         ('AAAAAAAAAAAAAAAAA', 17, '<=450', 616426, 'HeLa_totalRNA'): 1,\n",
       "         ('AAAAAAAAAAAAAAAAA', 17, '>=454', 616426, 'HeLa_totalRNA'): 1,\n",
       "         ('AAAAAAAAAAAAAAAAAA', 18, '452', 616426, 'HeLa_totalRNA'): 6,\n",
       "         ('AAAAAAAAAAAAAAAAAA', 18, '<=450', 616426, 'HeLa_totalRNA'): 1,\n",
       "         ('AAAAAAAAAAAAAAAAAAA', 19, '452', 616426, 'HeLa_totalRNA'): 1,\n",
       "         ('AAAAAAAAAAAAAAAAAAAA', 20, '452', 616426, 'HeLa_totalRNA'): 2,\n",
       "         ('AAAAAAAAAAAAAAAAAAAA', 20, '<=450', 616426, 'HeLa_totalRNA'): 1,\n",
       "         ('AAAAAAAAAAAAAAAAAAATAAA', 23, '452', 616426, 'HeLa_totalRNA'): 1,\n",
       "         ('AAAAAAAAAAAAAAAAAAT', 19, '453', 616426, 'HeLa_totalRNA'): 3,\n",
       "         ('AAAAAAAAAAAAAAAT', 16, '452', 616426, 'HeLa_totalRNA'): 1,\n",
       "         ('AAAAAAAAAAAAAAT', 15, '452', 616426, 'HeLa_totalRNA'): 2,\n",
       "         ('AAAAAAAAAAAAT', 13, '452', 616426, 'HeLa_totalRNA'): 7,\n",
       "         ('AAAAAAAAAAAAT', 13, '453', 616426, 'HeLa_totalRNA'): 1,\n",
       "         ('AAAAAAAAAAAG', 12, '453', 616426, 'HeLa_totalRNA'): 3,\n",
       "         ('AAAAAAAAAAAT', 12, '452', 616426, 'HeLa_totalRNA'): 2,\n",
       "         ('AAAAAAAAAAAT', 12, '>=454', 616426, 'HeLa_totalRNA'): 1,\n",
       "         ('AAAAAAAAAAGAA', 13, '>=454', 616426, 'HeLa_totalRNA'): 1,\n",
       "         ('AAAAAAAAAC', 10, '>=454', 616426, 'HeLa_totalRNA'): 2,\n",
       "         ('AAAAAAAAAG', 10, '453', 616426, 'HeLa_totalRNA'): 4,\n",
       "         ('AAAAAAAAAT', 10, '452', 616426, 'HeLa_totalRNA'): 2,\n",
       "         ('AAAAAAAAAT', 10, '453', 616426, 'HeLa_totalRNA'): 3,\n",
       "         ('AAAAAAAAAT', 10, '>=454', 616426, 'HeLa_totalRNA'): 1,\n",
       "         ('AAAAAAAAGA', 10, '453', 616426, 'HeLa_totalRNA'): 7,\n",
       "         ('AAAAAAAATA', 10, '453', 616426, 'HeLa_totalRNA'): 7,\n",
       "         ('AAAAACAAAA', 10, '453', 616426, 'HeLa_totalRNA'): 2,\n",
       "         ('AAAAAGAAAA', 10, '453', 616426, 'HeLa_totalRNA'): 5,\n",
       "         ('AAAAAGAAAAA', 11, '452', 616426, 'HeLa_totalRNA'): 4,\n",
       "         ('AAAAGAAAAAA', 11, '>=454', 616426, 'HeLa_totalRNA'): 3,\n",
       "         ('AAAAGAAAAAAAAAA', 15, '452', 616426, 'HeLa_totalRNA'): 1,\n",
       "         ('AAATAAAAAA', 10, '452', 616426, 'HeLa_totalRNA'): 1,\n",
       "         ('AAGAAAAAAA', 10, '>=454', 616426, 'HeLa_totalRNA'): 4,\n",
       "         ('AGAAAAAAAA', 10, '<=450', 616426, 'HeLa_totalRNA'): 5,\n",
       "         ('AGAAAAAAAAAAAA', 14, '>=454', 616426, 'HeLa_totalRNA'): 3,\n",
       "         ('AGAAAAAAAAAAAAA', 15, '>=454', 616426, 'HeLa_totalRNA'): 1,\n",
       "         ('ATAAAAAAAA', 10, '452', 616426, 'HeLa_totalRNA'): 1,\n",
       "         ('CAAAAAAAAAA', 11, '451', 616426, 'HeLa_totalRNA'): 1})"
      ]
     },
     "execution_count": 38,
     "metadata": {},
     "output_type": "execute_result"
    }
   ],
   "source": [
    "############## testing get_A_dist function #################\n",
    "\n",
    "path = \"/home/msr/Projects/hui-fang/MOLNG-2232/processed_data/ntna_dict_BCFILTER/\"\n",
    "sample = \"HeLa_totalRNA_1.tsv\"\n",
    "A_dist = get_A_dist(path + sample, 'allow_10%_non')\n",
    "A_dist\n",
    "#make_A_dist_df(A_dist)"
   ]
  },
  {
   "cell_type": "markdown",
   "metadata": {
    "heading_collapsed": true,
    "hidden": true,
    "run_control": {
     "frozen": false,
     "read_only": false
    }
   },
   "source": [
    "### Plot polyA tail distribution"
   ]
  },
  {
   "cell_type": "code",
   "execution_count": null,
   "metadata": {
    "collapsed": true,
    "hidden": true,
    "run_control": {
     "frozen": false,
     "read_only": false
    }
   },
   "outputs": [],
   "source": [
    "%%bash\n",
    "# concatonate each Adist per sample into one file\n",
    "for i in ./A_dist_df_10percNonA/*.csv; do cat $i | grep -v \"len_A\" | sed \"s/$/,$(basename $i .csv)/\" >> ./A_dist_df_10percNonA/all_samples.csv; done"
   ]
  },
  {
   "cell_type": "code",
   "execution_count": 1,
   "metadata": {
    "collapsed": true,
    "hidden": true,
    "run_control": {
     "frozen": false,
     "read_only": false
    }
   },
   "outputs": [],
   "source": [
    "## start R kernel\n",
    "library(ggplot2)\n",
    "library(RColorBrewer)"
   ]
  },
  {
   "cell_type": "code",
   "execution_count": 4,
   "metadata": {
    "hidden": true,
    "run_control": {
     "frozen": false,
     "read_only": false
    }
   },
   "outputs": [
    {
     "data": {},
     "metadata": {},
     "output_type": "display_data"
    },
    {
     "data": {
      "image/png": "[encoded data removed]",
      "text/plain": [
       "plot without title"
      ]
     },
     "metadata": {},
     "output_type": "display_data"
    }
   ],
   "source": [
    "# set figure display dimensions\n",
    "options(repr.plot.width=12, repr.plot.height=12)\n",
    "\n",
    "# read in data\n",
    "data <- read.table(file = \"~/Projects/hui-fang/MOLNG-2232/processed_data/A_dist_df_10percNonA/all_samples.csv\",\n",
    "                   header = FALSE, \n",
    "                   sep = \",\")\n",
    "# name cols\n",
    "colnames(data) <- c('len_A', 'hTR_end', 'perc_reads', 'sample')\n",
    "\n",
    "###################### bin data in groups <= 450, 451, 452, 453 & >=454 ######################\n",
    "data_450 <- subset(data, data$hTR_end == \"<=450\")\n",
    "data_451 <- subset(data, hTR_end == \"451\")\n",
    "data_452 <- subset(data, hTR_end == \"452\")\n",
    "data_453 <- subset(data, data$hTR_end == \"453\")\n",
    "data_454 <- subset(data, data$hTR_end == \">=454\")\n",
    "data_bins <- rbind(data_450, data_451, data_452, data_453, data_454)\n",
    "data_bins$hTR_end <- factor(data_bins$hTR_end, \n",
    "                            levels = rev(c(\"<=450\", '451', '452', '453', \">=454\")))\n",
    "################################################################################################\n",
    "\n",
    "# plot dataframe\n",
    "g <- ggplot(data_bins, \n",
    "            aes(x    = len_A, \n",
    "                y    = perc_reads, \n",
    "                fill = hTR_end)) + \n",
    "\n",
    "        geom_bar(width    = 1, \n",
    "                 stat     = 'identity', \n",
    "                 alpha    = 1, \n",
    "                 position = 'stack') +\n",
    "        \n",
    "        scale_y_continuous(limits = c(0, max(data_bins$perc_reads)+5), \n",
    "                           breaks = seq(0, max(data_bins$perc_reads), 5))+\n",
    "        scale_x_continuous(limits = c(0,max(data_bins$len_A)), \n",
    "                           breaks = seq(0, max(data_bins$len_A), 5))+\n",
    "\n",
    "        ggtitle(\"Distribution of polyA lengths (allowing 10% non-A)\")+\n",
    "        xlab(\"Length of polyA\") + ylab(\"Percentage of Reads\") +\n",
    "        scale_fill_manual(name = \"hTR End Position\",\n",
    "                          values = rev(c(\"darkorange2\", \"#74c476\", \n",
    "                                         \"DarkGreen\", \"#7BCCC4\", \"#1F78B4\")))+\n",
    "        theme_bw()+\n",
    "        theme(plot.title   = element_text(size = 20),\n",
    "              axis.text.x  = element_text(size = 20, \n",
    "                                          angle = 90, \n",
    "                                          vjust = 0.5),\n",
    "              axis.text.y  = element_text(size = 20),\n",
    "              axis.title.x = element_text(size = 20),\n",
    "              axis.title.y = element_text(size = 20),\n",
    "              strip.text   = element_text(size = 16),\n",
    "              legend.text  = element_text(size = 20),\n",
    "              legend.title = element_text(size = 20),\n",
    "              legend.key   = element_blank(),\n",
    "              legend.position = 'top') +\n",
    "            facet_wrap(~sample, ncol = 4)\n",
    "\n",
    "# save fig\n",
    "#ggsave(file=\"./fig/A_dist_df_10percNonA/all_samples_polyA_len_stack.pdf\", \n",
    "#       g, width = 14, height = 14)\n",
    "g"
   ]
  },
  {
   "cell_type": "markdown",
   "metadata": {
    "heading_collapsed": true,
    "run_control": {
     "frozen": false,
     "read_only": false
    }
   },
   "source": [
    "## PolyT distribution"
   ]
  },
  {
   "cell_type": "code",
   "execution_count": null,
   "metadata": {
    "hidden": true,
    "run_control": {
     "frozen": false,
     "read_only": false
    }
   },
   "outputs": [],
   "source": [
    "%%bash\n",
    "# prepare output directories\n",
    "mkdir -p ./spreadsheets/T_dist_df_10percNonT/\n",
    "mkdir -p ./processed_data/T_dist_df_10percNonT/"
   ]
  },
  {
   "cell_type": "code",
   "execution_count": 25,
   "metadata": {
    "hidden": true
   },
   "outputs": [],
   "source": [
    "def get_T_dist(samp, define):\n",
    "    \"\"\" this function takes the ntna tsv file per sample and a threshold \n",
    "    for defining what is concidered a polyT tail. It returns a dictionary where \n",
    "    the key is a tuple of:\n",
    "        (polyT ntna sequene, lenght of the polyT sequence, corresponding hTR ending position)\n",
    "    and the value is the number of times this key is found in the sample.\n",
    "    \n",
    "    The two polyT definitions to choose from are:\n",
    "        (1) pure polyT (no other nt present)\n",
    "        (2) polyT sequence allowing 10% non-Ts This threshold can easily be changed to allow \n",
    "    any percent deviation from pure polyT. \n",
    "    \"\"\"\n",
    "    sample = re.split('_1', re.split(r'[/]', samp)[-1])[0] # grab the sample name \n",
    "    \n",
    "    # key = (poly ntna seq, len, end pos), val = reads\n",
    "    dist_T_dict = Counter() # initialize counter dict\n",
    "\n",
    "    with open(samp, 'r') as fh:\n",
    "\n",
    "        not_T = ['C','G','A'] # this is for computing the pure T\n",
    "\n",
    "        for line in fh:\n",
    "            # extract info from file\n",
    "            ntna = line.split(\"\\t\")[0] # grab ntna seq\n",
    "            end_pos = int(float(line.split(\"\\t\")[1])) # grab hTR ending coordinate\n",
    "            reads = int(line.split(\"\\t\")[2]) # grab number reads\n",
    "            total_reads = int(line.split(\"\\t\")[4]) # grab total reads\n",
    "\n",
    "            # bin the hTR ending coordinates into <= 450 and >=454\n",
    "            if end_pos <= 450.0:\n",
    "                end_pos = '<=450'\n",
    "            elif end_pos >= 454.0:\n",
    "                end_pos = '>=454'\n",
    "                \n",
    "            if len(ntna) != 0: # if an ntna sequence exists\n",
    "                if define == 'pure': # threshold (1) all T's in ntna seq\n",
    "                    pure = map(lambda x: x in ntna, not_T) # checks ntna sequence if all Ts, if so returns True\n",
    "                    if True in pure: # if there is a pure polyT sequence then add it do the dict\n",
    "                        key = (ntna, len(ntna), str(end_pos), total_reads, sample)\n",
    "                        dist_T_dict[key] += reads\n",
    "                elif define == 'allow_10%_non': # threshold (2) allow 10% non-T in ntna seq\n",
    "                    non_T = sum(y != 'T' for y in ntna) # count how many times a non-T seq is found in the ntna\n",
    "                    if float(non_T)/float(len(ntna)) <= 0.1: # non-T seq divided by the total length of the seq \n",
    "                                                             # give the fraction of non-T's in ntna\n",
    "                                                             # if this fraction is <= 0.1 then add the seq to the dict\n",
    "                        key = (ntna, len(ntna), str(end_pos), total_reads, sample)\n",
    "                        dist_T_dict[key] += reads\n",
    "    return dist_T_dict"
   ]
  },
  {
   "cell_type": "code",
   "execution_count": 27,
   "metadata": {
    "hidden": true
   },
   "outputs": [],
   "source": [
    "def make_T_dist_df(T_dist_dict):\n",
    "    \"\"\" this function converts your _dist_dict into a dataframe for saving\"\"\"\n",
    "    \n",
    "    df = pd.DataFrame(columns=('len_T', 'hTR_end', 'perc_reads', 'sample')) # initialize dataframe\n",
    "   \n",
    "    for key, val in T_dist_dict.items(): # loop through dict\n",
    "            h = [key[1], key[2], (float(val)/float(key[3]))*100, key[4]] # keep length of poly seq, hTR ending coordinate\n",
    "                                                                 # and compute normalized percent of reads\n",
    "            # add to dataframe\n",
    "            df = df.append(pd.Series(h, index = ['len_T', 'hTR_end', 'perc_reads', 'sample']), \n",
    "                           ignore_index=True)\n",
    "    \n",
    "    return df"
   ]
  },
  {
   "cell_type": "code",
   "execution_count": 29,
   "metadata": {
    "hidden": true
   },
   "outputs": [
    {
     "data": {
      "text/html": [
       "<div>\n",
       "<style scoped>\n",
       "    .dataframe tbody tr th:only-of-type {\n",
       "        vertical-align: middle;\n",
       "    }\n",
       "\n",
       "    .dataframe tbody tr th {\n",
       "        vertical-align: top;\n",
       "    }\n",
       "\n",
       "    .dataframe thead th {\n",
       "        text-align: right;\n",
       "    }\n",
       "</style>\n",
       "<table border=\"1\" class=\"dataframe\">\n",
       "  <thead>\n",
       "    <tr style=\"text-align: right;\">\n",
       "      <th></th>\n",
       "      <th>len_T</th>\n",
       "      <th>hTR_end</th>\n",
       "      <th>perc_reads</th>\n",
       "      <th>sample</th>\n",
       "    </tr>\n",
       "  </thead>\n",
       "  <tbody>\n",
       "    <tr>\n",
       "      <th>0</th>\n",
       "      <td>2</td>\n",
       "      <td>451</td>\n",
       "      <td>0.003393</td>\n",
       "      <td>IP_ARS2_HeLa</td>\n",
       "    </tr>\n",
       "    <tr>\n",
       "      <th>1</th>\n",
       "      <td>4</td>\n",
       "      <td>&gt;=454</td>\n",
       "      <td>0.028616</td>\n",
       "      <td>IP_ARS2_HeLa</td>\n",
       "    </tr>\n",
       "    <tr>\n",
       "      <th>2</th>\n",
       "      <td>7</td>\n",
       "      <td>&gt;=454</td>\n",
       "      <td>0.001536</td>\n",
       "      <td>IP_ARS2_HeLa</td>\n",
       "    </tr>\n",
       "    <tr>\n",
       "      <th>3</th>\n",
       "      <td>12</td>\n",
       "      <td>&lt;=450</td>\n",
       "      <td>0.000256</td>\n",
       "      <td>IP_ARS2_HeLa</td>\n",
       "    </tr>\n",
       "    <tr>\n",
       "      <th>4</th>\n",
       "      <td>8</td>\n",
       "      <td>&gt;=454</td>\n",
       "      <td>0.000128</td>\n",
       "      <td>IP_ARS2_HeLa</td>\n",
       "    </tr>\n",
       "    <tr>\n",
       "      <th>5</th>\n",
       "      <td>3</td>\n",
       "      <td>&lt;=450</td>\n",
       "      <td>0.006978</td>\n",
       "      <td>IP_ARS2_HeLa</td>\n",
       "    </tr>\n",
       "    <tr>\n",
       "      <th>6</th>\n",
       "      <td>23</td>\n",
       "      <td>&lt;=450</td>\n",
       "      <td>0.000064</td>\n",
       "      <td>IP_ARS2_HeLa</td>\n",
       "    </tr>\n",
       "    <tr>\n",
       "      <th>7</th>\n",
       "      <td>6</td>\n",
       "      <td>&gt;=454</td>\n",
       "      <td>0.002241</td>\n",
       "      <td>IP_ARS2_HeLa</td>\n",
       "    </tr>\n",
       "    <tr>\n",
       "      <th>8</th>\n",
       "      <td>21</td>\n",
       "      <td>&lt;=450</td>\n",
       "      <td>0.000128</td>\n",
       "      <td>IP_ARS2_HeLa</td>\n",
       "    </tr>\n",
       "    <tr>\n",
       "      <th>9</th>\n",
       "      <td>2</td>\n",
       "      <td>&lt;=450</td>\n",
       "      <td>0.040331</td>\n",
       "      <td>IP_ARS2_HeLa</td>\n",
       "    </tr>\n",
       "    <tr>\n",
       "      <th>10</th>\n",
       "      <td>11</td>\n",
       "      <td>&lt;=450</td>\n",
       "      <td>0.002433</td>\n",
       "      <td>IP_ARS2_HeLa</td>\n",
       "    </tr>\n",
       "    <tr>\n",
       "      <th>11</th>\n",
       "      <td>22</td>\n",
       "      <td>&lt;=450</td>\n",
       "      <td>0.000064</td>\n",
       "      <td>IP_ARS2_HeLa</td>\n",
       "    </tr>\n",
       "    <tr>\n",
       "      <th>12</th>\n",
       "      <td>2</td>\n",
       "      <td>&gt;=454</td>\n",
       "      <td>0.061648</td>\n",
       "      <td>IP_ARS2_HeLa</td>\n",
       "    </tr>\n",
       "    <tr>\n",
       "      <th>13</th>\n",
       "      <td>13</td>\n",
       "      <td>&lt;=450</td>\n",
       "      <td>0.000576</td>\n",
       "      <td>IP_ARS2_HeLa</td>\n",
       "    </tr>\n",
       "    <tr>\n",
       "      <th>14</th>\n",
       "      <td>15</td>\n",
       "      <td>&lt;=450</td>\n",
       "      <td>0.000320</td>\n",
       "      <td>IP_ARS2_HeLa</td>\n",
       "    </tr>\n",
       "    <tr>\n",
       "      <th>15</th>\n",
       "      <td>1</td>\n",
       "      <td>&gt;=454</td>\n",
       "      <td>0.116959</td>\n",
       "      <td>IP_ARS2_HeLa</td>\n",
       "    </tr>\n",
       "    <tr>\n",
       "      <th>16</th>\n",
       "      <td>1</td>\n",
       "      <td>451</td>\n",
       "      <td>0.061328</td>\n",
       "      <td>IP_ARS2_HeLa</td>\n",
       "    </tr>\n",
       "    <tr>\n",
       "      <th>17</th>\n",
       "      <td>3</td>\n",
       "      <td>451</td>\n",
       "      <td>0.004737</td>\n",
       "      <td>IP_ARS2_HeLa</td>\n",
       "    </tr>\n",
       "    <tr>\n",
       "      <th>18</th>\n",
       "      <td>14</td>\n",
       "      <td>&lt;=450</td>\n",
       "      <td>0.000256</td>\n",
       "      <td>IP_ARS2_HeLa</td>\n",
       "    </tr>\n",
       "    <tr>\n",
       "      <th>19</th>\n",
       "      <td>16</td>\n",
       "      <td>&gt;=454</td>\n",
       "      <td>0.000128</td>\n",
       "      <td>IP_ARS2_HeLa</td>\n",
       "    </tr>\n",
       "    <tr>\n",
       "      <th>20</th>\n",
       "      <td>9</td>\n",
       "      <td>&lt;=450</td>\n",
       "      <td>0.000896</td>\n",
       "      <td>IP_ARS2_HeLa</td>\n",
       "    </tr>\n",
       "    <tr>\n",
       "      <th>21</th>\n",
       "      <td>5</td>\n",
       "      <td>&lt;=450</td>\n",
       "      <td>0.004673</td>\n",
       "      <td>IP_ARS2_HeLa</td>\n",
       "    </tr>\n",
       "    <tr>\n",
       "      <th>22</th>\n",
       "      <td>14</td>\n",
       "      <td>&lt;=450</td>\n",
       "      <td>0.000128</td>\n",
       "      <td>IP_ARS2_HeLa</td>\n",
       "    </tr>\n",
       "    <tr>\n",
       "      <th>23</th>\n",
       "      <td>5</td>\n",
       "      <td>&gt;=454</td>\n",
       "      <td>0.005121</td>\n",
       "      <td>IP_ARS2_HeLa</td>\n",
       "    </tr>\n",
       "    <tr>\n",
       "      <th>24</th>\n",
       "      <td>17</td>\n",
       "      <td>&gt;=454</td>\n",
       "      <td>0.000064</td>\n",
       "      <td>IP_ARS2_HeLa</td>\n",
       "    </tr>\n",
       "    <tr>\n",
       "      <th>25</th>\n",
       "      <td>1</td>\n",
       "      <td>&lt;=450</td>\n",
       "      <td>0.316629</td>\n",
       "      <td>IP_ARS2_HeLa</td>\n",
       "    </tr>\n",
       "    <tr>\n",
       "      <th>26</th>\n",
       "      <td>8</td>\n",
       "      <td>&lt;=450</td>\n",
       "      <td>0.000064</td>\n",
       "      <td>IP_ARS2_HeLa</td>\n",
       "    </tr>\n",
       "    <tr>\n",
       "      <th>27</th>\n",
       "      <td>23</td>\n",
       "      <td>&lt;=450</td>\n",
       "      <td>0.000064</td>\n",
       "      <td>IP_ARS2_HeLa</td>\n",
       "    </tr>\n",
       "    <tr>\n",
       "      <th>28</th>\n",
       "      <td>13</td>\n",
       "      <td>&lt;=450</td>\n",
       "      <td>0.000512</td>\n",
       "      <td>IP_ARS2_HeLa</td>\n",
       "    </tr>\n",
       "    <tr>\n",
       "      <th>29</th>\n",
       "      <td>10</td>\n",
       "      <td>&lt;=450</td>\n",
       "      <td>0.000896</td>\n",
       "      <td>IP_ARS2_HeLa</td>\n",
       "    </tr>\n",
       "    <tr>\n",
       "      <th>...</th>\n",
       "      <td>...</td>\n",
       "      <td>...</td>\n",
       "      <td>...</td>\n",
       "      <td>...</td>\n",
       "    </tr>\n",
       "    <tr>\n",
       "      <th>23</th>\n",
       "      <td>3</td>\n",
       "      <td>&gt;=454</td>\n",
       "      <td>0.004202</td>\n",
       "      <td>329_PARNOE</td>\n",
       "    </tr>\n",
       "    <tr>\n",
       "      <th>24</th>\n",
       "      <td>1</td>\n",
       "      <td>452</td>\n",
       "      <td>0.004071</td>\n",
       "      <td>329_PARNOE</td>\n",
       "    </tr>\n",
       "    <tr>\n",
       "      <th>25</th>\n",
       "      <td>9</td>\n",
       "      <td>&lt;=450</td>\n",
       "      <td>0.002232</td>\n",
       "      <td>329_PARNOE</td>\n",
       "    </tr>\n",
       "    <tr>\n",
       "      <th>0</th>\n",
       "      <td>1</td>\n",
       "      <td>&lt;=450</td>\n",
       "      <td>0.211932</td>\n",
       "      <td>IP_TCAB1_HeLa</td>\n",
       "    </tr>\n",
       "    <tr>\n",
       "      <th>1</th>\n",
       "      <td>4</td>\n",
       "      <td>&lt;=450</td>\n",
       "      <td>0.002210</td>\n",
       "      <td>IP_TCAB1_HeLa</td>\n",
       "    </tr>\n",
       "    <tr>\n",
       "      <th>2</th>\n",
       "      <td>3</td>\n",
       "      <td>&lt;=450</td>\n",
       "      <td>0.006017</td>\n",
       "      <td>IP_TCAB1_HeLa</td>\n",
       "    </tr>\n",
       "    <tr>\n",
       "      <th>3</th>\n",
       "      <td>12</td>\n",
       "      <td>&gt;=454</td>\n",
       "      <td>0.000123</td>\n",
       "      <td>IP_TCAB1_HeLa</td>\n",
       "    </tr>\n",
       "    <tr>\n",
       "      <th>4</th>\n",
       "      <td>2</td>\n",
       "      <td>&lt;=450</td>\n",
       "      <td>0.020260</td>\n",
       "      <td>IP_TCAB1_HeLa</td>\n",
       "    </tr>\n",
       "    <tr>\n",
       "      <th>5</th>\n",
       "      <td>5</td>\n",
       "      <td>&lt;=450</td>\n",
       "      <td>0.000123</td>\n",
       "      <td>IP_TCAB1_HeLa</td>\n",
       "    </tr>\n",
       "    <tr>\n",
       "      <th>6</th>\n",
       "      <td>14</td>\n",
       "      <td>&lt;=450</td>\n",
       "      <td>0.000123</td>\n",
       "      <td>IP_TCAB1_HeLa</td>\n",
       "    </tr>\n",
       "    <tr>\n",
       "      <th>7</th>\n",
       "      <td>19</td>\n",
       "      <td>&gt;=454</td>\n",
       "      <td>0.000123</td>\n",
       "      <td>IP_TCAB1_HeLa</td>\n",
       "    </tr>\n",
       "    <tr>\n",
       "      <th>8</th>\n",
       "      <td>4</td>\n",
       "      <td>&gt;=454</td>\n",
       "      <td>0.002087</td>\n",
       "      <td>IP_TCAB1_HeLa</td>\n",
       "    </tr>\n",
       "    <tr>\n",
       "      <th>9</th>\n",
       "      <td>11</td>\n",
       "      <td>&lt;=450</td>\n",
       "      <td>0.000123</td>\n",
       "      <td>IP_TCAB1_HeLa</td>\n",
       "    </tr>\n",
       "    <tr>\n",
       "      <th>10</th>\n",
       "      <td>2</td>\n",
       "      <td>452</td>\n",
       "      <td>0.000491</td>\n",
       "      <td>IP_TCAB1_HeLa</td>\n",
       "    </tr>\n",
       "    <tr>\n",
       "      <th>11</th>\n",
       "      <td>9</td>\n",
       "      <td>&gt;=454</td>\n",
       "      <td>0.000368</td>\n",
       "      <td>IP_TCAB1_HeLa</td>\n",
       "    </tr>\n",
       "    <tr>\n",
       "      <th>12</th>\n",
       "      <td>6</td>\n",
       "      <td>&gt;=454</td>\n",
       "      <td>0.000123</td>\n",
       "      <td>IP_TCAB1_HeLa</td>\n",
       "    </tr>\n",
       "    <tr>\n",
       "      <th>13</th>\n",
       "      <td>10</td>\n",
       "      <td>451</td>\n",
       "      <td>0.000368</td>\n",
       "      <td>IP_TCAB1_HeLa</td>\n",
       "    </tr>\n",
       "    <tr>\n",
       "      <th>14</th>\n",
       "      <td>1</td>\n",
       "      <td>&gt;=454</td>\n",
       "      <td>0.030574</td>\n",
       "      <td>IP_TCAB1_HeLa</td>\n",
       "    </tr>\n",
       "    <tr>\n",
       "      <th>15</th>\n",
       "      <td>14</td>\n",
       "      <td>&gt;=454</td>\n",
       "      <td>0.000123</td>\n",
       "      <td>IP_TCAB1_HeLa</td>\n",
       "    </tr>\n",
       "    <tr>\n",
       "      <th>16</th>\n",
       "      <td>2</td>\n",
       "      <td>451</td>\n",
       "      <td>0.002947</td>\n",
       "      <td>IP_TCAB1_HeLa</td>\n",
       "    </tr>\n",
       "    <tr>\n",
       "      <th>17</th>\n",
       "      <td>3</td>\n",
       "      <td>451</td>\n",
       "      <td>0.001473</td>\n",
       "      <td>IP_TCAB1_HeLa</td>\n",
       "    </tr>\n",
       "    <tr>\n",
       "      <th>18</th>\n",
       "      <td>2</td>\n",
       "      <td>&gt;=454</td>\n",
       "      <td>0.002824</td>\n",
       "      <td>IP_TCAB1_HeLa</td>\n",
       "    </tr>\n",
       "    <tr>\n",
       "      <th>19</th>\n",
       "      <td>1</td>\n",
       "      <td>451</td>\n",
       "      <td>0.040152</td>\n",
       "      <td>IP_TCAB1_HeLa</td>\n",
       "    </tr>\n",
       "    <tr>\n",
       "      <th>20</th>\n",
       "      <td>12</td>\n",
       "      <td>&lt;=450</td>\n",
       "      <td>0.000123</td>\n",
       "      <td>IP_TCAB1_HeLa</td>\n",
       "    </tr>\n",
       "    <tr>\n",
       "      <th>21</th>\n",
       "      <td>7</td>\n",
       "      <td>&lt;=450</td>\n",
       "      <td>0.000737</td>\n",
       "      <td>IP_TCAB1_HeLa</td>\n",
       "    </tr>\n",
       "    <tr>\n",
       "      <th>22</th>\n",
       "      <td>6</td>\n",
       "      <td>&lt;=450</td>\n",
       "      <td>0.000246</td>\n",
       "      <td>IP_TCAB1_HeLa</td>\n",
       "    </tr>\n",
       "    <tr>\n",
       "      <th>23</th>\n",
       "      <td>3</td>\n",
       "      <td>&gt;=454</td>\n",
       "      <td>0.001473</td>\n",
       "      <td>IP_TCAB1_HeLa</td>\n",
       "    </tr>\n",
       "    <tr>\n",
       "      <th>24</th>\n",
       "      <td>1</td>\n",
       "      <td>452</td>\n",
       "      <td>0.004666</td>\n",
       "      <td>IP_TCAB1_HeLa</td>\n",
       "    </tr>\n",
       "    <tr>\n",
       "      <th>25</th>\n",
       "      <td>7</td>\n",
       "      <td>&gt;=454</td>\n",
       "      <td>0.000368</td>\n",
       "      <td>IP_TCAB1_HeLa</td>\n",
       "    </tr>\n",
       "    <tr>\n",
       "      <th>26</th>\n",
       "      <td>5</td>\n",
       "      <td>&gt;=454</td>\n",
       "      <td>0.000614</td>\n",
       "      <td>IP_TCAB1_HeLa</td>\n",
       "    </tr>\n",
       "  </tbody>\n",
       "</table>\n",
       "<p>731 rows × 4 columns</p>\n",
       "</div>"
      ],
      "text/plain": [
       "   len_T hTR_end  perc_reads         sample\n",
       "0      2     451    0.003393   IP_ARS2_HeLa\n",
       "1      4   >=454    0.028616   IP_ARS2_HeLa\n",
       "2      7   >=454    0.001536   IP_ARS2_HeLa\n",
       "3     12   <=450    0.000256   IP_ARS2_HeLa\n",
       "4      8   >=454    0.000128   IP_ARS2_HeLa\n",
       "5      3   <=450    0.006978   IP_ARS2_HeLa\n",
       "6     23   <=450    0.000064   IP_ARS2_HeLa\n",
       "7      6   >=454    0.002241   IP_ARS2_HeLa\n",
       "8     21   <=450    0.000128   IP_ARS2_HeLa\n",
       "9      2   <=450    0.040331   IP_ARS2_HeLa\n",
       "10    11   <=450    0.002433   IP_ARS2_HeLa\n",
       "11    22   <=450    0.000064   IP_ARS2_HeLa\n",
       "12     2   >=454    0.061648   IP_ARS2_HeLa\n",
       "13    13   <=450    0.000576   IP_ARS2_HeLa\n",
       "14    15   <=450    0.000320   IP_ARS2_HeLa\n",
       "15     1   >=454    0.116959   IP_ARS2_HeLa\n",
       "16     1     451    0.061328   IP_ARS2_HeLa\n",
       "17     3     451    0.004737   IP_ARS2_HeLa\n",
       "18    14   <=450    0.000256   IP_ARS2_HeLa\n",
       "19    16   >=454    0.000128   IP_ARS2_HeLa\n",
       "20     9   <=450    0.000896   IP_ARS2_HeLa\n",
       "21     5   <=450    0.004673   IP_ARS2_HeLa\n",
       "22    14   <=450    0.000128   IP_ARS2_HeLa\n",
       "23     5   >=454    0.005121   IP_ARS2_HeLa\n",
       "24    17   >=454    0.000064   IP_ARS2_HeLa\n",
       "25     1   <=450    0.316629   IP_ARS2_HeLa\n",
       "26     8   <=450    0.000064   IP_ARS2_HeLa\n",
       "27    23   <=450    0.000064   IP_ARS2_HeLa\n",
       "28    13   <=450    0.000512   IP_ARS2_HeLa\n",
       "29    10   <=450    0.000896   IP_ARS2_HeLa\n",
       "..   ...     ...         ...            ...\n",
       "23     3   >=454    0.004202     329_PARNOE\n",
       "24     1     452    0.004071     329_PARNOE\n",
       "25     9   <=450    0.002232     329_PARNOE\n",
       "0      1   <=450    0.211932  IP_TCAB1_HeLa\n",
       "1      4   <=450    0.002210  IP_TCAB1_HeLa\n",
       "2      3   <=450    0.006017  IP_TCAB1_HeLa\n",
       "3     12   >=454    0.000123  IP_TCAB1_HeLa\n",
       "4      2   <=450    0.020260  IP_TCAB1_HeLa\n",
       "5      5   <=450    0.000123  IP_TCAB1_HeLa\n",
       "6     14   <=450    0.000123  IP_TCAB1_HeLa\n",
       "7     19   >=454    0.000123  IP_TCAB1_HeLa\n",
       "8      4   >=454    0.002087  IP_TCAB1_HeLa\n",
       "9     11   <=450    0.000123  IP_TCAB1_HeLa\n",
       "10     2     452    0.000491  IP_TCAB1_HeLa\n",
       "11     9   >=454    0.000368  IP_TCAB1_HeLa\n",
       "12     6   >=454    0.000123  IP_TCAB1_HeLa\n",
       "13    10     451    0.000368  IP_TCAB1_HeLa\n",
       "14     1   >=454    0.030574  IP_TCAB1_HeLa\n",
       "15    14   >=454    0.000123  IP_TCAB1_HeLa\n",
       "16     2     451    0.002947  IP_TCAB1_HeLa\n",
       "17     3     451    0.001473  IP_TCAB1_HeLa\n",
       "18     2   >=454    0.002824  IP_TCAB1_HeLa\n",
       "19     1     451    0.040152  IP_TCAB1_HeLa\n",
       "20    12   <=450    0.000123  IP_TCAB1_HeLa\n",
       "21     7   <=450    0.000737  IP_TCAB1_HeLa\n",
       "22     6   <=450    0.000246  IP_TCAB1_HeLa\n",
       "23     3   >=454    0.001473  IP_TCAB1_HeLa\n",
       "24     1     452    0.004666  IP_TCAB1_HeLa\n",
       "25     7   >=454    0.000368  IP_TCAB1_HeLa\n",
       "26     5   >=454    0.000614  IP_TCAB1_HeLa\n",
       "\n",
       "[731 rows x 4 columns]"
      ]
     },
     "execution_count": 29,
     "metadata": {},
     "output_type": "execute_result"
    }
   ],
   "source": [
    "path = \"/home/msr/Projects/hui-fang/MOLNG-2232/processed_data/ntna_dict_BCFILTER/\"\n",
    "df_summary = pd.DataFrame(columns=('len_T', 'hTR_end', 'perc_reads', 'sample')) # initialize dataframe\n",
    "\n",
    "for sample in os.listdir(path): # for each sample\n",
    "    T_dist = get_T_dist(path + sample, 'allow_10%_non') # call the get_T_dist function with polyT threshold allowing 10% nonT\n",
    "    df_T = make_T_dist_df(T_dist) # convert get_T_dist dict to dataframe\n",
    "    df_summary = df_summary.append(df_T)\n",
    "df_summary\n",
    "\n",
    "out_file = \"./processed_data/T_dist_df_10percNonT/sample_summary_Tdist.csv\" # outfile\n",
    "df_summary.to_csv(out_file, index = False) # save dataframe as csv\n",
    "\n",
    "# save as excel spreadsheet, each sample will be a differnt tab\n",
    "writer = pd.ExcelWriter('./spreadsheets/T_dist_df_10percNonT/sample_summary_Tdist.xlsx')\n",
    "df_summary.to_excel(writer)\n",
    "writer.save()"
   ]
  },
  {
   "cell_type": "code",
   "execution_count": 30,
   "metadata": {
    "hidden": true
   },
   "outputs": [
    {
     "name": "stdout",
     "output_type": "stream",
     "text": [
      "Counter({('T', 1, '<=450', 616426, 'HeLa_totalRNA'): 2394, ('T', 1, '451', 616426, 'HeLa_totalRNA'): 120, ('TT', 2, '<=450', 616426, 'HeLa_totalRNA'): 108, ('T', 1, '>=454', 616426, 'HeLa_totalRNA'): 70, ('TTT', 3, '<=450', 616426, 'HeLa_totalRNA'): 31, ('T', 1, '452', 616426, 'HeLa_totalRNA'): 18, ('TT', 2, '451', 616426, 'HeLa_totalRNA'): 14, ('TTT', 3, '>=454', 616426, 'HeLa_totalRNA'): 6, ('TTTT', 4, '<=450', 616426, 'HeLa_totalRNA'): 5, ('TTTT', 4, '>=454', 616426, 'HeLa_totalRNA'): 3, ('TTTTTTTTTTT', 11, '>=454', 616426, 'HeLa_totalRNA'): 2, ('TTTTTTTATT', 10, '<=450', 616426, 'HeLa_totalRNA'): 2, ('TTTTTTTTTTTT', 12, '>=454', 616426, 'HeLa_totalRNA'): 1, ('TT', 2, '>=454', 616426, 'HeLa_totalRNA'): 1, ('TTTTTTTTTT', 10, '>=454', 616426, 'HeLa_totalRNA'): 1, ('TTTTTTTTTTTTTTTTTAT', 19, '<=450', 616426, 'HeLa_totalRNA'): 1, ('TTTTTTTTTTTTT', 13, '>=454', 616426, 'HeLa_totalRNA'): 1})\n"
     ]
    },
    {
     "data": {
      "text/html": [
       "<div>\n",
       "<style scoped>\n",
       "    .dataframe tbody tr th:only-of-type {\n",
       "        vertical-align: middle;\n",
       "    }\n",
       "\n",
       "    .dataframe tbody tr th {\n",
       "        vertical-align: top;\n",
       "    }\n",
       "\n",
       "    .dataframe thead th {\n",
       "        text-align: right;\n",
       "    }\n",
       "</style>\n",
       "<table border=\"1\" class=\"dataframe\">\n",
       "  <thead>\n",
       "    <tr style=\"text-align: right;\">\n",
       "      <th></th>\n",
       "      <th>len_T</th>\n",
       "      <th>hTR_end</th>\n",
       "      <th>perc_reads</th>\n",
       "      <th>sample</th>\n",
       "    </tr>\n",
       "  </thead>\n",
       "  <tbody>\n",
       "    <tr>\n",
       "      <th>0</th>\n",
       "      <td>3</td>\n",
       "      <td>&gt;=454</td>\n",
       "      <td>0.000973</td>\n",
       "      <td>HeLa_totalRNA</td>\n",
       "    </tr>\n",
       "    <tr>\n",
       "      <th>1</th>\n",
       "      <td>12</td>\n",
       "      <td>&gt;=454</td>\n",
       "      <td>0.000162</td>\n",
       "      <td>HeLa_totalRNA</td>\n",
       "    </tr>\n",
       "    <tr>\n",
       "      <th>2</th>\n",
       "      <td>2</td>\n",
       "      <td>&gt;=454</td>\n",
       "      <td>0.000162</td>\n",
       "      <td>HeLa_totalRNA</td>\n",
       "    </tr>\n",
       "    <tr>\n",
       "      <th>3</th>\n",
       "      <td>11</td>\n",
       "      <td>&gt;=454</td>\n",
       "      <td>0.000324</td>\n",
       "      <td>HeLa_totalRNA</td>\n",
       "    </tr>\n",
       "    <tr>\n",
       "      <th>4</th>\n",
       "      <td>10</td>\n",
       "      <td>&gt;=454</td>\n",
       "      <td>0.000162</td>\n",
       "      <td>HeLa_totalRNA</td>\n",
       "    </tr>\n",
       "    <tr>\n",
       "      <th>5</th>\n",
       "      <td>19</td>\n",
       "      <td>&lt;=450</td>\n",
       "      <td>0.000162</td>\n",
       "      <td>HeLa_totalRNA</td>\n",
       "    </tr>\n",
       "    <tr>\n",
       "      <th>6</th>\n",
       "      <td>13</td>\n",
       "      <td>&gt;=454</td>\n",
       "      <td>0.000162</td>\n",
       "      <td>HeLa_totalRNA</td>\n",
       "    </tr>\n",
       "    <tr>\n",
       "      <th>7</th>\n",
       "      <td>4</td>\n",
       "      <td>&gt;=454</td>\n",
       "      <td>0.000487</td>\n",
       "      <td>HeLa_totalRNA</td>\n",
       "    </tr>\n",
       "    <tr>\n",
       "      <th>8</th>\n",
       "      <td>10</td>\n",
       "      <td>&lt;=450</td>\n",
       "      <td>0.000324</td>\n",
       "      <td>HeLa_totalRNA</td>\n",
       "    </tr>\n",
       "    <tr>\n",
       "      <th>9</th>\n",
       "      <td>1</td>\n",
       "      <td>451</td>\n",
       "      <td>0.019467</td>\n",
       "      <td>HeLa_totalRNA</td>\n",
       "    </tr>\n",
       "    <tr>\n",
       "      <th>10</th>\n",
       "      <td>1</td>\n",
       "      <td>&gt;=454</td>\n",
       "      <td>0.011356</td>\n",
       "      <td>HeLa_totalRNA</td>\n",
       "    </tr>\n",
       "    <tr>\n",
       "      <th>11</th>\n",
       "      <td>2</td>\n",
       "      <td>&lt;=450</td>\n",
       "      <td>0.017520</td>\n",
       "      <td>HeLa_totalRNA</td>\n",
       "    </tr>\n",
       "    <tr>\n",
       "      <th>12</th>\n",
       "      <td>4</td>\n",
       "      <td>&lt;=450</td>\n",
       "      <td>0.000811</td>\n",
       "      <td>HeLa_totalRNA</td>\n",
       "    </tr>\n",
       "    <tr>\n",
       "      <th>13</th>\n",
       "      <td>1</td>\n",
       "      <td>&lt;=450</td>\n",
       "      <td>0.388368</td>\n",
       "      <td>HeLa_totalRNA</td>\n",
       "    </tr>\n",
       "    <tr>\n",
       "      <th>14</th>\n",
       "      <td>1</td>\n",
       "      <td>452</td>\n",
       "      <td>0.002920</td>\n",
       "      <td>HeLa_totalRNA</td>\n",
       "    </tr>\n",
       "    <tr>\n",
       "      <th>15</th>\n",
       "      <td>2</td>\n",
       "      <td>451</td>\n",
       "      <td>0.002271</td>\n",
       "      <td>HeLa_totalRNA</td>\n",
       "    </tr>\n",
       "    <tr>\n",
       "      <th>16</th>\n",
       "      <td>3</td>\n",
       "      <td>&lt;=450</td>\n",
       "      <td>0.005029</td>\n",
       "      <td>HeLa_totalRNA</td>\n",
       "    </tr>\n",
       "  </tbody>\n",
       "</table>\n",
       "</div>"
      ],
      "text/plain": [
       "   len_T hTR_end  perc_reads         sample\n",
       "0      3   >=454    0.000973  HeLa_totalRNA\n",
       "1     12   >=454    0.000162  HeLa_totalRNA\n",
       "2      2   >=454    0.000162  HeLa_totalRNA\n",
       "3     11   >=454    0.000324  HeLa_totalRNA\n",
       "4     10   >=454    0.000162  HeLa_totalRNA\n",
       "5     19   <=450    0.000162  HeLa_totalRNA\n",
       "6     13   >=454    0.000162  HeLa_totalRNA\n",
       "7      4   >=454    0.000487  HeLa_totalRNA\n",
       "8     10   <=450    0.000324  HeLa_totalRNA\n",
       "9      1     451    0.019467  HeLa_totalRNA\n",
       "10     1   >=454    0.011356  HeLa_totalRNA\n",
       "11     2   <=450    0.017520  HeLa_totalRNA\n",
       "12     4   <=450    0.000811  HeLa_totalRNA\n",
       "13     1   <=450    0.388368  HeLa_totalRNA\n",
       "14     1     452    0.002920  HeLa_totalRNA\n",
       "15     2     451    0.002271  HeLa_totalRNA\n",
       "16     3   <=450    0.005029  HeLa_totalRNA"
      ]
     },
     "execution_count": 30,
     "metadata": {},
     "output_type": "execute_result"
    }
   ],
   "source": [
    "############## testing get_T_dist function #################\n",
    "\n",
    "path = \"/home/msr/Projects/hui-fang/MOLNG-2232/processed_data/ntna_dict_BCFILTER/\"\n",
    "sample = \"HeLa_totalRNA_1.tsv\"\n",
    "T_dist = get_T_dist(path + sample, 'allow_10%_non')\n",
    "print T_dist\n",
    "df_T = make_T_dist_df(T_dist) # convert get_T_dist dict to dataframe\n",
    "df_T"
   ]
  },
  {
   "cell_type": "markdown",
   "metadata": {
    "heading_collapsed": true,
    "run_control": {
     "frozen": false,
     "read_only": false
    }
   },
   "source": [
    "## PolyG distribution"
   ]
  },
  {
   "cell_type": "code",
   "execution_count": null,
   "metadata": {
    "hidden": true,
    "run_control": {
     "frozen": false,
     "read_only": false
    }
   },
   "outputs": [],
   "source": [
    "%%bash\n",
    "# prepare output directories\n",
    "mkdir -p ./spreadsheets/G_dist_df_10percNonG/\n",
    "mkdir -p ./processed_data/G_dist_df_10percNonG/"
   ]
  },
  {
   "cell_type": "code",
   "execution_count": 39,
   "metadata": {
    "hidden": true
   },
   "outputs": [],
   "source": [
    "def get_G_dist(samp, define):\n",
    "    \"\"\" this function takes the ntna tsv file per sample and a threshold \n",
    "    for defining what is concidered a poly tail. It returns a dictionary where \n",
    "    the key is a tuple of:\n",
    "        (polyN ntna sequene, lenght of the polyT sequence, corresponding hTR ending position)\n",
    "    and the value is the number of times this key is found in the sample.\n",
    "    \n",
    "    The two polyN definitions to choose from are:\n",
    "        (1) pure polyN (no other nt present)\n",
    "        (2) polyN sequence allowing 10% non-Gs This threshold can easily be changed to allow \n",
    "    any percent deviation from pure polyG. \n",
    "    \"\"\"\n",
    "    sample = re.split('_1', re.split(r'[/]', samp)[-1])[0] # grab the sample name \n",
    "    \n",
    "    # key = (poly ntna seq, len, end pos), val = reads\n",
    "    dist_G_dict = Counter() # initialize counter dict\n",
    "\n",
    "    with open(samp, 'r') as fh:\n",
    "\n",
    "        not_G = ['C','T','A'] # this is for computing the pure G\n",
    "\n",
    "        for line in fh:\n",
    "            # extract info from file\n",
    "            ntna = line.split(\"\\t\")[0] # grab ntna seq\n",
    "            end_pos = int(float(line.split(\"\\t\")[1])) # grab hTR ending coordinate\n",
    "            reads = int(line.split(\"\\t\")[2]) # grab number reads\n",
    "            total_reads = int(line.split(\"\\t\")[4]) # grab total reads\n",
    "\n",
    "            # bin the hTR ending coordinates into <= 450 and >=454\n",
    "            if end_pos <= 450.0:\n",
    "                end_pos = '<=450'\n",
    "            elif end_pos >= 454.0:\n",
    "                end_pos = '>=454'\n",
    "                \n",
    "            if len(ntna) != 0: # if an ntna sequence exists\n",
    "                if define == 'pure': # threshold (1) all G's in ntna seq\n",
    "                    pure = map(lambda x: x in ntna, not_G) # checks ntna sequence if all Gs, if so returns True\n",
    "                    if True in pure: # if there is a pure polyG sequence then add it do the dict\n",
    "                        key = (ntna, len(ntna), str(end_pos), total_reads, sample)\n",
    "                        dist_G_dict[key] += reads\n",
    "                elif define == 'allow_10%_non': # threshold (2) allow 10% non-G in ntna seq\n",
    "                    non_G = sum(y != 'G' for y in ntna) # count how many times a non-G seq is found in the ntna\n",
    "                    if float(non_G)/float(len(ntna)) <= 0.1: # non-G seq divided by the total length of the seq \n",
    "                                                             # give the fraction of non-G's in ntna\n",
    "                                                             # if this fraction is <= 0.1 then add the seq to the dict\n",
    "                        key = (ntna, len(ntna), str(end_pos), total_reads, sample)\n",
    "                        dist_G_dict[key] += reads\n",
    "    return dist_G_dict"
   ]
  },
  {
   "cell_type": "code",
   "execution_count": 40,
   "metadata": {
    "hidden": true
   },
   "outputs": [],
   "source": [
    "def make_G_dist_df(G_dist_dict):\n",
    "    \"\"\" this function converts your _dist_dict into a dataframe for saving\"\"\"\n",
    "    \n",
    "    df = pd.DataFrame(columns=('len_G', 'hTR_end', 'perc_reads', 'sample')) # initialize dataframe\n",
    "   \n",
    "    for key, val in G_dist_dict.items(): # loop through dict\n",
    "            h = [key[1], key[2], (float(val)/float(key[3]))*100, key[4]] # keep length of poly seq, hTR ending coordinate\n",
    "                                                                 # and compute normalized percent of reads\n",
    "            # add to dataframe\n",
    "            df = df.append(pd.Series(h, index = ['len_G', 'hTR_end', 'perc_reads', 'sample']), \n",
    "                           ignore_index=True)\n",
    "    \n",
    "    return df"
   ]
  },
  {
   "cell_type": "code",
   "execution_count": null,
   "metadata": {
    "hidden": true
   },
   "outputs": [],
   "source": [
    "path = \"/home/msr/Projects/hui-fang/MOLNG-2232/processed_data/ntna_dict_BCFILTER/\"\n",
    "df_summary = pd.DataFrame(columns=('len_G', 'hTR_end', 'perc_reads', 'sample')) # initialize dataframe\n",
    "\n",
    "for sample in os.listdir(path): # for each sample\n",
    "    G_dist = get_G_dist(path + sample, 'allow_10%_non') # call the get_G_dist function with polyG threshold allowing 10% nonG\n",
    "    df_G = make_G_dist_df(G_dist) # convert get_G_dist dict to dataframe\n",
    "    df_summary = df_summary.append(df_G)\n",
    "df_summary\n",
    "\n",
    "out_file = \"./processed_data/G_dist_df_10percNonG/sample_summary_Gdist.csv\" # outfile\n",
    "df_summary.to_csv(out_file, index = False) # save dataframe as csv\n",
    "\n",
    "# save as excel spreadsheet, each sample will be a differnt tab\n",
    "writer = pd.ExcelWriter('./spreadsheets/G_dist_df_10percNonG/sample_summary_Gdist.xlsx')\n",
    "df_summary.to_excel(writer)\n",
    "writer.save()"
   ]
  },
  {
   "cell_type": "code",
   "execution_count": 41,
   "metadata": {
    "hidden": true
   },
   "outputs": [
    {
     "name": "stdout",
     "output_type": "stream",
     "text": [
      "Counter({('G', 1, '>=454', 616426, 'HeLa_totalRNA'): 416, ('G', 1, '<=450', 616426, 'HeLa_totalRNA'): 116, ('GG', 2, '451', 616426, 'HeLa_totalRNA'): 17, ('G', 1, '451', 616426, 'HeLa_totalRNA'): 14, ('GG', 2, '>=454', 616426, 'HeLa_totalRNA'): 7, ('GGG', 3, '451', 616426, 'HeLa_totalRNA'): 5, ('GGG', 3, '<=450', 616426, 'HeLa_totalRNA'): 1, ('G', 1, '453', 616426, 'HeLa_totalRNA'): 1})\n"
     ]
    },
    {
     "data": {
      "text/html": [
       "<div>\n",
       "<style scoped>\n",
       "    .dataframe tbody tr th:only-of-type {\n",
       "        vertical-align: middle;\n",
       "    }\n",
       "\n",
       "    .dataframe tbody tr th {\n",
       "        vertical-align: top;\n",
       "    }\n",
       "\n",
       "    .dataframe thead th {\n",
       "        text-align: right;\n",
       "    }\n",
       "</style>\n",
       "<table border=\"1\" class=\"dataframe\">\n",
       "  <thead>\n",
       "    <tr style=\"text-align: right;\">\n",
       "      <th></th>\n",
       "      <th>len_G</th>\n",
       "      <th>hTR_end</th>\n",
       "      <th>perc_reads</th>\n",
       "      <th>sample</th>\n",
       "    </tr>\n",
       "  </thead>\n",
       "  <tbody>\n",
       "    <tr>\n",
       "      <th>0</th>\n",
       "      <td>1</td>\n",
       "      <td>&lt;=450</td>\n",
       "      <td>0.018818</td>\n",
       "      <td>HeLa_totalRNA</td>\n",
       "    </tr>\n",
       "    <tr>\n",
       "      <th>1</th>\n",
       "      <td>3</td>\n",
       "      <td>&lt;=450</td>\n",
       "      <td>0.000162</td>\n",
       "      <td>HeLa_totalRNA</td>\n",
       "    </tr>\n",
       "    <tr>\n",
       "      <th>2</th>\n",
       "      <td>2</td>\n",
       "      <td>451</td>\n",
       "      <td>0.002758</td>\n",
       "      <td>HeLa_totalRNA</td>\n",
       "    </tr>\n",
       "    <tr>\n",
       "      <th>3</th>\n",
       "      <td>3</td>\n",
       "      <td>451</td>\n",
       "      <td>0.000811</td>\n",
       "      <td>HeLa_totalRNA</td>\n",
       "    </tr>\n",
       "    <tr>\n",
       "      <th>4</th>\n",
       "      <td>1</td>\n",
       "      <td>&gt;=454</td>\n",
       "      <td>0.067486</td>\n",
       "      <td>HeLa_totalRNA</td>\n",
       "    </tr>\n",
       "    <tr>\n",
       "      <th>5</th>\n",
       "      <td>2</td>\n",
       "      <td>&gt;=454</td>\n",
       "      <td>0.001136</td>\n",
       "      <td>HeLa_totalRNA</td>\n",
       "    </tr>\n",
       "    <tr>\n",
       "      <th>6</th>\n",
       "      <td>1</td>\n",
       "      <td>453</td>\n",
       "      <td>0.000162</td>\n",
       "      <td>HeLa_totalRNA</td>\n",
       "    </tr>\n",
       "    <tr>\n",
       "      <th>7</th>\n",
       "      <td>1</td>\n",
       "      <td>451</td>\n",
       "      <td>0.002271</td>\n",
       "      <td>HeLa_totalRNA</td>\n",
       "    </tr>\n",
       "  </tbody>\n",
       "</table>\n",
       "</div>"
      ],
      "text/plain": [
       "  len_G hTR_end  perc_reads         sample\n",
       "0     1   <=450    0.018818  HeLa_totalRNA\n",
       "1     3   <=450    0.000162  HeLa_totalRNA\n",
       "2     2     451    0.002758  HeLa_totalRNA\n",
       "3     3     451    0.000811  HeLa_totalRNA\n",
       "4     1   >=454    0.067486  HeLa_totalRNA\n",
       "5     2   >=454    0.001136  HeLa_totalRNA\n",
       "6     1     453    0.000162  HeLa_totalRNA\n",
       "7     1     451    0.002271  HeLa_totalRNA"
      ]
     },
     "execution_count": 41,
     "metadata": {},
     "output_type": "execute_result"
    }
   ],
   "source": [
    "############## testing get_T_dist function #################\n",
    "\n",
    "path = \"/home/msr/Projects/hui-fang/MOLNG-2232/processed_data/ntna_dict_BCFILTER/\"\n",
    "sample = \"HeLa_totalRNA_1.tsv\"\n",
    "G_dist = get_G_dist(path + sample, 'allow_10%_non')\n",
    "print G_dist\n",
    "df_G = make_G_dist_df(G_dist) # convert get_G_dist dict to dataframe\n",
    "df_G"
   ]
  },
  {
   "cell_type": "markdown",
   "metadata": {
    "heading_collapsed": true,
    "run_control": {
     "frozen": false,
     "read_only": false
    }
   },
   "source": [
    "## PolyC distribution"
   ]
  },
  {
   "cell_type": "code",
   "execution_count": null,
   "metadata": {
    "hidden": true
   },
   "outputs": [],
   "source": [
    "%%bash\n",
    "# prepare output directories\n",
    "mkdir -p ./spreadsheets/C_dist_df_10percNonC/\n",
    "mkdir -p ./processed_data/C_dist_df_10percNonC/"
   ]
  },
  {
   "cell_type": "code",
   "execution_count": 42,
   "metadata": {
    "hidden": true,
    "run_control": {
     "frozen": false,
     "read_only": false
    }
   },
   "outputs": [],
   "source": [
    "def get_C_dist(samp, define):\n",
    "    \"\"\" this function takes the ntna tsv file per sample and a threshold \n",
    "    for defining what is concidered a poly tail. It returns a dictionary where \n",
    "    the key is a tuple of:\n",
    "        (polyN ntna sequene, lenght of the polyT sequence, corresponding hTR ending position)\n",
    "    and the value is the number of times this key is found in the sample.\n",
    "    \n",
    "    The two polyN definitions to choose from are:\n",
    "        (1) pure polyN (no other nt present)\n",
    "        (2) polyN sequence allowing 10% non-Cs This threshold can easily be changed to allow \n",
    "    any percent deviation from pure polyC. \n",
    "    \"\"\"\n",
    "    sample = re.split('_1', re.split(r'[/]', samp)[-1])[0] # grab the sample name \n",
    "    \n",
    "    # key = (poly ntna seq, len, end pos), val = reads\n",
    "    dist_C_dict = Counter() # initialize counter dict\n",
    "\n",
    "    with open(samp, 'r') as fh:\n",
    "\n",
    "        not_C = ['G','T','A'] # this is for computing the pure C\n",
    "\n",
    "        for line in fh:\n",
    "            # extract info from file\n",
    "            ntna = line.split(\"\\t\")[0] # grab ntna seq\n",
    "            end_pos = int(float(line.split(\"\\t\")[1])) # grab hTR ending coordinate\n",
    "            reads = int(line.split(\"\\t\")[2]) # grab number reads\n",
    "            total_reads = int(line.split(\"\\t\")[4]) # grab total reads\n",
    "\n",
    "            # bin the hTR ending coordinates into <= 450 and >=454\n",
    "            if end_pos <= 450.0:\n",
    "                end_pos = '<=450'\n",
    "            elif end_pos >= 454.0:\n",
    "                end_pos = '>=454'\n",
    "                \n",
    "            if len(ntna) != 0: # if an ntna sequence exists\n",
    "                if define == 'pure': # threshold (1) all C's in ntna seq\n",
    "                    pure = map(lambda x: x in ntna, not_C) # checks ntna sequence if all Cs, if so returns True\n",
    "                    if True in pure: # if there is a pure polyC sequence then add it do the dict\n",
    "                        key = (ntna, len(ntna), str(end_pos), total_reads, sample)\n",
    "                        dist_C_dict[key] += reads\n",
    "                elif define == 'allow_10%_non': # threshold (2) allow 10% non-G in ntna seq\n",
    "                    non_C = sum(y != 'C' for y in ntna) # count how many times a non-G seq is found in the ntna\n",
    "                    if float(non_C)/float(len(ntna)) <= 0.1: # non-C seq divided by the total length of the seq \n",
    "                                                             # give the fraction of non-C's in ntna\n",
    "                                                             # if this fraction is <= 0.1 then add the seq to the dict\n",
    "                        key = (ntna, len(ntna), str(end_pos), total_reads, sample)\n",
    "                        dist_C_dict[key] += reads\n",
    "    return dist_C_dict"
   ]
  },
  {
   "cell_type": "code",
   "execution_count": 43,
   "metadata": {
    "hidden": true
   },
   "outputs": [],
   "source": [
    "def make_C_dist_df(C_dist_dict):\n",
    "    \"\"\" this function converts your _dist_dict into a dataframe for saving\"\"\"\n",
    "    \n",
    "    df = pd.DataFrame(columns=('len_C', 'hTR_end', 'perc_reads', 'sample')) # initialize dataframe\n",
    "   \n",
    "    for key, val in C_dist_dict.items(): # loop through dict\n",
    "            h = [key[1], key[2], (float(val)/float(key[3]))*100, key[4]] # keep length of poly seq, hTR ending coordinate\n",
    "                                                                 # and compute normalized percent of reads\n",
    "            # add to dataframe\n",
    "            df = df.append(pd.Series(h, index = ['len_C', 'hTR_end', 'perc_reads', 'sample']), \n",
    "                           ignore_index=True)\n",
    "    \n",
    "    return df"
   ]
  },
  {
   "cell_type": "code",
   "execution_count": null,
   "metadata": {
    "hidden": true
   },
   "outputs": [],
   "source": [
    "path = \"/home/msr/Projects/hui-fang/MOLNG-2232/processed_data/ntna_dict_BCFILTER/\"\n",
    "df_summary = pd.DataFrame(columns=('len_C', 'hTR_end', 'perc_reads', 'sample')) # initialize dataframe\n",
    "\n",
    "for sample in os.listdir(path): # for each sample\n",
    "    C_dist = get_C_dist(path + sample, 'allow_10%_non') # call the get_C_dist function with polyC threshold allowing 10% nonC\n",
    "    df_C = make_C_dist_df(C_dist) # convert get_C_dist dict to dataframe\n",
    "    df_summary = df_summary.append(df_C)\n",
    "df_summary\n",
    "\n",
    "out_file = \"./processed_data/C_dist_df_10percNonC/sample_summary_Cdist.csv\" # outfile\n",
    "df_summary.to_csv(out_file, index = False) # save dataframe as csv\n",
    "\n",
    "# save as excel spreadsheet, each sample will be a differnt tab\n",
    "writer = pd.ExcelWriter('./spreadsheets/C_dist_df_10percNonC/sample_summary_Cdist.xlsx')\n",
    "df_summary.to_excel(writer)\n",
    "writer.save()"
   ]
  },
  {
   "cell_type": "code",
   "execution_count": 44,
   "metadata": {
    "hidden": true
   },
   "outputs": [
    {
     "name": "stdout",
     "output_type": "stream",
     "text": [
      "Counter({('C', 1, '451', 616426, 'HeLa_totalRNA'): 35, ('CC', 2, '<=450', 616426, 'HeLa_totalRNA'): 20, ('C', 1, '452', 616426, 'HeLa_totalRNA'): 14, ('C', 1, '>=454', 616426, 'HeLa_totalRNA'): 6, ('CC', 2, '451', 616426, 'HeLa_totalRNA'): 5, ('C', 1, '<=450', 616426, 'HeLa_totalRNA'): 4, ('C', 1, '453', 616426, 'HeLa_totalRNA'): 2, ('CC', 2, '>=454', 616426, 'HeLa_totalRNA'): 1})\n"
     ]
    },
    {
     "data": {
      "text/html": [
       "<div>\n",
       "<style scoped>\n",
       "    .dataframe tbody tr th:only-of-type {\n",
       "        vertical-align: middle;\n",
       "    }\n",
       "\n",
       "    .dataframe tbody tr th {\n",
       "        vertical-align: top;\n",
       "    }\n",
       "\n",
       "    .dataframe thead th {\n",
       "        text-align: right;\n",
       "    }\n",
       "</style>\n",
       "<table border=\"1\" class=\"dataframe\">\n",
       "  <thead>\n",
       "    <tr style=\"text-align: right;\">\n",
       "      <th></th>\n",
       "      <th>len_C</th>\n",
       "      <th>hTR_end</th>\n",
       "      <th>perc_reads</th>\n",
       "      <th>sample</th>\n",
       "    </tr>\n",
       "  </thead>\n",
       "  <tbody>\n",
       "    <tr>\n",
       "      <th>0</th>\n",
       "      <td>1</td>\n",
       "      <td>453</td>\n",
       "      <td>0.000324</td>\n",
       "      <td>HeLa_totalRNA</td>\n",
       "    </tr>\n",
       "    <tr>\n",
       "      <th>1</th>\n",
       "      <td>1</td>\n",
       "      <td>&lt;=450</td>\n",
       "      <td>0.000649</td>\n",
       "      <td>HeLa_totalRNA</td>\n",
       "    </tr>\n",
       "    <tr>\n",
       "      <th>2</th>\n",
       "      <td>1</td>\n",
       "      <td>452</td>\n",
       "      <td>0.002271</td>\n",
       "      <td>HeLa_totalRNA</td>\n",
       "    </tr>\n",
       "    <tr>\n",
       "      <th>3</th>\n",
       "      <td>1</td>\n",
       "      <td>451</td>\n",
       "      <td>0.005678</td>\n",
       "      <td>HeLa_totalRNA</td>\n",
       "    </tr>\n",
       "    <tr>\n",
       "      <th>4</th>\n",
       "      <td>1</td>\n",
       "      <td>&gt;=454</td>\n",
       "      <td>0.000973</td>\n",
       "      <td>HeLa_totalRNA</td>\n",
       "    </tr>\n",
       "    <tr>\n",
       "      <th>5</th>\n",
       "      <td>2</td>\n",
       "      <td>&lt;=450</td>\n",
       "      <td>0.003245</td>\n",
       "      <td>HeLa_totalRNA</td>\n",
       "    </tr>\n",
       "    <tr>\n",
       "      <th>6</th>\n",
       "      <td>2</td>\n",
       "      <td>&gt;=454</td>\n",
       "      <td>0.000162</td>\n",
       "      <td>HeLa_totalRNA</td>\n",
       "    </tr>\n",
       "    <tr>\n",
       "      <th>7</th>\n",
       "      <td>2</td>\n",
       "      <td>451</td>\n",
       "      <td>0.000811</td>\n",
       "      <td>HeLa_totalRNA</td>\n",
       "    </tr>\n",
       "  </tbody>\n",
       "</table>\n",
       "</div>"
      ],
      "text/plain": [
       "  len_C hTR_end  perc_reads         sample\n",
       "0     1     453    0.000324  HeLa_totalRNA\n",
       "1     1   <=450    0.000649  HeLa_totalRNA\n",
       "2     1     452    0.002271  HeLa_totalRNA\n",
       "3     1     451    0.005678  HeLa_totalRNA\n",
       "4     1   >=454    0.000973  HeLa_totalRNA\n",
       "5     2   <=450    0.003245  HeLa_totalRNA\n",
       "6     2   >=454    0.000162  HeLa_totalRNA\n",
       "7     2     451    0.000811  HeLa_totalRNA"
      ]
     },
     "execution_count": 44,
     "metadata": {},
     "output_type": "execute_result"
    }
   ],
   "source": [
    "############## testing get_T_dist function #################\n",
    "\n",
    "path = \"/home/msr/Projects/hui-fang/MOLNG-2232/processed_data/ntna_dict_BCFILTER/\"\n",
    "sample = \"HeLa_totalRNA_1.tsv\"\n",
    "C_dist = get_C_dist(path + sample, 'allow_10%_non')\n",
    "print C_dist\n",
    "df_C = make_C_dist_df(C_dist) # convert get_C_dist dict to dataframe\n",
    "df_C"
   ]
  }
 ],
 "metadata": {
  "kernelspec": {
   "display_name": "Python 2",
   "language": "python",
   "name": "python2"
  },
  "language_info": {
   "codemirror_mode": {
    "name": "ipython",
    "version": 2
   },
   "file_extension": ".py",
   "mimetype": "text/x-python",
   "name": "python",
   "nbconvert_exporter": "python",
   "pygments_lexer": "ipython2",
   "version": "2.7.13"
  },
  "toc": {
   "colors": {
    "hover_highlight": "#DAA520",
    "running_highlight": "#FF0000",
    "selected_highlight": "#FFD700"
   },
   "moveMenuLeft": true,
   "nav_menu": {
    "height": "84px",
    "width": "252px"
   },
   "navigate_menu": true,
   "number_sections": true,
   "sideBar": false,
   "threshold": 4,
   "toc_cell": false,
   "toc_position": {
    "height": "497px",
    "left": "460px",
    "right": "301px",
    "top": "184px",
    "width": "600px"
   },
   "toc_section_display": "block",
   "toc_window_display": false
  }
 },
 "nbformat": 4,
 "nbformat_minor": 2
}
